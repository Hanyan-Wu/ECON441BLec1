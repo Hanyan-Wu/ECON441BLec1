{
  "cells": [
    {
      "cell_type": "markdown",
      "metadata": {
        "id": "view-in-github",
        "colab_type": "text"
      },
      "source": [
        "<a href=\"https://colab.research.google.com/github/Hanyan-Wu/MachineLearningLab/blob/main/NYSE%20prediction%20using%20ML.ipynb\" target=\"_parent\"><img src=\"https://colab.research.google.com/assets/colab-badge.svg\" alt=\"Open In Colab\"/></a>"
      ]
    },
    {
      "cell_type": "code",
      "execution_count": null,
      "id": "2bccbc45",
      "metadata": {
        "id": "2bccbc45"
      },
      "outputs": [],
      "source": [
        "# Load the pandas library\n",
        "import pandas as pd\n",
        "# Load numpy for array manipulation\n",
        "import numpy as np\n",
        "# Load seaborn plotting library\n",
        "import seaborn as sns\n",
        "import matplotlib.pyplot as plt\n",
        "# For read file from url\n",
        "import io\n",
        "import requests\n",
        "\n",
        "# Set font sizes in plots\n",
        "sns.set(font_scale = 1.)\n",
        "# Display all columns\n",
        "pd.set_option('display.max_columns', None)"
      ]
    },
    {
      "cell_type": "markdown",
      "id": "ad8342cc",
      "metadata": {
        "id": "ad8342cc"
      },
      "source": [
        "# New York Stock Exchange (NYSE) data (1962-1986) (10 pts)"
      ]
    },
    {
      "cell_type": "markdown",
      "id": "77d1bb57",
      "metadata": {
        "id": "77d1bb57"
      },
      "source": [
        "The [NYSE.cvs](https://raw.githubusercontent.com/ucla-econ-425t/2023winter/master/slides/data/NYSE.csv) file contains three daily time series from the New York Stock Exchange (NYSE) for the period Dec 3, 1962-Dec 31, 1986 (6,051 trading days).\n",
        "\n",
        "- `Log trading volume` ($v_t$): This is the fraction of all outstanding shares that are traded on that day, relative to a 100-day moving average of past turnover, on the log scale.\n",
        "\n",
        "- `Dow Jones return` ($r_t$): This is the difference between the log of the Dow Jones Industrial Index on consecutive trading days.\n",
        "\n",
        "- `Log volatility` ($z_t$): This is based on the absolute values of daily price movements."
      ]
    },
    {
      "cell_type": "code",
      "execution_count": null,
      "id": "09eb78aa",
      "metadata": {
        "id": "09eb78aa",
        "outputId": "144a6004-c439-4efe-923c-1725a778a943"
      },
      "outputs": [
        {
          "data": {
            "text/html": [
              "<div>\n",
              "<style scoped>\n",
              "    .dataframe tbody tr th:only-of-type {\n",
              "        vertical-align: middle;\n",
              "    }\n",
              "\n",
              "    .dataframe tbody tr th {\n",
              "        vertical-align: top;\n",
              "    }\n",
              "\n",
              "    .dataframe thead th {\n",
              "        text-align: right;\n",
              "    }\n",
              "</style>\n",
              "<table border=\"1\" class=\"dataframe\">\n",
              "  <thead>\n",
              "    <tr style=\"text-align: right;\">\n",
              "      <th></th>\n",
              "      <th>day_of_week</th>\n",
              "      <th>DJ_return</th>\n",
              "      <th>log_volume</th>\n",
              "      <th>log_volatility</th>\n",
              "      <th>train</th>\n",
              "    </tr>\n",
              "    <tr>\n",
              "      <th>date</th>\n",
              "      <th></th>\n",
              "      <th></th>\n",
              "      <th></th>\n",
              "      <th></th>\n",
              "      <th></th>\n",
              "    </tr>\n",
              "  </thead>\n",
              "  <tbody>\n",
              "    <tr>\n",
              "      <th>1962-12-03</th>\n",
              "      <td>mon</td>\n",
              "      <td>-0.004461</td>\n",
              "      <td>0.032573</td>\n",
              "      <td>-13.127403</td>\n",
              "      <td>True</td>\n",
              "    </tr>\n",
              "    <tr>\n",
              "      <th>1962-12-04</th>\n",
              "      <td>tues</td>\n",
              "      <td>0.007813</td>\n",
              "      <td>0.346202</td>\n",
              "      <td>-11.749305</td>\n",
              "      <td>True</td>\n",
              "    </tr>\n",
              "    <tr>\n",
              "      <th>1962-12-05</th>\n",
              "      <td>wed</td>\n",
              "      <td>0.003845</td>\n",
              "      <td>0.525306</td>\n",
              "      <td>-11.665609</td>\n",
              "      <td>True</td>\n",
              "    </tr>\n",
              "    <tr>\n",
              "      <th>1962-12-06</th>\n",
              "      <td>thur</td>\n",
              "      <td>-0.003462</td>\n",
              "      <td>0.210182</td>\n",
              "      <td>-11.626772</td>\n",
              "      <td>True</td>\n",
              "    </tr>\n",
              "    <tr>\n",
              "      <th>1962-12-07</th>\n",
              "      <td>fri</td>\n",
              "      <td>0.000568</td>\n",
              "      <td>0.044187</td>\n",
              "      <td>-11.728130</td>\n",
              "      <td>True</td>\n",
              "    </tr>\n",
              "    <tr>\n",
              "      <th>...</th>\n",
              "      <td>...</td>\n",
              "      <td>...</td>\n",
              "      <td>...</td>\n",
              "      <td>...</td>\n",
              "      <td>...</td>\n",
              "    </tr>\n",
              "    <tr>\n",
              "      <th>1986-12-24</th>\n",
              "      <td>wed</td>\n",
              "      <td>0.006514</td>\n",
              "      <td>-0.236104</td>\n",
              "      <td>-9.807366</td>\n",
              "      <td>False</td>\n",
              "    </tr>\n",
              "    <tr>\n",
              "      <th>1986-12-26</th>\n",
              "      <td>fri</td>\n",
              "      <td>0.001825</td>\n",
              "      <td>-1.322425</td>\n",
              "      <td>-9.906025</td>\n",
              "      <td>False</td>\n",
              "    </tr>\n",
              "    <tr>\n",
              "      <th>1986-12-29</th>\n",
              "      <td>mon</td>\n",
              "      <td>-0.009515</td>\n",
              "      <td>-0.371237</td>\n",
              "      <td>-9.827660</td>\n",
              "      <td>False</td>\n",
              "    </tr>\n",
              "    <tr>\n",
              "      <th>1986-12-30</th>\n",
              "      <td>tues</td>\n",
              "      <td>-0.001837</td>\n",
              "      <td>-0.385638</td>\n",
              "      <td>-9.926091</td>\n",
              "      <td>False</td>\n",
              "    </tr>\n",
              "    <tr>\n",
              "      <th>1986-12-31</th>\n",
              "      <td>wed</td>\n",
              "      <td>-0.006655</td>\n",
              "      <td>-0.264986</td>\n",
              "      <td>-9.935527</td>\n",
              "      <td>False</td>\n",
              "    </tr>\n",
              "  </tbody>\n",
              "</table>\n",
              "<p>6051 rows × 5 columns</p>\n",
              "</div>"
            ],
            "text/plain": [
              "           day_of_week  DJ_return  log_volume  log_volatility  train\n",
              "date                                                                \n",
              "1962-12-03         mon  -0.004461    0.032573      -13.127403   True\n",
              "1962-12-04        tues   0.007813    0.346202      -11.749305   True\n",
              "1962-12-05         wed   0.003845    0.525306      -11.665609   True\n",
              "1962-12-06        thur  -0.003462    0.210182      -11.626772   True\n",
              "1962-12-07         fri   0.000568    0.044187      -11.728130   True\n",
              "...                ...        ...         ...             ...    ...\n",
              "1986-12-24         wed   0.006514   -0.236104       -9.807366  False\n",
              "1986-12-26         fri   0.001825   -1.322425       -9.906025  False\n",
              "1986-12-29         mon  -0.009515   -0.371237       -9.827660  False\n",
              "1986-12-30        tues  -0.001837   -0.385638       -9.926091  False\n",
              "1986-12-31         wed  -0.006655   -0.264986       -9.935527  False\n",
              "\n",
              "[6051 rows x 5 columns]"
            ]
          },
          "execution_count": 2,
          "metadata": {},
          "output_type": "execute_result"
        }
      ],
      "source": [
        "# Read in NYSE data from url\n",
        "url = \"https://raw.githubusercontent.com/ucla-econ-425t/2023winter/master/slides/data/NYSE.csv\"\n",
        "s = requests.get(url).content.decode('utf-8')\n",
        "NYSE = pd.read_csv(io.StringIO(s), index_col = 0)\n",
        "NYSE"
      ]
    },
    {
      "cell_type": "markdown",
      "id": "c6dd42d6",
      "metadata": {
        "id": "c6dd42d6"
      },
      "source": [
        "Do a similar plot for (1) the correlation between $v_t$ and lag $l$ `Dow Jones return` $r_{t-l}$ and (2) correlation between $v_t$ and lag $l$ `Log volatility` $z_{t-l}$."
      ]
    },
    {
      "cell_type": "code",
      "execution_count": null,
      "id": "a5ba93c4",
      "metadata": {
        "id": "a5ba93c4"
      },
      "outputs": [],
      "source": [
        "from statsmodels.graphics.tsaplots import plot_acf"
      ]
    },
    {
      "cell_type": "code",
      "execution_count": null,
      "id": "4ee2ca69",
      "metadata": {
        "id": "4ee2ca69"
      },
      "outputs": [],
      "source": [
        "# Define the maximum time lag L\n",
        "L = 20\n",
        "\n",
        "# Compute the correlation for each time lag\n",
        "corr_vals_r = np.zeros(L+1)\n",
        "\n",
        "corr_vals_r[0] = np.corrcoef(NYSE['log_volume'], NYSE['DJ_return'])[0,1]\n",
        "\n",
        "for l in range(1,L+1):\n",
        "    corr_vals_r[l] = np.corrcoef(NYSE['log_volume'][l:], NYSE['DJ_return'][:-l])[0,1]"
      ]
    },
    {
      "cell_type": "code",
      "execution_count": null,
      "id": "8a74ff3b",
      "metadata": {
        "id": "8a74ff3b",
        "outputId": "bd6ac478-e661-4679-bbe1-40712540a4aa"
      },
      "outputs": [
        {
          "data": {
            "image/png": "[encoded data removed]",
            "text/plain": [
              "<Figure size 720x360 with 1 Axes>"
            ]
          },
          "metadata": {},
          "output_type": "display_data"
        }
      ],
      "source": [
        "# Plot the correlation like an ACF plot\n",
        "fig_r, ax_r = plt.subplots(figsize=(10,5))\n",
        "\n",
        "ax_r.stem(range(L+1), corr_vals_r, linefmt='b-', markerfmt='bo', basefmt='k-')\n",
        "ax_r.axhline(y=0, color='b')\n",
        "ax_r.set_xlabel('Lag')\n",
        "ax_r.set_ylabel('Correlation')\n",
        "ax_r.set_title('Correlogram between v_t and r_{t-l}')\n",
        "\n",
        "plt.show()"
      ]
    },
    {
      "cell_type": "code",
      "execution_count": null,
      "id": "b0247dd8",
      "metadata": {
        "id": "b0247dd8"
      },
      "outputs": [],
      "source": [
        "# Compute the correlation for each time lag\n",
        "corr_vals_z = np.zeros(L+1)\n",
        "\n",
        "corr_vals_z[0] = np.corrcoef(NYSE['log_volume'], NYSE['log_volatility'])[0,1]\n",
        "\n",
        "for l in range(1, L+1):\n",
        "    corr_vals_z[l] = np.corrcoef(NYSE['log_volume'][l:], NYSE['log_volatility'][:-l])[0,1]"
      ]
    },
    {
      "cell_type": "code",
      "execution_count": null,
      "id": "a9555a96",
      "metadata": {
        "id": "a9555a96",
        "outputId": "1e03c368-1d06-45c4-972e-11abbfcfab78"
      },
      "outputs": [
        {
          "data": {
            "image/png": "[encoded data removed]",
            "text/plain": [
              "<Figure size 720x360 with 1 Axes>"
            ]
          },
          "metadata": {},
          "output_type": "display_data"
        }
      ],
      "source": [
        "# Plot the correlation like an ACF plot\n",
        "fig_z, ax_z = plt.subplots(figsize=(10,5))\n",
        "\n",
        "ax_z.stem(range(L+1), corr_vals_z, linefmt='b-', markerfmt='bo', basefmt='k-')\n",
        "ax_z.axhline(y=0, color='b')\n",
        "ax_z.set_xlabel('Lag')\n",
        "ax_z.set_ylabel('Correlation')\n",
        "ax_z.set_title('Correlogram between v_t and z_{t-l}')\n",
        "\n",
        "plt.show()"
      ]
    },
    {
      "cell_type": "markdown",
      "id": "6f36a862",
      "metadata": {
        "id": "6f36a862"
      },
      "source": [
        "# Project goal"
      ]
    },
    {
      "cell_type": "markdown",
      "id": "12d2d846",
      "metadata": {
        "id": "12d2d846"
      },
      "source": [
        "Our goal is to forecast daily `Log trading volume`, using various machine learning algorithms we learnt in this class.\n",
        "\n",
        "The data set is already split into train (before Jan 1st, 1980, $n_{train} = 4,281$) and test (after Jan 1st, 1980, $n_{test} = 1,770$) sets.\n",
        "\n",
        "In general, we will tune the lag $L$ to acheive best forecasting performance. In this project, we would fix $L = 5$. That is we always use the previous five trading days’ data to forecast today’s `log trading volume`.\n",
        "\n",
        "Pay attention to the nuance of splitting time series data for cross validation. Study and use the [`TimeSeriesSplit`](https://scikit-learn.org/stable/modules/generated/sklearn.model_selection.TimeSeriesSplit.html) in Scikit-Learn. Make sure to use the same splits when tuning different machine learning algorithms.\n",
        "\n",
        "Use the $R^2$ between forecast and actual values as the cross validation and test evaluation crtierion."
      ]
    },
    {
      "cell_type": "markdown",
      "id": "6fb1c2b8",
      "metadata": {
        "id": "6fb1c2b8"
      },
      "source": [
        "# Baseline method (20 pts)"
      ]
    },
    {
      "cell_type": "markdown",
      "id": "86d496e2",
      "metadata": {
        "id": "86d496e2"
      },
      "source": [
        "We use the straw man (use yesterday’s value of `log trading volume` to predict that of today) as the baseline method.\n",
        "\n",
        "Evaluate the $R^2$ of this method on the test data."
      ]
    },
    {
      "cell_type": "code",
      "execution_count": null,
      "id": "3b513b01",
      "metadata": {
        "id": "3b513b01"
      },
      "outputs": [],
      "source": [
        "from sklearn.model_selection import TimeSeriesSplit"
      ]
    },
    {
      "cell_type": "code",
      "execution_count": null,
      "id": "34d22e2a",
      "metadata": {
        "id": "34d22e2a"
      },
      "outputs": [],
      "source": [
        "# Define X and y\n",
        "X_other = NYSE[NYSE['train'] == True].copy().drop(['day_of_week', 'train'], axis = 1)\n",
        "y_other = NYSE[NYSE['train'] == True]['log_volume'].values"
      ]
    },
    {
      "cell_type": "code",
      "execution_count": null,
      "id": "1c817004",
      "metadata": {
        "id": "1c817004",
        "outputId": "2092fd50-e0f5-4d51-aba4-43fe7b549c9b"
      },
      "outputs": [
        {
          "data": {
            "text/plain": [
              "array([ 0.032573,  0.346202,  0.525306, ..., -0.137014, -0.041932,\n",
              "       -0.125945])"
            ]
          },
          "execution_count": 10,
          "metadata": {},
          "output_type": "execute_result"
        }
      ],
      "source": [
        "y_other"
      ]
    },
    {
      "cell_type": "code",
      "execution_count": null,
      "id": "cdd5def7",
      "metadata": {
        "id": "cdd5def7",
        "outputId": "e82be1f4-83c4-4b80-c3e3-ac5501daf302"
      },
      "outputs": [
        {
          "data": {
            "text/plain": [
              "(4281,)"
            ]
          },
          "execution_count": 11,
          "metadata": {},
          "output_type": "execute_result"
        }
      ],
      "source": [
        "y_other.shape"
      ]
    },
    {
      "cell_type": "code",
      "execution_count": null,
      "id": "8a8bbf71",
      "metadata": {
        "id": "8a8bbf71"
      },
      "outputs": [],
      "source": [
        "# Define TimeSeriesSplits with 5 splits\n",
        "tscv = TimeSeriesSplit(n_splits=5)"
      ]
    },
    {
      "cell_type": "code",
      "execution_count": null,
      "id": "ba8d00b9",
      "metadata": {
        "id": "ba8d00b9"
      },
      "outputs": [],
      "source": [
        "from sklearn.metrics import r2_score"
      ]
    },
    {
      "cell_type": "code",
      "execution_count": null,
      "id": "c763f311",
      "metadata": {
        "id": "c763f311"
      },
      "outputs": [],
      "source": [
        "# Cross Validation\n",
        "cvr2_base_lst = []\n",
        "\n",
        "for trn_index, tst_index in tscv.split(X_other):\n",
        "    # Split the data into train and test sets\n",
        "    X_trn, X_tst = X_other.iloc[trn_index], X_other.iloc[tst_index]\n",
        "    y_trn, y_tst = y_other[trn_index], y_other[tst_index]\n",
        "\n",
        "    # Use the previous five trading days' data to forecast today's log trading volume\n",
        "    X_trn = np.array([X_trn.iloc[i-5:i].values.flatten() for i in range(5, len(X_trn)+1)])\n",
        "    y_trn = y_trn[5:]\n",
        "    X_tst = np.array([X_tst.iloc[i-5:i].values.flatten() for i in range(5, len(X_tst)+1)])\n",
        "    y_tst = y_tst[5:]\n",
        "\n",
        "    # Baseline model\n",
        "    y_pred_base = y_tst[:-1]\n",
        "    r2_base = r2_score(y_tst[1:], y_pred_base)\n",
        "\n",
        "    # Store cvr2\n",
        "    cvr2_base_lst.append(r2_base)\n",
        "\n",
        "#Calculate the average r2\n",
        "cvr2_base = np.mean(cvr2_base_lst)"
      ]
    },
    {
      "cell_type": "code",
      "execution_count": null,
      "id": "e7f170a5",
      "metadata": {
        "id": "e7f170a5",
        "outputId": "0567a244-199a-4cae-b5c5-b7cc0a1abc48"
      },
      "outputs": [
        {
          "name": "stdout",
          "output_type": "stream",
          "text": [
            "The CV R square of the baseline method is 0.4035.\n"
          ]
        }
      ],
      "source": [
        "print(f'The CV R square of the baseline method is {round(cvr2_base,4)}.')"
      ]
    },
    {
      "cell_type": "code",
      "execution_count": null,
      "id": "f7147648",
      "metadata": {
        "id": "f7147648"
      },
      "outputs": [],
      "source": [
        "# Define the test data set\n",
        "X_test = NYSE[NYSE['train'] == False].copy().drop(['day_of_week', 'train'], axis = 1)\n",
        "y_test = NYSE[NYSE['train'] == False]['log_volume'].values"
      ]
    },
    {
      "cell_type": "code",
      "execution_count": null,
      "id": "b8a717c9",
      "metadata": {
        "id": "b8a717c9",
        "outputId": "86b1f989-01d2-4284-a472-e50846981ddc"
      },
      "outputs": [
        {
          "data": {
            "text/plain": [
              "array([ 0.117599,  0.33163 ,  0.078033, ..., -0.371237, -0.385638,\n",
              "       -0.264986])"
            ]
          },
          "execution_count": 17,
          "metadata": {},
          "output_type": "execute_result"
        }
      ],
      "source": [
        "y_test"
      ]
    },
    {
      "cell_type": "code",
      "execution_count": null,
      "id": "54c266de",
      "metadata": {
        "id": "54c266de",
        "outputId": "e49f5542-39c8-4da4-f960-fdc01e7c103f"
      },
      "outputs": [
        {
          "data": {
            "text/plain": [
              "(1770,)"
            ]
          },
          "execution_count": 18,
          "metadata": {},
          "output_type": "execute_result"
        }
      ],
      "source": [
        "y_test.shape"
      ]
    },
    {
      "cell_type": "code",
      "execution_count": null,
      "id": "23098721",
      "metadata": {
        "id": "23098721"
      },
      "outputs": [],
      "source": [
        "# Calculate the R square on test set\n",
        "y_base = y_test[:-1]\n",
        "testr2_base = r2_score(y_test[1:], y_base)"
      ]
    },
    {
      "cell_type": "code",
      "execution_count": null,
      "id": "ab298e80",
      "metadata": {
        "id": "ab298e80",
        "outputId": "d1384510-e3e7-4af4-be07-5dbcc64fb91b"
      },
      "outputs": [
        {
          "name": "stdout",
          "output_type": "stream",
          "text": [
            "The test R square of the baseline method is 0.1807.\n"
          ]
        }
      ],
      "source": [
        "print(f'The test R square of the baseline method is {round(testr2_base,4)}.')"
      ]
    },
    {
      "cell_type": "code",
      "execution_count": null,
      "id": "5f2cf1f7",
      "metadata": {
        "id": "5f2cf1f7",
        "outputId": "8b42cd83-7a70-4c41-ad3f-d8dcd483d364"
      },
      "outputs": [
        {
          "data": {
            "text/html": [
              "<div>\n",
              "<style scoped>\n",
              "    .dataframe tbody tr th:only-of-type {\n",
              "        vertical-align: middle;\n",
              "    }\n",
              "\n",
              "    .dataframe tbody tr th {\n",
              "        vertical-align: top;\n",
              "    }\n",
              "\n",
              "    .dataframe thead th {\n",
              "        text-align: right;\n",
              "    }\n",
              "</style>\n",
              "<table border=\"1\" class=\"dataframe\">\n",
              "  <thead>\n",
              "    <tr style=\"text-align: right;\">\n",
              "      <th></th>\n",
              "      <th>Method</th>\n",
              "      <th>CV R2</th>\n",
              "      <th>Test R2</th>\n",
              "    </tr>\n",
              "  </thead>\n",
              "  <tbody>\n",
              "    <tr>\n",
              "      <th>0</th>\n",
              "      <td>Baseline</td>\n",
              "      <td>0.4035</td>\n",
              "      <td>0.180737</td>\n",
              "    </tr>\n",
              "  </tbody>\n",
              "</table>\n",
              "</div>"
            ],
            "text/plain": [
              "     Method   CV R2   Test R2\n",
              "0  Baseline  0.4035  0.180737"
            ]
          },
          "execution_count": 21,
          "metadata": {},
          "output_type": "execute_result"
        }
      ],
      "source": [
        "# Store the cv r2 and test r2\n",
        "r2_df = pd.DataFrame(columns=['Method', 'CV R2', 'Test R2'])\n",
        "\n",
        "r2_df.loc[0] = ['Baseline', cvr2_base, testr2_base]\n",
        "\n",
        "r2_df"
      ]
    },
    {
      "cell_type": "markdown",
      "id": "2d29b1a7",
      "metadata": {
        "id": "2d29b1a7"
      },
      "source": [
        "# Autoregression (AR) forecaster (30 pts)"
      ]
    },
    {
      "cell_type": "code",
      "execution_count": null,
      "id": "68ce8d9d",
      "metadata": {
        "id": "68ce8d9d"
      },
      "outputs": [],
      "source": [
        "from sklearn.compose import ColumnTransformer\n",
        "from sklearn.preprocessing import StandardScaler"
      ]
    },
    {
      "cell_type": "code",
      "execution_count": null,
      "id": "7a9f40e1",
      "metadata": {
        "id": "7a9f40e1"
      },
      "outputs": [],
      "source": [
        "# Create the lagged feautures\n",
        "def create_lagged_features(X):\n",
        "    lag_v = [X['log_volume'].shift(i) for i in range(1, 6)]\n",
        "    lag_v_df = pd.DataFrame(lag_v).T.dropna()\n",
        "    lag_v_df.columns = ['v_lag1', 'v_lag2', 'v_lag3', 'v_lag4', 'v_lag5']\n",
        "\n",
        "    lag_r = [X['DJ_return'].shift(i) for i in range(1, 6)]\n",
        "    lag_r_df = pd.DataFrame(lag_r).T.dropna()\n",
        "    lag_r_df.columns = ['r_lag1', 'r_lag2', 'r_lag3', 'r_lag4', 'r_lag5']\n",
        "\n",
        "    lag_z = [X['log_volatility'].shift(i) for i in range(1, 6)]\n",
        "    lag_z_df = pd.DataFrame(lag_z).T.dropna()\n",
        "    lag_z_df.columns = ['z_lag1', 'z_lag2', 'z_lag3', 'z_lag4', 'z_lag5']\n",
        "\n",
        "    return np.column_stack([lag_v_df, lag_r_df, lag_z_df])"
      ]
    },
    {
      "cell_type": "code",
      "execution_count": null,
      "id": "46f185d5",
      "metadata": {
        "id": "46f185d5"
      },
      "outputs": [],
      "source": [
        "X_other_lagged = create_lagged_features(X_other)"
      ]
    },
    {
      "cell_type": "code",
      "execution_count": null,
      "id": "aaab40b3",
      "metadata": {
        "id": "aaab40b3",
        "outputId": "80c3edf3-0261-4496-f829-c47f0fad95d3"
      },
      "outputs": [
        {
          "data": {
            "text/plain": [
              "(4276, 15)"
            ]
          },
          "execution_count": 25,
          "metadata": {},
          "output_type": "execute_result"
        }
      ],
      "source": [
        "X_other_lagged.shape"
      ]
    },
    {
      "cell_type": "code",
      "execution_count": null,
      "id": "bb87891b",
      "metadata": {
        "id": "bb87891b"
      },
      "outputs": [],
      "source": [
        "# Preprocessing: Standardization\n",
        "scaler = StandardScaler()"
      ]
    },
    {
      "cell_type": "code",
      "execution_count": null,
      "id": "83b4ec0a",
      "metadata": {
        "id": "83b4ec0a"
      },
      "outputs": [],
      "source": [
        "from sklearn.linear_model import ElasticNet"
      ]
    },
    {
      "cell_type": "code",
      "execution_count": null,
      "id": "5f89a068",
      "metadata": {
        "id": "5f89a068"
      },
      "outputs": [],
      "source": [
        "# Model\n",
        "elastic_mod = ElasticNet()"
      ]
    },
    {
      "cell_type": "code",
      "execution_count": null,
      "id": "e99b30e1",
      "metadata": {
        "id": "e99b30e1"
      },
      "outputs": [],
      "source": [
        "from sklearn.pipeline import Pipeline"
      ]
    },
    {
      "cell_type": "code",
      "execution_count": null,
      "id": "69358b42",
      "metadata": {
        "id": "69358b42",
        "outputId": "3a678aa4-6a42-4f26-ee8b-7a5a5f1ea4dd"
      },
      "outputs": [
        {
          "data": {
            "text/plain": [
              "Pipeline(steps=[('scaler', StandardScaler()), ('model', ElasticNet())])"
            ]
          },
          "execution_count": 30,
          "metadata": {},
          "output_type": "execute_result"
        }
      ],
      "source": [
        "# Pipeline: AR(5) with ElasitcNet\n",
        "pipe_EN = Pipeline(steps=[\n",
        "    ('scaler', scaler),\n",
        "    ('model', elastic_mod)\n",
        "])\n",
        "\n",
        "pipe_EN"
      ]
    },
    {
      "cell_type": "code",
      "execution_count": null,
      "id": "4ba4cf3a",
      "metadata": {
        "id": "4ba4cf3a",
        "outputId": "05aa1edb-d12e-4658-b7b3-e76bd00c88aa"
      },
      "outputs": [
        {
          "data": {
            "text/plain": [
              "{'model__alpha': array([1.00000000e-03, 1.26485522e-03, 1.59985872e-03, 2.02358965e-03,\n",
              "        2.55954792e-03, 3.23745754e-03, 4.09491506e-03, 5.17947468e-03,\n",
              "        6.55128557e-03, 8.28642773e-03, 1.04811313e-02, 1.32571137e-02,\n",
              "        1.67683294e-02, 2.12095089e-02, 2.68269580e-02, 3.39322177e-02,\n",
              "        4.29193426e-02, 5.42867544e-02, 6.86648845e-02, 8.68511374e-02,\n",
              "        1.09854114e-01, 1.38949549e-01, 1.75751062e-01, 2.22299648e-01,\n",
              "        2.81176870e-01, 3.55648031e-01, 4.49843267e-01, 5.68986603e-01,\n",
              "        7.19685673e-01, 9.10298178e-01, 1.15139540e+00, 1.45634848e+00,\n",
              "        1.84206997e+00, 2.32995181e+00, 2.94705170e+00, 3.72759372e+00,\n",
              "        4.71486636e+00, 5.96362332e+00, 7.54312006e+00, 9.54095476e+00,\n",
              "        1.20679264e+01, 1.52641797e+01, 1.93069773e+01, 2.44205309e+01,\n",
              "        3.08884360e+01, 3.90693994e+01, 4.94171336e+01, 6.25055193e+01,\n",
              "        7.90604321e+01, 1.00000000e+02]),\n",
              " 'model__l1_ratio': array([0.001, 0.012, 0.023, 0.034, 0.045, 0.056, 0.067, 0.078, 0.089,\n",
              "        0.1  ]),\n",
              " 'model__tol': [0.0001, 0.001],\n",
              " 'model__random_state': [42],\n",
              " 'model__max_iter': [1000, 5000]}"
            ]
          },
          "execution_count": 31,
          "metadata": {},
          "output_type": "execute_result"
        }
      ],
      "source": [
        "# Tune the hyper parameters\n",
        "\n",
        "alphas_EN = np.logspace(start = -3, stop = 2, base = 10, num = 50)\n",
        "l1_ratios = np.linspace(0.001, 0.1, 10)\n",
        "tol_EN = [0.0001, 0.001]\n",
        "random_state_EN = [42]\n",
        "max_iter_EN =  [1000, 5000]\n",
        "\n",
        "tuned_params_EN = {\n",
        "    'model__alpha': alphas_EN,\n",
        "    'model__l1_ratio': l1_ratios,\n",
        "    'model__tol': tol_EN,\n",
        "    'model__random_state': random_state_EN,\n",
        "    'model__max_iter' : max_iter_EN\n",
        "}\n",
        "\n",
        "tuned_params_EN"
      ]
    },
    {
      "cell_type": "code",
      "execution_count": null,
      "id": "a7804554",
      "metadata": {
        "id": "a7804554"
      },
      "outputs": [],
      "source": [
        "from sklearn.model_selection import GridSearchCV"
      ]
    },
    {
      "cell_type": "code",
      "execution_count": null,
      "id": "97b0e25b",
      "metadata": {
        "id": "97b0e25b"
      },
      "outputs": [],
      "source": [
        "# Cross-validation using TimeSeriesSplit\n",
        "search_EN = GridSearchCV(\n",
        "    pipe_EN,\n",
        "    tuned_params_EN,\n",
        "    cv = tscv,\n",
        "    scoring = 'r2',\n",
        "    refit = True\n",
        ")"
      ]
    },
    {
      "cell_type": "code",
      "execution_count": null,
      "id": "84680658",
      "metadata": {
        "id": "84680658",
        "outputId": "e37a0d5c-0a94-4d2a-b33b-64b67a27240e"
      },
      "outputs": [
        {
          "data": {
            "text/plain": [
              "GridSearchCV(cv=TimeSeriesSplit(gap=0, max_train_size=None, n_splits=5, test_size=None),\n",
              "             estimator=Pipeline(steps=[('scaler', StandardScaler()),\n",
              "                                       ('model', ElasticNet())]),\n",
              "             param_grid={'model__alpha': array([1.00000000e-03, 1.26485522e-03, 1.59985872e-03, 2.02358965e-03,\n",
              "       2.55954792e-03, 3.23745754e-03, 4.09491506e-03, 5.17947468e-03,\n",
              "       6.55128557e-03, 8.28642773e-03, 1....\n",
              "       4.71486636e+00, 5.96362332e+00, 7.54312006e+00, 9.54095476e+00,\n",
              "       1.20679264e+01, 1.52641797e+01, 1.93069773e+01, 2.44205309e+01,\n",
              "       3.08884360e+01, 3.90693994e+01, 4.94171336e+01, 6.25055193e+01,\n",
              "       7.90604321e+01, 1.00000000e+02]),\n",
              "                         'model__l1_ratio': array([0.001, 0.012, 0.023, 0.034, 0.045, 0.056, 0.067, 0.078, 0.089,\n",
              "       0.1  ]),\n",
              "                         'model__max_iter': [1000, 5000],\n",
              "                         'model__random_state': [42],\n",
              "                         'model__tol': [0.0001, 0.001]},\n",
              "             scoring='r2')"
            ]
          },
          "execution_count": 34,
          "metadata": {},
          "output_type": "execute_result"
        }
      ],
      "source": [
        "# Fit CV\n",
        "search_EN.fit(X_other_lagged, y_other[5:])"
      ]
    },
    {
      "cell_type": "code",
      "execution_count": null,
      "id": "9790d1b2",
      "metadata": {
        "id": "9790d1b2",
        "outputId": "892b099e-885d-46d4-eeb9-a367f435268f"
      },
      "outputs": [
        {
          "name": "stdout",
          "output_type": "stream",
          "text": [
            "AR(5) using ElasticNet: \n",
            " best R2: 0.5557033786635757, \n",
            " best parameters: {'model__alpha': 0.001, 'model__l1_ratio': 0.001, 'model__max_iter': 1000, 'model__random_state': 42, 'model__tol': 0.0001}.\n"
          ]
        }
      ],
      "source": [
        "# Results\n",
        "print(f'AR(5) using ElasticNet: \\n best R2: {search_EN.best_score_}, \\n best parameters: {search_EN.best_params_}.')"
      ]
    },
    {
      "cell_type": "code",
      "execution_count": null,
      "id": "20dc005d",
      "metadata": {
        "id": "20dc005d"
      },
      "outputs": [],
      "source": [
        "# Define lagged X_test\n",
        "X_test_lagged = create_lagged_features(X_test)"
      ]
    },
    {
      "cell_type": "code",
      "execution_count": null,
      "id": "947b275b",
      "metadata": {
        "id": "947b275b",
        "outputId": "dc3ecd23-55b3-4a84-d7d2-800a6a9858b4"
      },
      "outputs": [
        {
          "data": {
            "text/plain": [
              "(1765, 15)"
            ]
          },
          "execution_count": 37,
          "metadata": {},
          "output_type": "execute_result"
        }
      ],
      "source": [
        "X_test_lagged.shape"
      ]
    },
    {
      "cell_type": "code",
      "execution_count": null,
      "id": "c6f1aa1a",
      "metadata": {
        "id": "c6f1aa1a",
        "outputId": "63f88f6d-61a2-4973-fa0e-77c144dc5884"
      },
      "outputs": [
        {
          "name": "stdout",
          "output_type": "stream",
          "text": [
            "The test R square of the AR(5) method using ElasticNet is 0.4136.\n"
          ]
        }
      ],
      "source": [
        "# Calculate the R square on test set\n",
        "y_pred_EN = search_EN.best_estimator_.predict(X_test_lagged)\n",
        "testr2_EN = r2_score(y_test[5:], y_pred_EN)\n",
        "\n",
        "print(f'The test R square of the AR(5) method using ElasticNet is {round(testr2_EN,4)}.')"
      ]
    },
    {
      "cell_type": "code",
      "execution_count": null,
      "id": "5c7239cd",
      "metadata": {
        "id": "5c7239cd",
        "outputId": "b07a13f6-9a1c-4fe8-fd3a-0fdec91700b1"
      },
      "outputs": [
        {
          "data": {
            "text/html": [
              "<div>\n",
              "<style scoped>\n",
              "    .dataframe tbody tr th:only-of-type {\n",
              "        vertical-align: middle;\n",
              "    }\n",
              "\n",
              "    .dataframe tbody tr th {\n",
              "        vertical-align: top;\n",
              "    }\n",
              "\n",
              "    .dataframe thead th {\n",
              "        text-align: right;\n",
              "    }\n",
              "</style>\n",
              "<table border=\"1\" class=\"dataframe\">\n",
              "  <thead>\n",
              "    <tr style=\"text-align: right;\">\n",
              "      <th></th>\n",
              "      <th>Method</th>\n",
              "      <th>CV R2</th>\n",
              "      <th>Test R2</th>\n",
              "    </tr>\n",
              "  </thead>\n",
              "  <tbody>\n",
              "    <tr>\n",
              "      <th>0</th>\n",
              "      <td>Baseline</td>\n",
              "      <td>0.403500</td>\n",
              "      <td>0.180737</td>\n",
              "    </tr>\n",
              "    <tr>\n",
              "      <th>1</th>\n",
              "      <td>AR(5) ElasticNet</td>\n",
              "      <td>0.555703</td>\n",
              "      <td>0.413611</td>\n",
              "    </tr>\n",
              "  </tbody>\n",
              "</table>\n",
              "</div>"
            ],
            "text/plain": [
              "             Method     CV R2   Test R2\n",
              "0          Baseline  0.403500  0.180737\n",
              "1  AR(5) ElasticNet  0.555703  0.413611"
            ]
          },
          "execution_count": 39,
          "metadata": {},
          "output_type": "execute_result"
        }
      ],
      "source": [
        "# Store the cv r2 and test r2\n",
        "r2_df.loc[1] = ['AR(5) ElasticNet', search_EN.best_score_, testr2_EN]\n",
        "\n",
        "r2_df"
      ]
    },
    {
      "cell_type": "markdown",
      "id": "558041d9",
      "metadata": {
        "id": "558041d9"
      },
      "source": [
        "# Autoregression by MLP (30 pts)"
      ]
    },
    {
      "cell_type": "code",
      "execution_count": null,
      "id": "4c2ff54c",
      "metadata": {
        "id": "4c2ff54c"
      },
      "outputs": [],
      "source": [
        "from sklearn.neural_network import MLPRegressor"
      ]
    },
    {
      "cell_type": "code",
      "execution_count": null,
      "id": "3f893b58",
      "metadata": {
        "id": "3f893b58"
      },
      "outputs": [],
      "source": [
        "# Model: MLP\n",
        "mlp_mod = MLPRegressor(\n",
        "  hidden_layer_sizes = (8, 4),\n",
        "  activation = 'relu',\n",
        "  solver = 'adam',\n",
        "  batch_size = 16,\n",
        "  random_state = 425\n",
        "  )"
      ]
    },
    {
      "cell_type": "code",
      "execution_count": null,
      "id": "182196cb",
      "metadata": {
        "id": "182196cb",
        "outputId": "5009c1c0-c5d1-4c19-b1ab-42a7d7d49d35"
      },
      "outputs": [
        {
          "data": {
            "text/plain": [
              "Pipeline(steps=[('scaler', StandardScaler()),\n",
              "                ('model',\n",
              "                 MLPRegressor(batch_size=16, hidden_layer_sizes=(8, 4),\n",
              "                              random_state=425))])"
            ]
          },
          "execution_count": 42,
          "metadata": {},
          "output_type": "execute_result"
        }
      ],
      "source": [
        "# Pipeline: AR(5) with MLP\n",
        "pipe_mlp = Pipeline(steps=[\n",
        "    ('scaler', scaler),\n",
        "    ('model', mlp_mod)\n",
        "])\n",
        "\n",
        "pipe_mlp"
      ]
    },
    {
      "cell_type": "code",
      "execution_count": null,
      "id": "759df8b3",
      "metadata": {
        "id": "759df8b3",
        "outputId": "363fd80b-2820-4ec4-e5b5-5a174600262f"
      },
      "outputs": [
        {
          "data": {
            "text/plain": [
              "{'model__hidden_layer_sizes': [(4, 2), (8, 4), (12, 6)],\n",
              " 'model__batch_size': [4, 8, 12, 16, 32],\n",
              " 'model__alpha': [0.001, 0.01, 0.1]}"
            ]
          },
          "execution_count": 43,
          "metadata": {},
          "output_type": "execute_result"
        }
      ],
      "source": [
        "# Tune hyper-parameters\n",
        "hls_grid_mlp = [(4,2), (8,4), (12,6)]\n",
        "bs_grid_mlp = [4, 8, 12, 16, 32]\n",
        "alphas_mlp = [0.001, 0.01, 0.1]\n",
        "\n",
        "tuned_params_mlp = {\n",
        "    'model__hidden_layer_sizes': hls_grid_mlp,\n",
        "    'model__batch_size': bs_grid_mlp,\n",
        "    'model__alpha': alphas_mlp\n",
        "}\n",
        "\n",
        "tuned_params_mlp"
      ]
    },
    {
      "cell_type": "code",
      "execution_count": null,
      "id": "8315c9e8",
      "metadata": {
        "id": "8315c9e8"
      },
      "outputs": [],
      "source": [
        "# Cross-validation\n",
        "search_mlp = GridSearchCV(\n",
        "    pipe_mlp,\n",
        "    tuned_params_mlp,\n",
        "    cv = tscv,\n",
        "    scoring= 'r2',\n",
        "    refit = True\n",
        ")"
      ]
    },
    {
      "cell_type": "code",
      "execution_count": null,
      "id": "2442109c",
      "metadata": {
        "id": "2442109c",
        "outputId": "c06a803c-ab85-4a68-e007-4f35f5d5b7d0"
      },
      "outputs": [
        {
          "data": {
            "text/plain": [
              "GridSearchCV(cv=TimeSeriesSplit(gap=0, max_train_size=None, n_splits=5, test_size=None),\n",
              "             estimator=Pipeline(steps=[('scaler', StandardScaler()),\n",
              "                                       ('model',\n",
              "                                        MLPRegressor(batch_size=16,\n",
              "                                                     hidden_layer_sizes=(8, 4),\n",
              "                                                     random_state=425))]),\n",
              "             param_grid={'model__alpha': [0.001, 0.01, 0.1],\n",
              "                         'model__batch_size': [4, 8, 12, 16, 32],\n",
              "                         'model__hidden_layer_sizes': [(4, 2), (8, 4),\n",
              "                                                       (12, 6)]},\n",
              "             scoring='r2')"
            ]
          },
          "execution_count": 45,
          "metadata": {},
          "output_type": "execute_result"
        }
      ],
      "source": [
        "# Fit CV\n",
        "search_mlp.fit(X_other_lagged, y_other[5:])"
      ]
    },
    {
      "cell_type": "code",
      "execution_count": null,
      "id": "169541c8",
      "metadata": {
        "id": "169541c8",
        "outputId": "099d1878-1ccb-4c85-dc54-ec4262d76682"
      },
      "outputs": [
        {
          "name": "stdout",
          "output_type": "stream",
          "text": [
            "AR(5) using MLP: \n",
            " best R2: 0.5630070482872459, \n",
            " best parameters: {'model__alpha': 0.01, 'model__batch_size': 4, 'model__hidden_layer_sizes': (4, 2)}.\n"
          ]
        }
      ],
      "source": [
        "# Results\n",
        "print(f'AR(5) using MLP: \\n best R2: {search_mlp.best_score_}, \\n best parameters: {search_mlp.best_params_}.')"
      ]
    },
    {
      "cell_type": "code",
      "execution_count": null,
      "id": "c416e6b5",
      "metadata": {
        "id": "c416e6b5",
        "outputId": "6aad0bd0-eaef-405c-b9e4-d7f78f048ef0"
      },
      "outputs": [
        {
          "name": "stdout",
          "output_type": "stream",
          "text": [
            "The test R square of the AR(5) method using MLP is 0.4177.\n"
          ]
        }
      ],
      "source": [
        "# Calculate the R square on test set\n",
        "y_pred_mlp = search_mlp.best_estimator_.predict(X_test_lagged)\n",
        "testr2_mlp = r2_score(y_test[5:], y_pred_mlp)\n",
        "\n",
        "print(f'The test R square of the AR(5) method using MLP is {round(testr2_mlp,4)}.')"
      ]
    },
    {
      "cell_type": "code",
      "execution_count": null,
      "id": "e2e856ed",
      "metadata": {
        "id": "e2e856ed",
        "outputId": "a9a2e3d4-d95a-4a20-cb8f-a5ed78be5f61"
      },
      "outputs": [
        {
          "data": {
            "text/html": [
              "<div>\n",
              "<style scoped>\n",
              "    .dataframe tbody tr th:only-of-type {\n",
              "        vertical-align: middle;\n",
              "    }\n",
              "\n",
              "    .dataframe tbody tr th {\n",
              "        vertical-align: top;\n",
              "    }\n",
              "\n",
              "    .dataframe thead th {\n",
              "        text-align: right;\n",
              "    }\n",
              "</style>\n",
              "<table border=\"1\" class=\"dataframe\">\n",
              "  <thead>\n",
              "    <tr style=\"text-align: right;\">\n",
              "      <th></th>\n",
              "      <th>Method</th>\n",
              "      <th>CV R2</th>\n",
              "      <th>Test R2</th>\n",
              "    </tr>\n",
              "  </thead>\n",
              "  <tbody>\n",
              "    <tr>\n",
              "      <th>0</th>\n",
              "      <td>Baseline</td>\n",
              "      <td>0.403500</td>\n",
              "      <td>0.180737</td>\n",
              "    </tr>\n",
              "    <tr>\n",
              "      <th>1</th>\n",
              "      <td>AR(5) ElasticNet</td>\n",
              "      <td>0.555703</td>\n",
              "      <td>0.413611</td>\n",
              "    </tr>\n",
              "    <tr>\n",
              "      <th>2</th>\n",
              "      <td>AR(5) MLP</td>\n",
              "      <td>0.563007</td>\n",
              "      <td>0.417703</td>\n",
              "    </tr>\n",
              "  </tbody>\n",
              "</table>\n",
              "</div>"
            ],
            "text/plain": [
              "             Method     CV R2   Test R2\n",
              "0          Baseline  0.403500  0.180737\n",
              "1  AR(5) ElasticNet  0.555703  0.413611\n",
              "2         AR(5) MLP  0.563007  0.417703"
            ]
          },
          "execution_count": 48,
          "metadata": {},
          "output_type": "execute_result"
        }
      ],
      "source": [
        "# Store the cv r2 and test r2\n",
        "r2_df.loc[2] = ['AR(5) MLP', search_mlp.best_score_, testr2_mlp]\n",
        "\n",
        "r2_df"
      ]
    },
    {
      "cell_type": "markdown",
      "id": "431a227e",
      "metadata": {
        "id": "431a227e"
      },
      "source": [
        "# LSTM forecaster (30 pts)"
      ]
    },
    {
      "cell_type": "code",
      "execution_count": null,
      "id": "3f99647e",
      "metadata": {
        "id": "3f99647e",
        "outputId": "1bd8a25b-912f-4306-e6cd-0657f2b8c874"
      },
      "outputs": [
        {
          "data": {
            "text/html": [
              "<div>\n",
              "<style scoped>\n",
              "    .dataframe tbody tr th:only-of-type {\n",
              "        vertical-align: middle;\n",
              "    }\n",
              "\n",
              "    .dataframe tbody tr th {\n",
              "        vertical-align: top;\n",
              "    }\n",
              "\n",
              "    .dataframe thead th {\n",
              "        text-align: right;\n",
              "    }\n",
              "</style>\n",
              "<table border=\"1\" class=\"dataframe\">\n",
              "  <thead>\n",
              "    <tr style=\"text-align: right;\">\n",
              "      <th></th>\n",
              "      <th>DJ_return</th>\n",
              "      <th>log_volume</th>\n",
              "      <th>log_volatility</th>\n",
              "    </tr>\n",
              "    <tr>\n",
              "      <th>date</th>\n",
              "      <th></th>\n",
              "      <th></th>\n",
              "      <th></th>\n",
              "    </tr>\n",
              "  </thead>\n",
              "  <tbody>\n",
              "    <tr>\n",
              "      <th>1962-12-03</th>\n",
              "      <td>-0.004461</td>\n",
              "      <td>0.032573</td>\n",
              "      <td>-13.127403</td>\n",
              "    </tr>\n",
              "    <tr>\n",
              "      <th>1962-12-04</th>\n",
              "      <td>0.007813</td>\n",
              "      <td>0.346202</td>\n",
              "      <td>-11.749305</td>\n",
              "    </tr>\n",
              "    <tr>\n",
              "      <th>1962-12-05</th>\n",
              "      <td>0.003845</td>\n",
              "      <td>0.525306</td>\n",
              "      <td>-11.665609</td>\n",
              "    </tr>\n",
              "    <tr>\n",
              "      <th>1962-12-06</th>\n",
              "      <td>-0.003462</td>\n",
              "      <td>0.210182</td>\n",
              "      <td>-11.626772</td>\n",
              "    </tr>\n",
              "    <tr>\n",
              "      <th>1962-12-07</th>\n",
              "      <td>0.000568</td>\n",
              "      <td>0.044187</td>\n",
              "      <td>-11.728130</td>\n",
              "    </tr>\n",
              "    <tr>\n",
              "      <th>1962-12-10</th>\n",
              "      <td>-0.010824</td>\n",
              "      <td>0.133246</td>\n",
              "      <td>-10.872526</td>\n",
              "    </tr>\n",
              "    <tr>\n",
              "      <th>1962-12-11</th>\n",
              "      <td>0.000124</td>\n",
              "      <td>-0.011528</td>\n",
              "      <td>-10.977797</td>\n",
              "    </tr>\n",
              "    <tr>\n",
              "      <th>1962-12-12</th>\n",
              "      <td>0.003358</td>\n",
              "      <td>0.001607</td>\n",
              "      <td>-11.012360</td>\n",
              "    </tr>\n",
              "    <tr>\n",
              "      <th>1962-12-13</th>\n",
              "      <td>-0.003296</td>\n",
              "      <td>-0.106437</td>\n",
              "      <td>-11.047108</td>\n",
              "    </tr>\n",
              "    <tr>\n",
              "      <th>1962-12-14</th>\n",
              "      <td>0.004469</td>\n",
              "      <td>-0.138269</td>\n",
              "      <td>-11.022063</td>\n",
              "    </tr>\n",
              "  </tbody>\n",
              "</table>\n",
              "</div>"
            ],
            "text/plain": [
              "            DJ_return  log_volume  log_volatility\n",
              "date                                             \n",
              "1962-12-03  -0.004461    0.032573      -13.127403\n",
              "1962-12-04   0.007813    0.346202      -11.749305\n",
              "1962-12-05   0.003845    0.525306      -11.665609\n",
              "1962-12-06  -0.003462    0.210182      -11.626772\n",
              "1962-12-07   0.000568    0.044187      -11.728130\n",
              "1962-12-10  -0.010824    0.133246      -10.872526\n",
              "1962-12-11   0.000124   -0.011528      -10.977797\n",
              "1962-12-12   0.003358    0.001607      -11.012360\n",
              "1962-12-13  -0.003296   -0.106437      -11.047108\n",
              "1962-12-14   0.004469   -0.138269      -11.022063"
            ]
          },
          "execution_count": 49,
          "metadata": {},
          "output_type": "execute_result"
        }
      ],
      "source": [
        "X_other.head(10)"
      ]
    },
    {
      "cell_type": "code",
      "execution_count": null,
      "id": "8d519a84",
      "metadata": {
        "id": "8d519a84",
        "outputId": "af22fe31-f15b-4d23-e7ec-ac2c06f5de90"
      },
      "outputs": [
        {
          "data": {
            "text/plain": [
              "[array([[-4.46100000e-03,  3.25730000e-02, -1.31274026e+01],\n",
              "        [ 7.81300000e-03,  3.46202000e-01, -1.17493047e+01],\n",
              "        [ 3.84500000e-03,  5.25306000e-01, -1.16656090e+01],\n",
              "        [-3.46200000e-03,  2.10182000e-01, -1.16267724e+01],\n",
              "        [ 5.68000000e-04,  4.41870000e-02, -1.17281302e+01]]),\n",
              " array([[ 7.81300000e-03,  3.46202000e-01, -1.17493047e+01],\n",
              "        [ 3.84500000e-03,  5.25306000e-01, -1.16656090e+01],\n",
              "        [-3.46200000e-03,  2.10182000e-01, -1.16267724e+01],\n",
              "        [ 5.68000000e-04,  4.41870000e-02, -1.17281302e+01],\n",
              "        [-1.08240000e-02,  1.33246000e-01, -1.08725263e+01]]),\n",
              " array([[ 3.84500000e-03,  5.25306000e-01, -1.16656090e+01],\n",
              "        [-3.46200000e-03,  2.10182000e-01, -1.16267724e+01],\n",
              "        [ 5.68000000e-04,  4.41870000e-02, -1.17281302e+01],\n",
              "        [-1.08240000e-02,  1.33246000e-01, -1.08725263e+01],\n",
              "        [ 1.24000000e-04, -1.15280000e-02, -1.09777968e+01]])]"
            ]
          },
          "execution_count": 50,
          "metadata": {},
          "output_type": "execute_result"
        }
      ],
      "source": [
        "# Create the input for LSTM model\n",
        "num_lag = 5\n",
        "X_other_LSTM = []\n",
        "\n",
        "for i in range(num_lag, len(X_other)):\n",
        "    X_other_LSTM.append(np.array(X_other[i-num_lag:i]))\n",
        "\n",
        "X_other_LSTM[:3]"
      ]
    },
    {
      "cell_type": "code",
      "execution_count": null,
      "id": "709a1b37",
      "metadata": {
        "id": "709a1b37",
        "outputId": "37e633cf-3581-4851-d37d-f70ca658a2e2"
      },
      "outputs": [
        {
          "data": {
            "text/plain": [
              "(4276, 5, 3)"
            ]
          },
          "execution_count": 51,
          "metadata": {},
          "output_type": "execute_result"
        }
      ],
      "source": [
        "X_other_LSTM = np.array(X_other_LSTM)\n",
        "X_other_LSTM.shape"
      ]
    },
    {
      "cell_type": "code",
      "execution_count": null,
      "id": "46f9e658",
      "metadata": {
        "id": "46f9e658"
      },
      "outputs": [],
      "source": [
        "# from sklearn.preprocessing import MinMaxScaler"
      ]
    },
    {
      "cell_type": "code",
      "execution_count": null,
      "id": "e16fe3d8",
      "metadata": {
        "id": "e16fe3d8"
      },
      "outputs": [],
      "source": [
        "# Preprocessing: StandardScaler\n",
        "def scaleX(X):\n",
        "    X_flat = X.reshape(X.shape[0]*X.shape[1], X.shape[2])\n",
        "    X_scaled = scaler.fit_transform(X_flat)\n",
        "    return X_scaled.reshape(X.shape[0], X.shape[1], X.shape[2])"
      ]
    },
    {
      "cell_type": "code",
      "execution_count": null,
      "id": "e43cbc7e",
      "metadata": {
        "id": "e43cbc7e",
        "outputId": "b6e7360a-8c95-4151-80a6-b94de1a2087c"
      },
      "outputs": [
        {
          "data": {
            "text/plain": [
              "(4276, 5, 3)"
            ]
          },
          "execution_count": 54,
          "metadata": {},
          "output_type": "execute_result"
        }
      ],
      "source": [
        "X_other_LSTM = scaleX(X_other_LSTM)\n",
        "X_other_LSTM.shape"
      ]
    },
    {
      "cell_type": "code",
      "execution_count": null,
      "id": "4eff8025",
      "metadata": {
        "id": "4eff8025"
      },
      "outputs": [],
      "source": [
        "from tensorflow.keras.models import Sequential\n",
        "from tensorflow.keras.layers import LSTM, Dense, Dropout\n",
        "from tensorflow.keras.optimizers import Adam"
      ]
    },
    {
      "cell_type": "code",
      "execution_count": null,
      "id": "85ccdf0d",
      "metadata": {
        "id": "85ccdf0d"
      },
      "outputs": [],
      "source": [
        "# Model: LSTM with 5 lags\n",
        "def create_LSTM_model(units, dropout_rate, learning_rate):\n",
        "\n",
        "    LSTM_mod = Sequential()\n",
        "    ## First layer: LSTM layer\n",
        "    LSTM_mod.add(LSTM(units, activation = 'relu', return_sequences = False, input_shape = (X_other_LSTM.shape[1], X_other_LSTM.shape[2])))\n",
        "    LSTM_mod.add(Dropout(dropout_rate))\n",
        "\n",
        "    LSTM_mod.add(Dense(5))\n",
        "    LSTM_mod.add(Dropout(dropout_rate))\n",
        "    ## Last layer, we want one output\n",
        "    LSTM_mod.add(Dense(1, activation = 'linear'))\n",
        "\n",
        "    optimizer = Adam(learning_rate=learning_rate)\n",
        "\n",
        "    LSTM_mod.compile(optimizer = optimizer, loss = 'mean_squared_error')\n",
        "\n",
        "    return LSTM_mod"
      ]
    },
    {
      "cell_type": "code",
      "execution_count": null,
      "id": "b4dcb1f5",
      "metadata": {
        "id": "b4dcb1f5"
      },
      "outputs": [],
      "source": [
        "from keras.wrappers.scikit_learn import KerasRegressor"
      ]
    },
    {
      "cell_type": "code",
      "execution_count": null,
      "id": "945766a5",
      "metadata": {
        "id": "945766a5",
        "outputId": "e471fb97-f38a-4c15-aff3-d6803e27ccb3"
      },
      "outputs": [
        {
          "name": "stderr",
          "output_type": "stream",
          "text": [
            "C:\\Users\\fswuh\\AppData\\Local\\Temp\\ipykernel_24368\\4206056575.py:2: DeprecationWarning: KerasRegressor is deprecated, use Sci-Keras (https://github.com/adriangb/scikeras) instead. See https://www.adriangb.com/scikeras/stable/migration.html for help migrating.\n",
            "  LSTM_model = KerasRegressor(build_fn = create_LSTM_model, verbose = 0)\n"
          ]
        }
      ],
      "source": [
        "# Create a KerasRegressor object\n",
        "LSTM_model = KerasRegressor(build_fn = create_LSTM_model, verbose = 0)"
      ]
    },
    {
      "cell_type": "code",
      "execution_count": null,
      "id": "874f741f",
      "metadata": {
        "id": "874f741f",
        "outputId": "f0c808d7-701b-4050-cd61-f7b6214c9ad7"
      },
      "outputs": [
        {
          "data": {
            "text/plain": [
              "Pipeline(steps=[('model',\n",
              "                 <keras.wrappers.scikit_learn.KerasRegressor object at 0x000002192A828CA0>)])"
            ]
          },
          "execution_count": 59,
          "metadata": {},
          "output_type": "execute_result"
        }
      ],
      "source": [
        "# Pipeline: LSTM\n",
        "pipe_LSTM = Pipeline(steps=[\n",
        "    ('model', LSTM_model)\n",
        "])\n",
        "\n",
        "pipe_LSTM"
      ]
    },
    {
      "cell_type": "code",
      "execution_count": null,
      "id": "a046b9ab",
      "metadata": {
        "id": "a046b9ab",
        "outputId": "b9be02e8-e59d-4dc4-c086-ac2f559d9e30"
      },
      "outputs": [
        {
          "data": {
            "text/plain": [
              "{'model__units': [16, 32, 64],\n",
              " 'model__dropout_rate': [0.2, 0.3, 0.4, 0.5],\n",
              " 'model__learning_rate': [0.001, 0.01],\n",
              " 'model__batch_size': [16, 64, 128],\n",
              " 'model__epochs': [3]}"
            ]
          },
          "execution_count": 60,
          "metadata": {},
          "output_type": "execute_result"
        }
      ],
      "source": [
        "# Tune hyper-parameters\n",
        "units_LSTM = [16, 32, 64]\n",
        "drop_rate_LSTM = [0.2, 0.3, 0.4, 0.5]\n",
        "learn_rate_LSTM = [0.001, 0.01]\n",
        "bs_grid_LSTM = [16, 64, 128]\n",
        "epochs_LSTM = [3]\n",
        "\n",
        "\n",
        "tuned_params_LSTM = {\n",
        "    'model__units': units_LSTM,\n",
        "    'model__dropout_rate': drop_rate_LSTM,\n",
        "    'model__learning_rate': learn_rate_LSTM,\n",
        "    'model__batch_size':bs_grid_LSTM,\n",
        "    'model__epochs': epochs_LSTM\n",
        "}\n",
        "\n",
        "tuned_params_LSTM"
      ]
    },
    {
      "cell_type": "code",
      "execution_count": null,
      "id": "16bb7192",
      "metadata": {
        "id": "16bb7192"
      },
      "outputs": [],
      "source": [
        "# Cross-validation\n",
        "search_LSTM = GridSearchCV(\n",
        "    pipe_LSTM,\n",
        "    tuned_params_LSTM,\n",
        "    cv = tscv,\n",
        "    scoring = 'r2',\n",
        "    refit = True\n",
        ")"
      ]
    },
    {
      "cell_type": "code",
      "execution_count": null,
      "id": "36316773",
      "metadata": {
        "id": "36316773"
      },
      "outputs": [],
      "source": [
        "from keras.callbacks import EarlyStopping"
      ]
    },
    {
      "cell_type": "code",
      "execution_count": null,
      "id": "24b588f8",
      "metadata": {
        "id": "24b588f8"
      },
      "outputs": [],
      "source": [
        "# Define an early stop\n",
        "early_stopping = EarlyStopping(monitor='loss', patience=3)"
      ]
    },
    {
      "cell_type": "code",
      "execution_count": null,
      "id": "01727d74",
      "metadata": {
        "id": "01727d74",
        "outputId": "5c67a652-069c-49c6-a413-59c200b7666d"
      },
      "outputs": [
        {
          "data": {
            "text/plain": [
              "GridSearchCV(cv=TimeSeriesSplit(gap=0, max_train_size=None, n_splits=5, test_size=None),\n",
              "             estimator=Pipeline(steps=[('model',\n",
              "                                        <keras.wrappers.scikit_learn.KerasRegressor object at 0x000002192A828CA0>)]),\n",
              "             param_grid={'model__batch_size': [16, 64, 128],\n",
              "                         'model__dropout_rate': [0.2, 0.3, 0.4, 0.5],\n",
              "                         'model__epochs': [3],\n",
              "                         'model__learning_rate': [0.001, 0.01],\n",
              "                         'model__units': [16, 32, 64]},\n",
              "             scoring='r2')"
            ]
          },
          "execution_count": 64,
          "metadata": {},
          "output_type": "execute_result"
        }
      ],
      "source": [
        "# Fit CV\n",
        "search_LSTM.fit(X_other_LSTM, y_other[5:], model__callbacks=[early_stopping])"
      ]
    },
    {
      "cell_type": "code",
      "execution_count": null,
      "id": "3c2495b3",
      "metadata": {
        "id": "3c2495b3",
        "outputId": "75716459-c1e5-4f11-a21c-21bcab301182"
      },
      "outputs": [
        {
          "name": "stdout",
          "output_type": "stream",
          "text": [
            "LSTM method: \n",
            " best R2: 0.5301908269280128, \n",
            " best parameters: {'model__batch_size': 16, 'model__dropout_rate': 0.2, 'model__epochs': 3, 'model__learning_rate': 0.01, 'model__units': 16}.\n"
          ]
        }
      ],
      "source": [
        "# Results\n",
        "print(f'LSTM method: \\n best R2: {search_LSTM.best_score_}, \\n best parameters: {search_LSTM.best_params_}.')"
      ]
    },
    {
      "cell_type": "code",
      "execution_count": null,
      "id": "46f26c34",
      "metadata": {
        "id": "46f26c34",
        "outputId": "78c3e245-a1f5-4ff9-d024-3fb88f1804da"
      },
      "outputs": [
        {
          "data": {
            "text/plain": [
              "[array([[-1.70390000e-02,  1.17599000e-01, -9.94578731e+00],\n",
              "        [-5.18000000e-03,  3.31630000e-01, -9.99080843e+00],\n",
              "        [ 1.03450000e-02,  7.80330000e-02, -9.86544523e+00],\n",
              "        [ 3.80500000e-03,  2.05938000e-01, -9.94029844e+00],\n",
              "        [ 2.34140000e-02,  3.86403000e-01, -9.22857013e+00]]),\n",
              " array([[-5.18000000e-03,  3.31630000e-01, -9.99080843e+00],\n",
              "        [ 1.03450000e-02,  7.80330000e-02, -9.86544523e+00],\n",
              "        [ 3.80500000e-03,  2.05938000e-01, -9.94029844e+00],\n",
              "        [ 2.34140000e-02,  3.86403000e-01, -9.22857013e+00],\n",
              "        [-1.90400000e-03,  5.82476000e-01, -9.32983745e+00]]),\n",
              " array([[ 1.03450000e-02,  7.80330000e-02, -9.86544523e+00],\n",
              "        [ 3.80500000e-03,  2.05938000e-01, -9.94029844e+00],\n",
              "        [ 2.34140000e-02,  3.86403000e-01, -9.22857013e+00],\n",
              "        [-1.90400000e-03,  5.82476000e-01, -9.32983745e+00],\n",
              "        [ 1.03800000e-02,  4.22659000e-01, -9.30864032e+00]])]"
            ]
          },
          "execution_count": 66,
          "metadata": {},
          "output_type": "execute_result"
        }
      ],
      "source": [
        "# Define test Xs\n",
        "X_test_LSTM = []\n",
        "\n",
        "for i in range(num_lag, len(X_test)):\n",
        "    X_test_LSTM.append(np.array(X_test[i-num_lag:i]))\n",
        "\n",
        "X_test_LSTM[:3]"
      ]
    },
    {
      "cell_type": "code",
      "execution_count": null,
      "id": "45cf5e69",
      "metadata": {
        "id": "45cf5e69",
        "outputId": "25473252-08ea-495a-bd17-b5a5a5c9e11e"
      },
      "outputs": [
        {
          "data": {
            "text/plain": [
              "(1765, 5, 3)"
            ]
          },
          "execution_count": 67,
          "metadata": {},
          "output_type": "execute_result"
        }
      ],
      "source": [
        "X_test_LSTM = np.array(X_test_LSTM)\n",
        "X_test_LSTM = scaleX(X_test_LSTM)\n",
        "X_test_LSTM.shape"
      ]
    },
    {
      "cell_type": "code",
      "execution_count": null,
      "id": "fc09a3f2",
      "metadata": {
        "id": "fc09a3f2",
        "outputId": "f499caac-c4f3-4ad5-c2a4-d907ccbca070"
      },
      "outputs": [
        {
          "name": "stdout",
          "output_type": "stream",
          "text": [
            "The test R square of the LSTM method is 0.4028.\n"
          ]
        }
      ],
      "source": [
        "# Calculate the R square on test set\n",
        "y_pred_LSTM = search_LSTM.best_estimator_.predict(X_test_LSTM)\n",
        "testr2_LSTM = r2_score(y_test[5:], y_pred_LSTM)\n",
        "\n",
        "print(f'The test R square of the LSTM method is {round(testr2_LSTM,4)}.')"
      ]
    },
    {
      "cell_type": "code",
      "execution_count": null,
      "id": "e1dda910",
      "metadata": {
        "id": "e1dda910",
        "outputId": "396d0d5b-729b-4f81-bde5-223ead052cc9"
      },
      "outputs": [
        {
          "data": {
            "text/html": [
              "<div>\n",
              "<style scoped>\n",
              "    .dataframe tbody tr th:only-of-type {\n",
              "        vertical-align: middle;\n",
              "    }\n",
              "\n",
              "    .dataframe tbody tr th {\n",
              "        vertical-align: top;\n",
              "    }\n",
              "\n",
              "    .dataframe thead th {\n",
              "        text-align: right;\n",
              "    }\n",
              "</style>\n",
              "<table border=\"1\" class=\"dataframe\">\n",
              "  <thead>\n",
              "    <tr style=\"text-align: right;\">\n",
              "      <th></th>\n",
              "      <th>Method</th>\n",
              "      <th>CV R2</th>\n",
              "      <th>Test R2</th>\n",
              "    </tr>\n",
              "  </thead>\n",
              "  <tbody>\n",
              "    <tr>\n",
              "      <th>0</th>\n",
              "      <td>Baseline</td>\n",
              "      <td>0.403500</td>\n",
              "      <td>0.180737</td>\n",
              "    </tr>\n",
              "    <tr>\n",
              "      <th>1</th>\n",
              "      <td>AR(5) ElasticNet</td>\n",
              "      <td>0.555703</td>\n",
              "      <td>0.413611</td>\n",
              "    </tr>\n",
              "    <tr>\n",
              "      <th>2</th>\n",
              "      <td>AR(5) MLP</td>\n",
              "      <td>0.563007</td>\n",
              "      <td>0.417703</td>\n",
              "    </tr>\n",
              "    <tr>\n",
              "      <th>3</th>\n",
              "      <td>LSTM</td>\n",
              "      <td>0.530191</td>\n",
              "      <td>0.402781</td>\n",
              "    </tr>\n",
              "  </tbody>\n",
              "</table>\n",
              "</div>"
            ],
            "text/plain": [
              "             Method     CV R2   Test R2\n",
              "0          Baseline  0.403500  0.180737\n",
              "1  AR(5) ElasticNet  0.555703  0.413611\n",
              "2         AR(5) MLP  0.563007  0.417703\n",
              "3              LSTM  0.530191  0.402781"
            ]
          },
          "execution_count": 69,
          "metadata": {},
          "output_type": "execute_result"
        }
      ],
      "source": [
        "# Store the cv r2 and test r2\n",
        "r2_df.loc[3] = ['LSTM', search_LSTM.best_score_, testr2_LSTM]\n",
        "\n",
        "r2_df"
      ]
    },
    {
      "cell_type": "markdown",
      "id": "6e2d4cef",
      "metadata": {
        "id": "6e2d4cef"
      },
      "source": [
        "# Random forest forecaster (30 pts)"
      ]
    },
    {
      "cell_type": "code",
      "execution_count": null,
      "id": "758fef65",
      "metadata": {
        "id": "758fef65"
      },
      "outputs": [],
      "source": [
        "from sklearn.ensemble import RandomForestRegressor"
      ]
    },
    {
      "cell_type": "code",
      "execution_count": null,
      "id": "8adf335a",
      "metadata": {
        "id": "8adf335a"
      },
      "outputs": [],
      "source": [
        "# Model: Random forest\n",
        "rf_mod =  RandomForestRegressor(\n",
        "  # Number of trees\n",
        "  n_estimators = 100,\n",
        "  criterion = 'squared_error',\n",
        "  # Number of features to use in each split\n",
        "  max_features = 'sqrt',\n",
        "  max_depth = 10,\n",
        "  oob_score = True,\n",
        "  random_state = 425\n",
        "  )"
      ]
    },
    {
      "cell_type": "code",
      "execution_count": null,
      "id": "0f7ee3a9",
      "metadata": {
        "id": "0f7ee3a9",
        "outputId": "2b149d80-35cb-4f59-d62a-0bb83532e3e6"
      },
      "outputs": [
        {
          "data": {
            "text/plain": [
              "Pipeline(steps=[('model',\n",
              "                 RandomForestRegressor(max_depth=10, max_features='sqrt',\n",
              "                                       oob_score=True, random_state=425))])"
            ]
          },
          "execution_count": 72,
          "metadata": {},
          "output_type": "execute_result"
        }
      ],
      "source": [
        "# Pipeline: Random forest\n",
        "pipe_rf = Pipeline(steps = [\n",
        "  (\"model\", rf_mod)\n",
        "  ])\n",
        "\n",
        "pipe_rf"
      ]
    },
    {
      "cell_type": "code",
      "execution_count": null,
      "id": "5a88f026",
      "metadata": {
        "id": "5a88f026",
        "outputId": "c7463c2e-9df5-42c0-b147-3e154da7e3ab"
      },
      "outputs": [
        {
          "data": {
            "text/plain": [
              "{'model__n_estimators': [150, 200, 250, 300],\n",
              " 'model__max_features': ['sqrt', 'log2', 1.0],\n",
              " 'model__max_depth': [5, 10, 20],\n",
              " 'model__min_samples_split': [2, 5, 10],\n",
              " 'model__min_samples_leaf': [1, 2, 4]}"
            ]
          },
          "execution_count": 73,
          "metadata": {},
          "output_type": "execute_result"
        }
      ],
      "source": [
        "# Tune hyper-parameters\n",
        "B_grid_rf = [150, 200, 250, 300]\n",
        "m_grid_rf = ['sqrt', 'log2', 1.0] # max_features = 1.0 uses all features\n",
        "d_grid_rf = [5, 10, 20]\n",
        "msplit_grid_rf = [2, 5, 10]\n",
        "ml_grid_rf = [1, 2, 4]\n",
        "\n",
        "tuned_parameters_rf = {\n",
        "  \"model__n_estimators\": B_grid_rf,\n",
        "  \"model__max_features\": m_grid_rf,\n",
        "  \"model__max_depth\": d_grid_rf,\n",
        "  \"model__min_samples_split\": msplit_grid_rf,\n",
        "  \"model__min_samples_leaf\": ml_grid_rf\n",
        "  }\n",
        "\n",
        "tuned_parameters_rf"
      ]
    },
    {
      "cell_type": "code",
      "execution_count": null,
      "id": "347ae2b5",
      "metadata": {
        "id": "347ae2b5"
      },
      "outputs": [],
      "source": [
        "# Cross-validation\n",
        "search_rf = GridSearchCV(\n",
        "  pipe_rf,\n",
        "  tuned_parameters_rf,\n",
        "  cv = tscv,\n",
        "  scoring = 'r2',\n",
        "  refit = True\n",
        "  )"
      ]
    },
    {
      "cell_type": "code",
      "execution_count": null,
      "id": "9a304691",
      "metadata": {
        "id": "9a304691",
        "outputId": "16424c48-cbdf-42d9-9afc-a9353d3e20f0"
      },
      "outputs": [
        {
          "data": {
            "text/plain": [
              "GridSearchCV(cv=TimeSeriesSplit(gap=0, max_train_size=None, n_splits=5, test_size=None),\n",
              "             estimator=Pipeline(steps=[('model',\n",
              "                                        RandomForestRegressor(max_depth=10,\n",
              "                                                              max_features='sqrt',\n",
              "                                                              oob_score=True,\n",
              "                                                              random_state=425))]),\n",
              "             param_grid={'model__max_depth': [5, 10, 20],\n",
              "                         'model__max_features': ['sqrt', 'log2', 1.0],\n",
              "                         'model__min_samples_leaf': [1, 2, 4],\n",
              "                         'model__min_samples_split': [2, 5, 10],\n",
              "                         'model__n_estimators': [150, 200, 250, 300]},\n",
              "             scoring='r2')"
            ]
          },
          "execution_count": 75,
          "metadata": {},
          "output_type": "execute_result"
        }
      ],
      "source": [
        "# Fit CV\n",
        "search_rf.fit(X_other_lagged, y_other[5:])"
      ]
    },
    {
      "cell_type": "code",
      "execution_count": null,
      "id": "8994828e",
      "metadata": {
        "id": "8994828e",
        "outputId": "b0d37e9a-1402-4b23-9ae9-2c96fd6bed78"
      },
      "outputs": [
        {
          "name": "stdout",
          "output_type": "stream",
          "text": [
            "Random forest: \n",
            " best R2: 0.5369999300672592, \n",
            " best parameters: {'model__max_depth': 10, 'model__max_features': 1.0, 'model__min_samples_leaf': 2, 'model__min_samples_split': 10, 'model__n_estimators': 250}.\n"
          ]
        }
      ],
      "source": [
        "# Results\n",
        "print(f'Random forest: \\n best R2: {search_rf.best_score_}, \\n best parameters: {search_rf.best_params_}.')"
      ]
    },
    {
      "cell_type": "code",
      "execution_count": null,
      "id": "13bbbca7",
      "metadata": {
        "id": "13bbbca7",
        "outputId": "c9750a85-2c78-4706-d7e3-621929c490d6"
      },
      "outputs": [
        {
          "name": "stdout",
          "output_type": "stream",
          "text": [
            "The test R square of the Random forest method is 0.4025.\n"
          ]
        }
      ],
      "source": [
        "# Calculate the R square on test set\n",
        "y_pred_rf = search_rf.best_estimator_.predict(X_test_lagged)\n",
        "testr2_rf = r2_score(y_test[5:], y_pred_rf)\n",
        "\n",
        "print(f'The test R square of the Random forest method is {round(testr2_rf,4)}.')"
      ]
    },
    {
      "cell_type": "code",
      "execution_count": null,
      "id": "648c8f14",
      "metadata": {
        "id": "648c8f14",
        "outputId": "e9e23fea-bdbc-4aa1-ae8c-8ea97f33c6ba"
      },
      "outputs": [
        {
          "data": {
            "text/html": [
              "<div>\n",
              "<style scoped>\n",
              "    .dataframe tbody tr th:only-of-type {\n",
              "        vertical-align: middle;\n",
              "    }\n",
              "\n",
              "    .dataframe tbody tr th {\n",
              "        vertical-align: top;\n",
              "    }\n",
              "\n",
              "    .dataframe thead th {\n",
              "        text-align: right;\n",
              "    }\n",
              "</style>\n",
              "<table border=\"1\" class=\"dataframe\">\n",
              "  <thead>\n",
              "    <tr style=\"text-align: right;\">\n",
              "      <th></th>\n",
              "      <th>Method</th>\n",
              "      <th>CV R2</th>\n",
              "      <th>Test R2</th>\n",
              "    </tr>\n",
              "  </thead>\n",
              "  <tbody>\n",
              "    <tr>\n",
              "      <th>0</th>\n",
              "      <td>Baseline</td>\n",
              "      <td>0.403500</td>\n",
              "      <td>0.180737</td>\n",
              "    </tr>\n",
              "    <tr>\n",
              "      <th>1</th>\n",
              "      <td>AR(5) ElasticNet</td>\n",
              "      <td>0.555703</td>\n",
              "      <td>0.413611</td>\n",
              "    </tr>\n",
              "    <tr>\n",
              "      <th>2</th>\n",
              "      <td>AR(5) MLP</td>\n",
              "      <td>0.563007</td>\n",
              "      <td>0.417703</td>\n",
              "    </tr>\n",
              "    <tr>\n",
              "      <th>3</th>\n",
              "      <td>LSTM</td>\n",
              "      <td>0.530191</td>\n",
              "      <td>0.402781</td>\n",
              "    </tr>\n",
              "    <tr>\n",
              "      <th>4</th>\n",
              "      <td>Random forest</td>\n",
              "      <td>0.537000</td>\n",
              "      <td>0.402476</td>\n",
              "    </tr>\n",
              "  </tbody>\n",
              "</table>\n",
              "</div>"
            ],
            "text/plain": [
              "             Method     CV R2   Test R2\n",
              "0          Baseline  0.403500  0.180737\n",
              "1  AR(5) ElasticNet  0.555703  0.413611\n",
              "2         AR(5) MLP  0.563007  0.417703\n",
              "3              LSTM  0.530191  0.402781\n",
              "4     Random forest  0.537000  0.402476"
            ]
          },
          "execution_count": 78,
          "metadata": {},
          "output_type": "execute_result"
        }
      ],
      "source": [
        "# Store the cv r2 and test r2\n",
        "r2_df.loc[4] = ['Random forest', search_rf.best_score_, testr2_rf]\n",
        "\n",
        "r2_df"
      ]
    },
    {
      "cell_type": "markdown",
      "id": "41c83110",
      "metadata": {
        "id": "41c83110"
      },
      "source": [
        "# Boosting forecaster (30 pts)"
      ]
    },
    {
      "cell_type": "code",
      "execution_count": null,
      "id": "9d409030",
      "metadata": {
        "id": "9d409030"
      },
      "outputs": [],
      "source": [
        "from sklearn.ensemble import AdaBoostRegressor\n",
        "from sklearn.tree import DecisionTreeRegressor"
      ]
    },
    {
      "cell_type": "code",
      "execution_count": null,
      "id": "5c6a7958",
      "metadata": {
        "id": "5c6a7958"
      },
      "outputs": [],
      "source": [
        "# Model: Boosting\n",
        "bst_mod = AdaBoostRegressor(\n",
        "    # Default base estimator is DecisionTreeRegressor with max_depth = 3\n",
        "    base_estimator= DecisionTreeRegressor(max_depth = 3),\n",
        "    # Number of trees (to be tuned)\n",
        "    n_estimators = 50,\n",
        "    # Learning rate (to be tuned)\n",
        "    learning_rate = 1.0,\n",
        "    random_state = 425\n",
        ")"
      ]
    },
    {
      "cell_type": "code",
      "execution_count": null,
      "id": "bc6f7d5a",
      "metadata": {
        "id": "bc6f7d5a",
        "outputId": "8ea81d78-64af-4c73-96d3-1d21c1a07620"
      },
      "outputs": [
        {
          "data": {
            "text/plain": [
              "Pipeline(steps=[('model',\n",
              "                 AdaBoostRegressor(base_estimator=DecisionTreeRegressor(max_depth=3),\n",
              "                                   random_state=425))])"
            ]
          },
          "execution_count": 81,
          "metadata": {},
          "output_type": "execute_result"
        }
      ],
      "source": [
        "# Piepline: Boosting\n",
        "pipe_bst = Pipeline(steps = [\n",
        "    ('model', bst_mod)\n",
        "])\n",
        "\n",
        "pipe_bst"
      ]
    },
    {
      "cell_type": "code",
      "execution_count": null,
      "id": "7fc1c2ef",
      "metadata": {
        "id": "7fc1c2ef",
        "outputId": "d0ee1af7-3dae-41d2-a591-1928856587f7"
      },
      "outputs": [
        {
          "data": {
            "text/plain": [
              "{'model__base_estimator': [DecisionTreeRegressor(max_depth=1),\n",
              "  DecisionTreeRegressor(max_depth=2),\n",
              "  DecisionTreeRegressor(max_depth=3),\n",
              "  DecisionTreeRegressor(max_depth=4)],\n",
              " 'model__n_estimators': [50, 100, 150, 200, 250, 300, 350, 400],\n",
              " 'model__learning_rate': [0.2, 0.4, 0.6, 0.8, 1.0],\n",
              " 'model__loss': ['linear', 'square', 'exponential']}"
            ]
          },
          "execution_count": 82,
          "metadata": {},
          "output_type": "execute_result"
        }
      ],
      "source": [
        "# Tune hyper-parameters\n",
        "d_grid_bst = [\n",
        "    DecisionTreeRegressor(max_depth= 1),\n",
        "    DecisionTreeRegressor(max_depth= 2),\n",
        "    DecisionTreeRegressor(max_depth= 3),\n",
        "    DecisionTreeRegressor(max_depth= 4)\n",
        "]\n",
        "B_grid_bst = [50, 100, 150, 200, 250, 300, 350, 400]\n",
        "lambda_grid_bst = [0.2, 0.4, 0.6, 0.8, 1.0]\n",
        "loss_grid_bst = ['linear', 'square', 'exponential']\n",
        "\n",
        "tuned_parameters_bst = {\n",
        "    'model__base_estimator':d_grid_bst,\n",
        "    'model__n_estimators': B_grid_bst,\n",
        "    'model__learning_rate': lambda_grid_bst,\n",
        "    'model__loss': loss_grid_bst\n",
        "}\n",
        "\n",
        "tuned_parameters_bst"
      ]
    },
    {
      "cell_type": "code",
      "execution_count": null,
      "id": "2ce40907",
      "metadata": {
        "id": "2ce40907"
      },
      "outputs": [],
      "source": [
        "# Cross-validation\n",
        "search_bst = GridSearchCV(\n",
        "  pipe_bst,\n",
        "  tuned_parameters_bst,\n",
        "  cv = tscv,\n",
        "  scoring = 'r2',\n",
        "  refit = True\n",
        "  )"
      ]
    },
    {
      "cell_type": "code",
      "execution_count": null,
      "id": "c300ea1c",
      "metadata": {
        "id": "c300ea1c",
        "outputId": "d1b832ac-9ed3-4e3e-ed23-242e4e3fecbc"
      },
      "outputs": [
        {
          "data": {
            "text/plain": [
              "GridSearchCV(cv=TimeSeriesSplit(gap=0, max_train_size=None, n_splits=5, test_size=None),\n",
              "             estimator=Pipeline(steps=[('model',\n",
              "                                        AdaBoostRegressor(base_estimator=DecisionTreeRegressor(max_depth=3),\n",
              "                                                          random_state=425))]),\n",
              "             param_grid={'model__base_estimator': [DecisionTreeRegressor(max_depth=1),\n",
              "                                                   DecisionTreeRegressor(max_depth=2),\n",
              "                                                   DecisionTreeRegressor(max_depth=3),\n",
              "                                                   DecisionTreeRegressor(max_depth=4)],\n",
              "                         'model__learning_rate': [0.2, 0.4, 0.6, 0.8, 1.0],\n",
              "                         'model__loss': ['linear', 'square', 'exponential'],\n",
              "                         'model__n_estimators': [50, 100, 150, 200, 250, 300,\n",
              "                                                 350, 400]},\n",
              "             scoring='r2')"
            ]
          },
          "execution_count": 84,
          "metadata": {},
          "output_type": "execute_result"
        }
      ],
      "source": [
        "# Fit CV\n",
        "search_bst.fit(X_other_lagged, y_other[5:])"
      ]
    },
    {
      "cell_type": "code",
      "execution_count": null,
      "id": "6a73331d",
      "metadata": {
        "id": "6a73331d",
        "outputId": "8aeda51e-6610-4ae1-95e0-b387c8453ec9"
      },
      "outputs": [
        {
          "name": "stdout",
          "output_type": "stream",
          "text": [
            "Boosting: \n",
            " best R2: 0.5214435561019395, \n",
            " best parameters: {'model__base_estimator': DecisionTreeRegressor(max_depth=4), 'model__learning_rate': 0.2, 'model__loss': 'exponential', 'model__n_estimators': 100}.\n"
          ]
        }
      ],
      "source": [
        "# Results\n",
        "print(f'Boosting: \\n best R2: {search_bst.best_score_}, \\n best parameters: {search_bst.best_params_}.')"
      ]
    },
    {
      "cell_type": "code",
      "execution_count": null,
      "id": "6971b5ac",
      "metadata": {
        "id": "6971b5ac",
        "outputId": "dd2f6ab0-1247-4ab7-967d-1def47461c6d"
      },
      "outputs": [
        {
          "name": "stdout",
          "output_type": "stream",
          "text": [
            "The test R square of the Boosting method is 0.3625.\n"
          ]
        }
      ],
      "source": [
        "# Calculate the R square on test set\n",
        "y_pred_bst = search_bst.best_estimator_.predict(X_test_lagged)\n",
        "testr2_bst = r2_score(y_test[5:], y_pred_bst)\n",
        "\n",
        "print(f'The test R square of the Boosting method is {round(testr2_bst,4)}.')"
      ]
    },
    {
      "cell_type": "code",
      "execution_count": null,
      "id": "2ec9ad1b",
      "metadata": {
        "id": "2ec9ad1b",
        "outputId": "12bf906e-30db-4e88-ec98-feb5866601e0"
      },
      "outputs": [
        {
          "data": {
            "text/html": [
              "<div>\n",
              "<style scoped>\n",
              "    .dataframe tbody tr th:only-of-type {\n",
              "        vertical-align: middle;\n",
              "    }\n",
              "\n",
              "    .dataframe tbody tr th {\n",
              "        vertical-align: top;\n",
              "    }\n",
              "\n",
              "    .dataframe thead th {\n",
              "        text-align: right;\n",
              "    }\n",
              "</style>\n",
              "<table border=\"1\" class=\"dataframe\">\n",
              "  <thead>\n",
              "    <tr style=\"text-align: right;\">\n",
              "      <th></th>\n",
              "      <th>Method</th>\n",
              "      <th>CV R2</th>\n",
              "      <th>Test R2</th>\n",
              "    </tr>\n",
              "  </thead>\n",
              "  <tbody>\n",
              "    <tr>\n",
              "      <th>0</th>\n",
              "      <td>Baseline</td>\n",
              "      <td>0.403500</td>\n",
              "      <td>0.180737</td>\n",
              "    </tr>\n",
              "    <tr>\n",
              "      <th>1</th>\n",
              "      <td>AR(5) ElasticNet</td>\n",
              "      <td>0.555703</td>\n",
              "      <td>0.413611</td>\n",
              "    </tr>\n",
              "    <tr>\n",
              "      <th>2</th>\n",
              "      <td>AR(5) MLP</td>\n",
              "      <td>0.563007</td>\n",
              "      <td>0.417703</td>\n",
              "    </tr>\n",
              "    <tr>\n",
              "      <th>3</th>\n",
              "      <td>LSTM</td>\n",
              "      <td>0.530191</td>\n",
              "      <td>0.402781</td>\n",
              "    </tr>\n",
              "    <tr>\n",
              "      <th>4</th>\n",
              "      <td>Random forest</td>\n",
              "      <td>0.537000</td>\n",
              "      <td>0.402476</td>\n",
              "    </tr>\n",
              "    <tr>\n",
              "      <th>5</th>\n",
              "      <td>Boosting</td>\n",
              "      <td>0.521444</td>\n",
              "      <td>0.362522</td>\n",
              "    </tr>\n",
              "  </tbody>\n",
              "</table>\n",
              "</div>"
            ],
            "text/plain": [
              "             Method     CV R2   Test R2\n",
              "0          Baseline  0.403500  0.180737\n",
              "1  AR(5) ElasticNet  0.555703  0.413611\n",
              "2         AR(5) MLP  0.563007  0.417703\n",
              "3              LSTM  0.530191  0.402781\n",
              "4     Random forest  0.537000  0.402476\n",
              "5          Boosting  0.521444  0.362522"
            ]
          },
          "execution_count": 87,
          "metadata": {},
          "output_type": "execute_result"
        }
      ],
      "source": [
        "# Store the cv r2 and test r2\n",
        "r2_df.loc[5] = ['Boosting', search_bst.best_score_, testr2_bst]\n",
        "\n",
        "r2_df"
      ]
    },
    {
      "cell_type": "code",
      "execution_count": null,
      "id": "f6bc42f8",
      "metadata": {
        "id": "f6bc42f8"
      },
      "outputs": [],
      "source": [
        "import xgboost as xgb"
      ]
    },
    {
      "cell_type": "code",
      "execution_count": null,
      "id": "16e1c8f5",
      "metadata": {
        "id": "16e1c8f5"
      },
      "outputs": [],
      "source": [
        "# Model: XGBoost\n",
        "xgb_mod = xgb.XGBRegressor()"
      ]
    },
    {
      "cell_type": "code",
      "execution_count": null,
      "id": "a6a66ec4",
      "metadata": {
        "id": "a6a66ec4",
        "outputId": "037d978f-0b8a-4fa4-950c-eac4fd4339cc"
      },
      "outputs": [
        {
          "data": {
            "text/plain": [
              "Pipeline(steps=[('model',\n",
              "                 XGBRegressor(base_score=None, booster=None, callbacks=None,\n",
              "                              colsample_bylevel=None, colsample_bynode=None,\n",
              "                              colsample_bytree=None, early_stopping_rounds=None,\n",
              "                              enable_categorical=False, eval_metric=None,\n",
              "                              feature_types=None, gamma=None, gpu_id=None,\n",
              "                              grow_policy=None, importance_type=None,\n",
              "                              interaction_constraints=None, learning_rate=None,\n",
              "                              max_bin=None, max_cat_threshold=None,\n",
              "                              max_cat_to_onehot=None, max_delta_step=None,\n",
              "                              max_depth=None, max_leaves=None,\n",
              "                              min_child_weight=None, missing=nan,\n",
              "                              monotone_constraints=None, n_estimators=100,\n",
              "                              n_jobs=None, num_parallel_tree=None,\n",
              "                              predictor=None, random_state=None, ...))])"
            ]
          },
          "execution_count": 90,
          "metadata": {},
          "output_type": "execute_result"
        }
      ],
      "source": [
        "# Piepline: XGBoost\n",
        "pipe_xgb = Pipeline(steps = [\n",
        "    ('model', xgb_mod)\n",
        "])\n",
        "\n",
        "pipe_xgb"
      ]
    },
    {
      "cell_type": "code",
      "execution_count": null,
      "id": "0715a572",
      "metadata": {
        "id": "0715a572",
        "outputId": "bd082c8d-14d5-497a-e317-d865536f32e7"
      },
      "outputs": [
        {
          "data": {
            "text/plain": [
              "{'model__n_estimators': [25, 50, 75, 100, 150, 200],\n",
              " 'model__learning_rate': [0.01, 0.05, 0.1, 0.5, 1.0],\n",
              " 'model__min_child_weight': [1, 3, 5],\n",
              " 'model__max_depth': [3, 5, 7],\n",
              " 'model__reg_alpha': [0, 0.1, 0.5, 1.0],\n",
              " 'model__colsample_bytree': [0.5, 0.75, 1.0]}"
            ]
          },
          "execution_count": 91,
          "metadata": {},
          "output_type": "execute_result"
        }
      ],
      "source": [
        "# Tune hyper-parameters\n",
        "B_grid_xgb = [25, 50, 75, 100, 150, 200]\n",
        "lambda_grid_xgb = [0.01, 0.05, 0.1, 0.5, 1.0]\n",
        "mcw_grid_xgb = [1, 3, 5]\n",
        "md_grid_xgb = [3, 5, 7]\n",
        "alphas_grid_xgb = [0, 0.1, 0.5, 1.0]\n",
        "cby_grid_xgb = [0.5, 0.75, 1.0]\n",
        "\n",
        "tuned_parameters_xgb = {\n",
        "    'model__n_estimators': B_grid_xgb,\n",
        "    'model__learning_rate': lambda_grid_xgb,\n",
        "    'model__min_child_weight': mcw_grid_xgb,\n",
        "    'model__max_depth': md_grid_xgb,\n",
        "    'model__reg_alpha': alphas_grid_xgb,\n",
        "    'model__colsample_bytree': cby_grid_xgb\n",
        "}\n",
        "\n",
        "tuned_parameters_xgb"
      ]
    },
    {
      "cell_type": "code",
      "execution_count": null,
      "id": "5e12fd74",
      "metadata": {
        "id": "5e12fd74"
      },
      "outputs": [],
      "source": [
        "# Cross-validation\n",
        "search_xgb = GridSearchCV(\n",
        "  pipe_xgb,\n",
        "  tuned_parameters_xgb,\n",
        "  cv = tscv,\n",
        "  scoring = 'r2',\n",
        "  refit = True\n",
        "  )"
      ]
    },
    {
      "cell_type": "code",
      "execution_count": null,
      "id": "75e043ec",
      "metadata": {
        "id": "75e043ec",
        "outputId": "91a4a2f7-dac5-44cd-efa0-f8b094d5340b"
      },
      "outputs": [
        {
          "data": {
            "text/plain": [
              "GridSearchCV(cv=TimeSeriesSplit(gap=0, max_train_size=None, n_splits=5, test_size=None),\n",
              "             estimator=Pipeline(steps=[('model',\n",
              "                                        XGBRegressor(base_score=None,\n",
              "                                                     booster=None,\n",
              "                                                     callbacks=None,\n",
              "                                                     colsample_bylevel=None,\n",
              "                                                     colsample_bynode=None,\n",
              "                                                     colsample_bytree=None,\n",
              "                                                     early_stopping_rounds=None,\n",
              "                                                     enable_categorical=False,\n",
              "                                                     eval_metric=None,\n",
              "                                                     feature_types=None,\n",
              "                                                     gamma=None, gpu_id=...\n",
              "                                                     monotone_constraints=None,\n",
              "                                                     n_estimators=100,\n",
              "                                                     n_jobs=None,\n",
              "                                                     num_parallel_tree=None,\n",
              "                                                     predictor=None,\n",
              "                                                     random_state=None, ...))]),\n",
              "             param_grid={'model__colsample_bytree': [0.5, 0.75, 1.0],\n",
              "                         'model__learning_rate': [0.01, 0.05, 0.1, 0.5, 1.0],\n",
              "                         'model__max_depth': [3, 5, 7],\n",
              "                         'model__min_child_weight': [1, 3, 5],\n",
              "                         'model__n_estimators': [25, 50, 75, 100, 150, 200],\n",
              "                         'model__reg_alpha': [0, 0.1, 0.5, 1.0]},\n",
              "             scoring='r2')"
            ]
          },
          "execution_count": 93,
          "metadata": {},
          "output_type": "execute_result"
        }
      ],
      "source": [
        "# Fit CV\n",
        "search_xgb.fit(X_other_lagged, y_other[5:])"
      ]
    },
    {
      "cell_type": "code",
      "execution_count": null,
      "id": "14b95c0e",
      "metadata": {
        "id": "14b95c0e",
        "outputId": "d4624741-e610-4457-d08f-d5b3480a5c14"
      },
      "outputs": [
        {
          "name": "stdout",
          "output_type": "stream",
          "text": [
            "XGBoosting: \n",
            " best R2: 0.5443884331404998, \n",
            " best parameters: {'model__colsample_bytree': 0.75, 'model__learning_rate': 0.05, 'model__max_depth': 3, 'model__min_child_weight': 3, 'model__n_estimators': 150, 'model__reg_alpha': 0.5}.\n"
          ]
        }
      ],
      "source": [
        "# Results\n",
        "print(f'XGBoosting: \\n best R2: {search_xgb.best_score_}, \\n best parameters: {search_xgb.best_params_}.')"
      ]
    },
    {
      "cell_type": "code",
      "execution_count": null,
      "id": "e73a9c75",
      "metadata": {
        "id": "e73a9c75",
        "outputId": "90984dc7-997d-4990-d940-cd492e0eecef"
      },
      "outputs": [
        {
          "name": "stdout",
          "output_type": "stream",
          "text": [
            "The test R square of the XGBoosting method is 0.4135.\n"
          ]
        }
      ],
      "source": [
        "# Calculate the R square on test set\n",
        "y_pred_xgb = search_xgb.best_estimator_.predict(X_test_lagged)\n",
        "testr2_xgb = r2_score(y_test[5:], y_pred_xgb)\n",
        "\n",
        "print(f'The test R square of the XGBoosting method is {round(testr2_xgb,4)}.')"
      ]
    },
    {
      "cell_type": "code",
      "execution_count": null,
      "id": "35814993",
      "metadata": {
        "id": "35814993",
        "outputId": "5973132f-e9d6-4426-a4f7-ba4e79af3801"
      },
      "outputs": [
        {
          "data": {
            "text/html": [
              "<div>\n",
              "<style scoped>\n",
              "    .dataframe tbody tr th:only-of-type {\n",
              "        vertical-align: middle;\n",
              "    }\n",
              "\n",
              "    .dataframe tbody tr th {\n",
              "        vertical-align: top;\n",
              "    }\n",
              "\n",
              "    .dataframe thead th {\n",
              "        text-align: right;\n",
              "    }\n",
              "</style>\n",
              "<table border=\"1\" class=\"dataframe\">\n",
              "  <thead>\n",
              "    <tr style=\"text-align: right;\">\n",
              "      <th></th>\n",
              "      <th>Method</th>\n",
              "      <th>CV R2</th>\n",
              "      <th>Test R2</th>\n",
              "    </tr>\n",
              "  </thead>\n",
              "  <tbody>\n",
              "    <tr>\n",
              "      <th>0</th>\n",
              "      <td>Baseline</td>\n",
              "      <td>0.403500</td>\n",
              "      <td>0.180737</td>\n",
              "    </tr>\n",
              "    <tr>\n",
              "      <th>1</th>\n",
              "      <td>AR(5) ElasticNet</td>\n",
              "      <td>0.555703</td>\n",
              "      <td>0.413611</td>\n",
              "    </tr>\n",
              "    <tr>\n",
              "      <th>2</th>\n",
              "      <td>AR(5) MLP</td>\n",
              "      <td>0.563007</td>\n",
              "      <td>0.417703</td>\n",
              "    </tr>\n",
              "    <tr>\n",
              "      <th>3</th>\n",
              "      <td>LSTM</td>\n",
              "      <td>0.530191</td>\n",
              "      <td>0.402781</td>\n",
              "    </tr>\n",
              "    <tr>\n",
              "      <th>4</th>\n",
              "      <td>Random forest</td>\n",
              "      <td>0.537000</td>\n",
              "      <td>0.402476</td>\n",
              "    </tr>\n",
              "    <tr>\n",
              "      <th>5</th>\n",
              "      <td>Boosting</td>\n",
              "      <td>0.521444</td>\n",
              "      <td>0.362522</td>\n",
              "    </tr>\n",
              "    <tr>\n",
              "      <th>6</th>\n",
              "      <td>XGBoosting</td>\n",
              "      <td>0.544388</td>\n",
              "      <td>0.413452</td>\n",
              "    </tr>\n",
              "  </tbody>\n",
              "</table>\n",
              "</div>"
            ],
            "text/plain": [
              "             Method     CV R2   Test R2\n",
              "0          Baseline  0.403500  0.180737\n",
              "1  AR(5) ElasticNet  0.555703  0.413611\n",
              "2         AR(5) MLP  0.563007  0.417703\n",
              "3              LSTM  0.530191  0.402781\n",
              "4     Random forest  0.537000  0.402476\n",
              "5          Boosting  0.521444  0.362522\n",
              "6        XGBoosting  0.544388  0.413452"
            ]
          },
          "execution_count": 96,
          "metadata": {},
          "output_type": "execute_result"
        }
      ],
      "source": [
        "# Store the cv r2 and test r2\n",
        "r2_df.loc[6] = ['XGBoosting', search_xgb.best_score_, testr2_xgb]\n",
        "\n",
        "r2_df"
      ]
    },
    {
      "cell_type": "markdown",
      "id": "631136bd",
      "metadata": {
        "id": "631136bd"
      },
      "source": [
        "# Summary (30 pts)"
      ]
    },
    {
      "cell_type": "markdown",
      "id": "57a13601",
      "metadata": {
        "id": "57a13601"
      },
      "source": [
        "The summary table is presented below:"
      ]
    },
    {
      "cell_type": "code",
      "execution_count": null,
      "id": "cf4f0564",
      "metadata": {
        "id": "cf4f0564",
        "outputId": "9f0db768-b96b-4a18-d7a6-dfb0b28971a7"
      },
      "outputs": [
        {
          "data": {
            "text/html": [
              "<div>\n",
              "<style scoped>\n",
              "    .dataframe tbody tr th:only-of-type {\n",
              "        vertical-align: middle;\n",
              "    }\n",
              "\n",
              "    .dataframe tbody tr th {\n",
              "        vertical-align: top;\n",
              "    }\n",
              "\n",
              "    .dataframe thead th {\n",
              "        text-align: right;\n",
              "    }\n",
              "</style>\n",
              "<table border=\"1\" class=\"dataframe\">\n",
              "  <thead>\n",
              "    <tr style=\"text-align: right;\">\n",
              "      <th></th>\n",
              "      <th>Method</th>\n",
              "      <th>CV R2</th>\n",
              "      <th>Test R2</th>\n",
              "    </tr>\n",
              "  </thead>\n",
              "  <tbody>\n",
              "    <tr>\n",
              "      <th>0</th>\n",
              "      <td>Baseline</td>\n",
              "      <td>0.403500</td>\n",
              "      <td>0.180737</td>\n",
              "    </tr>\n",
              "    <tr>\n",
              "      <th>1</th>\n",
              "      <td>AR(5) ElasticNet</td>\n",
              "      <td>0.555703</td>\n",
              "      <td>0.413611</td>\n",
              "    </tr>\n",
              "    <tr>\n",
              "      <th>2</th>\n",
              "      <td>AR(5) MLP</td>\n",
              "      <td>0.563007</td>\n",
              "      <td>0.417703</td>\n",
              "    </tr>\n",
              "    <tr>\n",
              "      <th>3</th>\n",
              "      <td>LSTM</td>\n",
              "      <td>0.530191</td>\n",
              "      <td>0.402781</td>\n",
              "    </tr>\n",
              "    <tr>\n",
              "      <th>4</th>\n",
              "      <td>Random forest</td>\n",
              "      <td>0.537000</td>\n",
              "      <td>0.402476</td>\n",
              "    </tr>\n",
              "    <tr>\n",
              "      <th>5</th>\n",
              "      <td>Boosting</td>\n",
              "      <td>0.521444</td>\n",
              "      <td>0.362522</td>\n",
              "    </tr>\n",
              "    <tr>\n",
              "      <th>6</th>\n",
              "      <td>XGBoosting</td>\n",
              "      <td>0.544388</td>\n",
              "      <td>0.413452</td>\n",
              "    </tr>\n",
              "  </tbody>\n",
              "</table>\n",
              "</div>"
            ],
            "text/plain": [
              "             Method     CV R2   Test R2\n",
              "0          Baseline  0.403500  0.180737\n",
              "1  AR(5) ElasticNet  0.555703  0.413611\n",
              "2         AR(5) MLP  0.563007  0.417703\n",
              "3              LSTM  0.530191  0.402781\n",
              "4     Random forest  0.537000  0.402476\n",
              "5          Boosting  0.521444  0.362522\n",
              "6        XGBoosting  0.544388  0.413452"
            ]
          },
          "execution_count": 97,
          "metadata": {},
          "output_type": "execute_result"
        }
      ],
      "source": [
        "r2_df"
      ]
    }
  ],
  "metadata": {
    "kernelspec": {
      "display_name": "Python 3 (ipykernel)",
      "language": "python",
      "name": "python3"
    },
    "language_info": {
      "codemirror_mode": {
        "name": "ipython",
        "version": 3
      },
      "file_extension": ".py",
      "mimetype": "text/x-python",
      "name": "python",
      "nbconvert_exporter": "python",
      "pygments_lexer": "ipython3",
      "version": "3.9.12"
    },
    "toc": {
      "base_numbering": 1,
      "nav_menu": {},
      "number_sections": false,
      "sideBar": true,
      "skip_h1_title": false,
      "title_cell": "Table of Contents",
      "title_sidebar": "Contents",
      "toc_cell": false,
      "toc_position": {},
      "toc_section_display": true,
      "toc_window_display": false
    },
    "colab": {
      "provenance": [],
      "include_colab_link": true
    }
  },
  "nbformat": 4,
  "nbformat_minor": 5
}
