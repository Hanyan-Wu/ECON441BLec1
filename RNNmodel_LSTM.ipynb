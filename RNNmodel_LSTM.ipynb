{
  "cells": [
    {
      "cell_type": "markdown",
      "metadata": {
        "id": "view-in-github",
        "colab_type": "text"
      },
      "source": [
        "<a href=\"https://colab.research.google.com/github/Hanyan-Wu/MachineLearningLab/blob/main/RNNmodel_LSTM.ipynb\" target=\"_parent\"><img src=\"https://colab.research.google.com/assets/colab-badge.svg\" alt=\"Open In Colab\"/></a>"
      ]
    },
    {
      "cell_type": "markdown",
      "metadata": {
        "id": "6dJuZDx9qWeM"
      },
      "source": [
        "# 1.) Import an asset price from Yahoo Finance"
      ]
    },
    {
      "cell_type": "code",
      "source": [
        "pip install yfinance"
      ],
      "metadata": {
        "colab": {
          "base_uri": "https://localhost:8080/"
        },
        "id": "G7xF9FLepka5",
        "outputId": "656f8898-840b-4176-ffc2-c5096b7a6698"
      },
      "execution_count": 1,
      "outputs": [
        {
          "output_type": "stream",
          "name": "stdout",
          "text": [
            "Looking in indexes: https://pypi.org/simple, https://us-python.pkg.dev/colab-wheels/public/simple/\n",
            "Requirement already satisfied: yfinance in /usr/local/lib/python3.8/dist-packages (0.2.12)\n",
            "Requirement already satisfied: appdirs>=1.4.4 in /usr/local/lib/python3.8/dist-packages (from yfinance) (1.4.4)\n",
            "Requirement already satisfied: cryptography>=3.3.2 in /usr/local/lib/python3.8/dist-packages (from yfinance) (39.0.1)\n",
            "Requirement already satisfied: requests>=2.26 in /usr/local/lib/python3.8/dist-packages (from yfinance) (2.28.2)\n",
            "Requirement already satisfied: html5lib>=1.1 in /usr/local/lib/python3.8/dist-packages (from yfinance) (1.1)\n",
            "Requirement already satisfied: pytz>=2022.5 in /usr/local/lib/python3.8/dist-packages (from yfinance) (2022.7.1)\n",
            "Requirement already satisfied: frozendict>=2.3.4 in /usr/local/lib/python3.8/dist-packages (from yfinance) (2.3.5)\n",
            "Requirement already satisfied: pandas>=1.3.0 in /usr/local/lib/python3.8/dist-packages (from yfinance) (1.3.5)\n",
            "Requirement already satisfied: beautifulsoup4>=4.11.1 in /usr/local/lib/python3.8/dist-packages (from yfinance) (4.11.2)\n",
            "Requirement already satisfied: multitasking>=0.0.7 in /usr/local/lib/python3.8/dist-packages (from yfinance) (0.0.11)\n",
            "Requirement already satisfied: numpy>=1.16.5 in /usr/local/lib/python3.8/dist-packages (from yfinance) (1.22.4)\n",
            "Requirement already satisfied: lxml>=4.9.1 in /usr/local/lib/python3.8/dist-packages (from yfinance) (4.9.2)\n",
            "Requirement already satisfied: soupsieve>1.2 in /usr/local/lib/python3.8/dist-packages (from beautifulsoup4>=4.11.1->yfinance) (2.4)\n",
            "Requirement already satisfied: cffi>=1.12 in /usr/local/lib/python3.8/dist-packages (from cryptography>=3.3.2->yfinance) (1.15.1)\n",
            "Requirement already satisfied: six>=1.9 in /usr/local/lib/python3.8/dist-packages (from html5lib>=1.1->yfinance) (1.15.0)\n",
            "Requirement already satisfied: webencodings in /usr/local/lib/python3.8/dist-packages (from html5lib>=1.1->yfinance) (0.5.1)\n",
            "Requirement already satisfied: python-dateutil>=2.7.3 in /usr/local/lib/python3.8/dist-packages (from pandas>=1.3.0->yfinance) (2.8.2)\n",
            "Requirement already satisfied: charset-normalizer<4,>=2 in /usr/local/lib/python3.8/dist-packages (from requests>=2.26->yfinance) (3.0.1)\n",
            "Requirement already satisfied: certifi>=2017.4.17 in /usr/local/lib/python3.8/dist-packages (from requests>=2.26->yfinance) (2022.12.7)\n",
            "Requirement already satisfied: idna<4,>=2.5 in /usr/local/lib/python3.8/dist-packages (from requests>=2.26->yfinance) (2.10)\n",
            "Requirement already satisfied: urllib3<1.27,>=1.21.1 in /usr/local/lib/python3.8/dist-packages (from requests>=2.26->yfinance) (1.24.3)\n",
            "Requirement already satisfied: pycparser in /usr/local/lib/python3.8/dist-packages (from cffi>=1.12->cryptography>=3.3.2->yfinance) (2.21)\n"
          ]
        }
      ]
    },
    {
      "cell_type": "code",
      "execution_count": 2,
      "metadata": {
        "id": "wgNaOhz9t0dG"
      },
      "outputs": [],
      "source": [
        "import yfinance as yf\n",
        "import numpy as np\n",
        "import pandas as pd"
      ]
    },
    {
      "cell_type": "code",
      "execution_count": 3,
      "metadata": {
        "colab": {
          "base_uri": "https://localhost:8080/"
        },
        "id": "Y3bcwJb4rp93",
        "outputId": "8ac589e4-94b9-4248-f4c8-fe731538cd79"
      },
      "outputs": [
        {
          "output_type": "stream",
          "name": "stdout",
          "text": [
            "\r[*********************100%***********************]  1 of 1 completed\n"
          ]
        }
      ],
      "source": [
        "########################################\n",
        "####Pick your ticker and time period####\n",
        "########################################\n",
        "\n",
        "stock_data = yf.download(\"F\", start=\"1990-01-01\", end=\"2022-02-21\")\n",
        "\n",
        "\n",
        "# Preprocess data\n",
        "scaled_data = np.array(stock_data[\"Close\"].pct_change().dropna()).reshape(-1,1)\n",
        "\n",
        "\n",
        "# Split data into training and test sets\n",
        "training_data_len = int(len(scaled_data) * 0.8)\n",
        "train_data = scaled_data[0:training_data_len, :]"
      ]
    },
    {
      "cell_type": "markdown",
      "metadata": {
        "id": "foHoGy9hq3_o"
      },
      "source": [
        "# 2.) Create your x_train/y_train data so that your RNN uses percentage change data to make a binary forecast where the stock moves up or down the next day\n",
        "# Build an RNN Architecture accordingly"
      ]
    },
    {
      "cell_type": "code",
      "source": [
        "train_data"
      ],
      "metadata": {
        "colab": {
          "base_uri": "https://localhost:8080/"
        },
        "id": "54TSMDG1DIZS",
        "outputId": "36059cbe-4f3b-4cbb-bf67-708aa7f4a2c5"
      },
      "execution_count": 4,
      "outputs": [
        {
          "output_type": "execute_result",
          "data": {
            "text/plain": [
              "array([[ 0.00552474],\n",
              "       [ 0.        ],\n",
              "       [-0.01373619],\n",
              "       ...,\n",
              "       [-0.00145663],\n",
              "       [ 0.00510574],\n",
              "       [ 0.03846159]])"
            ]
          },
          "metadata": {},
          "execution_count": 4
        }
      ]
    },
    {
      "cell_type": "code",
      "source": [
        "x_train = []\n",
        "y_train = []\n",
        "\n",
        "#############################################################\n",
        "####Pick your input size and edit to make binary forecast####\n",
        "#############################################################\n",
        "input_size = 5 # number of lags 5 10 20 50 ...\n",
        "for i in range(input_size, len(train_data)):\n",
        "    x_train.append(train_data[i-input_size:i, 0])\n",
        "    y_train.append(train_data[i, 0])"
      ],
      "metadata": {
        "id": "xoMCfwnnA4FQ"
      },
      "execution_count": 5,
      "outputs": []
    },
    {
      "cell_type": "code",
      "source": [
        "y_train[:5]"
      ],
      "metadata": {
        "colab": {
          "base_uri": "https://localhost:8080/"
        },
        "id": "_ZW1Si7kCeOw",
        "outputId": "7c314e76-988e-4eb5-b2e2-0bab2ac5c701"
      },
      "execution_count": 6,
      "outputs": [
        {
          "output_type": "execute_result",
          "data": {
            "text/plain": [
              "[0.008498632221580982,\n",
              " 0.011235940540534894,\n",
              " -0.02777791650034478,\n",
              " -0.011428558458832505,\n",
              " 0.04046256255464575]"
            ]
          },
          "metadata": {},
          "execution_count": 6
        }
      ]
    },
    {
      "cell_type": "code",
      "source": [
        "# # if y_train[i] > 0 --> 1, if y_train[i] <= 0 --> 0 (using np.where)\n",
        "y_train = np.where(np.array(y_train) > 0, 1, 0)\n",
        "y_train[:5]"
      ],
      "metadata": {
        "colab": {
          "base_uri": "https://localhost:8080/"
        },
        "id": "o75mcABaA9Jf",
        "outputId": "606260e6-d30d-4ad9-d70d-1c381b1ae6e7"
      },
      "execution_count": 7,
      "outputs": [
        {
          "output_type": "execute_result",
          "data": {
            "text/plain": [
              "array([1, 1, 0, 0, 1])"
            ]
          },
          "metadata": {},
          "execution_count": 7
        }
      ]
    },
    {
      "cell_type": "code",
      "source": [
        "x_train = np.array(x_train)\n",
        "x_train = np.reshape(x_train, (x_train.shape[0], x_train.shape[1], 1))"
      ],
      "metadata": {
        "id": "d5_7BC5vCm_Z"
      },
      "execution_count": 8,
      "outputs": []
    },
    {
      "cell_type": "code",
      "source": [
        "x_train[:5]"
      ],
      "metadata": {
        "colab": {
          "base_uri": "https://localhost:8080/"
        },
        "id": "qn_eSawHC0X9",
        "outputId": "cf2cbc8e-6999-4f98-dd32-7ef93ad93f23"
      },
      "execution_count": 9,
      "outputs": [
        {
          "output_type": "execute_result",
          "data": {
            "text/plain": [
              "array([[[ 0.00552474],\n",
              "        [ 0.        ],\n",
              "        [-0.01373619],\n",
              "        [ 0.        ],\n",
              "        [-0.01671307]],\n",
              "\n",
              "       [[ 0.        ],\n",
              "        [-0.01373619],\n",
              "        [ 0.        ],\n",
              "        [-0.01671307],\n",
              "        [ 0.00849863]],\n",
              "\n",
              "       [[-0.01373619],\n",
              "        [ 0.        ],\n",
              "        [-0.01671307],\n",
              "        [ 0.00849863],\n",
              "        [ 0.01123594]],\n",
              "\n",
              "       [[ 0.        ],\n",
              "        [-0.01671307],\n",
              "        [ 0.00849863],\n",
              "        [ 0.01123594],\n",
              "        [-0.02777792]],\n",
              "\n",
              "       [[-0.01671307],\n",
              "        [ 0.00849863],\n",
              "        [ 0.01123594],\n",
              "        [-0.02777792],\n",
              "        [-0.01142856]]])"
            ]
          },
          "metadata": {},
          "execution_count": 9
        }
      ]
    },
    {
      "cell_type": "code",
      "source": [
        "# from sklearn.preprocessing import MinMaxScaler\n",
        "from tensorflow.keras.models import Sequential\n",
        "from tensorflow.keras.layers import Dense, LSTM, Dropout"
      ],
      "metadata": {
        "id": "c2IpE82ZuVQL"
      },
      "execution_count": 10,
      "outputs": []
    },
    {
      "cell_type": "code",
      "source": [
        "x_train.shape"
      ],
      "metadata": {
        "colab": {
          "base_uri": "https://localhost:8080/"
        },
        "id": "yKcQzs8oEncV",
        "outputId": "86aa8fc7-7f5e-4ab2-f347-e81f28fc8803"
      },
      "execution_count": 11,
      "outputs": [
        {
          "output_type": "execute_result",
          "data": {
            "text/plain": [
              "(6472, 5, 1)"
            ]
          },
          "metadata": {},
          "execution_count": 11
        }
      ]
    },
    {
      "cell_type": "code",
      "execution_count": 12,
      "metadata": {
        "id": "5qGFB5HfqcVd",
        "colab": {
          "base_uri": "https://localhost:8080/"
        },
        "outputId": "9e030c79-f3d3-4ceb-d9dc-0a9ffb76f21a"
      },
      "outputs": [
        {
          "output_type": "stream",
          "name": "stdout",
          "text": [
            "Epoch 1/3\n",
            "6472/6472 [==============================] - 69s 9ms/step - loss: 0.2496\n",
            "Epoch 2/3\n",
            "6472/6472 [==============================] - 57s 9ms/step - loss: 0.2494\n",
            "Epoch 3/3\n",
            "6472/6472 [==============================] - 55s 9ms/step - loss: 0.2494\n"
          ]
        },
        {
          "output_type": "execute_result",
          "data": {
            "text/plain": [
              "<keras.callbacks.History at 0x7f5844cb3d90>"
            ]
          },
          "metadata": {},
          "execution_count": 12
        }
      ],
      "source": [
        "###################################\n",
        "####Build Your RNN Architecture####\n",
        "###################################\n",
        "model = Sequential()\n",
        "\n",
        "# First layer --> LSTM layer\n",
        "model.add(LSTM(x_train.shape[1], return_sequences=True, input_shape=(x_train.shape[1], 1)))\n",
        "\n",
        "# Adding more LSTM layers and perceptron layers\n",
        "## LSTM layers take in as sequence, the dense layers do not take in sequences\n",
        "## Also where to put in drop out percentages\n",
        "\n",
        "model.add(LSTM(20, return_sequences=True))\n",
        "model.add(Dropout(0.2)) # Add a dropout layer with a dropout rate of 0.2\n",
        "\n",
        "model.add(LSTM(10, return_sequences=False))\n",
        "model.add(Dropout(0.1))\n",
        "\n",
        "model.add(Dense(25))\n",
        "model.add(Dense(5))\n",
        "\n",
        "# Classification: choose your activation function\n",
        "## for the last layer --> output = 0 or 1\n",
        "model.add(Dense(1, activation='sigmoid'))\n",
        "\n",
        "\n",
        "model.compile(optimizer='adam', loss='mean_squared_error')\n",
        "model.fit(x_train, y_train, batch_size=1, epochs=3)"
      ]
    },
    {
      "cell_type": "markdown",
      "metadata": {
        "id": "yFhO9vMjsWPk"
      },
      "source": [
        "# 3.) Test your model and compare insample Accurracy, insample random walk assumption Accuracy, Out of sample Accuracy and out of sample random walk assumption Accuracy using a bar chart"
      ]
    },
    {
      "cell_type": "code",
      "execution_count": 13,
      "metadata": {
        "id": "r1Xj6Ji-rwnM"
      },
      "outputs": [],
      "source": [
        "# Subset test data\n",
        "test_data = scaled_data[training_data_len - input_size:, :]\n",
        "\n",
        "# x_test\n",
        "x_test = []\n",
        "\n",
        "for i in range(input_size, len(test_data)):\n",
        "    x_test.append(test_data[i-input_size:i, 0])\n",
        "\n",
        "\n",
        "x_test = np.array(x_test)\n",
        "x_test = np.reshape(x_test, (x_test.shape[0], x_test.shape[1], 1))"
      ]
    },
    {
      "cell_type": "code",
      "source": [
        "x_test[:5]"
      ],
      "metadata": {
        "colab": {
          "base_uri": "https://localhost:8080/"
        },
        "id": "_3YguUJOKe4a",
        "outputId": "bdfaab66-5479-45a2-fb4a-c99fd1b9dc57"
      },
      "execution_count": 14,
      "outputs": [
        {
          "output_type": "execute_result",
          "data": {
            "text/plain": [
              "array([[[-0.01024143],\n",
              "        [ 0.01478195],\n",
              "        [-0.00145663],\n",
              "        [ 0.00510574],\n",
              "        [ 0.03846159]],\n",
              "\n",
              "       [[ 0.01478195],\n",
              "        [-0.00145663],\n",
              "        [ 0.00510574],\n",
              "        [ 0.03846159],\n",
              "        [ 0.02306079]],\n",
              "\n",
              "       [[-0.00145663],\n",
              "        [ 0.00510574],\n",
              "        [ 0.03846159],\n",
              "        [ 0.02306079],\n",
              "        [-0.00273224]],\n",
              "\n",
              "       [[ 0.00510574],\n",
              "        [ 0.03846159],\n",
              "        [ 0.02306079],\n",
              "        [-0.00273224],\n",
              "        [-0.02191785]],\n",
              "\n",
              "       [[ 0.03846159],\n",
              "        [ 0.02306079],\n",
              "        [-0.00273224],\n",
              "        [-0.02191785],\n",
              "        [ 0.00280112]]])"
            ]
          },
          "metadata": {},
          "execution_count": 14
        }
      ]
    },
    {
      "cell_type": "code",
      "source": [
        "# y_test\n",
        "y_test = np.array(stock_data[[\"Close\"]].pct_change().dropna())[training_data_len:, :]"
      ],
      "metadata": {
        "id": "7XYEbq3dKcJs"
      },
      "execution_count": 15,
      "outputs": []
    },
    {
      "cell_type": "code",
      "source": [
        "y_test[:5]"
      ],
      "metadata": {
        "colab": {
          "base_uri": "https://localhost:8080/"
        },
        "id": "A_MsWcP1KjH6",
        "outputId": "d46ed74f-ef71-46b2-ee2a-5d2aa66174b3"
      },
      "execution_count": 16,
      "outputs": [
        {
          "output_type": "execute_result",
          "data": {
            "text/plain": [
              "array([[ 0.02306079],\n",
              "       [-0.00273224],\n",
              "       [-0.02191785],\n",
              "       [ 0.00280112],\n",
              "       [-0.02793293]])"
            ]
          },
          "metadata": {},
          "execution_count": 16
        }
      ]
    },
    {
      "cell_type": "code",
      "source": [
        "y_test = np.array(np.where(np.array(y_test) > 0, 1, 0))"
      ],
      "metadata": {
        "id": "Xr31ZncAKpj6"
      },
      "execution_count": 17,
      "outputs": []
    },
    {
      "cell_type": "code",
      "source": [
        "y_test = [sublist[0] for sublist in list(y_test)]\n",
        "y_test[:5]"
      ],
      "metadata": {
        "colab": {
          "base_uri": "https://localhost:8080/"
        },
        "id": "bkQuhKZeK7m6",
        "outputId": "a8dc55f3-d48e-4d01-809a-5ae72d715a23"
      },
      "execution_count": 18,
      "outputs": [
        {
          "output_type": "execute_result",
          "data": {
            "text/plain": [
              "[1, 0, 0, 1, 0]"
            ]
          },
          "metadata": {},
          "execution_count": 18
        }
      ]
    },
    {
      "cell_type": "code",
      "source": [
        "# Make predictions\n",
        "predictions = model.predict(x_test)"
      ],
      "metadata": {
        "colab": {
          "base_uri": "https://localhost:8080/"
        },
        "id": "SbIvFCbbKTNd",
        "outputId": "95947a29-f5b6-4afb-9f23-8f66e80d93a4"
      },
      "execution_count": 19,
      "outputs": [
        {
          "output_type": "stream",
          "name": "stdout",
          "text": [
            "51/51 [==============================] - 2s 4ms/step\n"
          ]
        }
      ]
    },
    {
      "cell_type": "code",
      "source": [
        "# Make classifications\n",
        "y_pred = np.round(predictions)\n",
        "np.unique(y_pred, return_counts=True)"
      ],
      "metadata": {
        "colab": {
          "base_uri": "https://localhost:8080/"
        },
        "id": "ifABKKhXO2Nc",
        "outputId": "75fd2490-5eba-4afb-a408-fefa16d3c4de"
      },
      "execution_count": 20,
      "outputs": [
        {
          "output_type": "execute_result",
          "data": {
            "text/plain": [
              "(array([0.], dtype=float32), array([1620]))"
            ]
          },
          "metadata": {},
          "execution_count": 20
        }
      ]
    },
    {
      "cell_type": "code",
      "source": [
        "# Record training set predictions\n",
        "y_pred_in = np.round(model.predict(x_train))\n",
        "np.unique(y_pred_in, return_counts=True)"
      ],
      "metadata": {
        "colab": {
          "base_uri": "https://localhost:8080/"
        },
        "id": "5wLs1wHTrUx7",
        "outputId": "dd8a2ca8-9fa2-4f93-9fe7-4d00eeb9d53e"
      },
      "execution_count": 21,
      "outputs": [
        {
          "output_type": "stream",
          "name": "stdout",
          "text": [
            "203/203 [==============================] - 1s 4ms/step\n"
          ]
        },
        {
          "output_type": "execute_result",
          "data": {
            "text/plain": [
              "(array([0.], dtype=float32), array([6472]))"
            ]
          },
          "metadata": {},
          "execution_count": 21
        }
      ]
    },
    {
      "cell_type": "code",
      "source": [
        "from sklearn.metrics import accuracy_score\n",
        "import matplotlib.pyplot as plt"
      ],
      "metadata": {
        "id": "ioBr30ejqN7u"
      },
      "execution_count": 22,
      "outputs": []
    },
    {
      "cell_type": "code",
      "execution_count": 23,
      "metadata": {
        "id": "Mvo2INihZMhk",
        "colab": {
          "base_uri": "https://localhost:8080/",
          "height": 297
        },
        "outputId": "f9d3239e-5000-4601-f0d4-432c072ce798"
      },
      "outputs": [
        {
          "output_type": "display_data",
          "data": {
            "text/plain": [
              "<Figure size 432x288 with 1 Axes>"
            ],
            "image/png": "[encoded data removed]"
          },
          "metadata": {
            "needs_background": "light"
          }
        }
      ],
      "source": [
        "# IN random walk model accuracy\n",
        "acc_ran_in = accuracy_score(y_train[1:], y_train[:-1])\n",
        "\n",
        "# OOS Random walk model accuracy\n",
        "acc_ran_out = accuracy_score(y_test[1:], y_test[:-1])\n",
        "\n",
        "# IN model accuracy\n",
        "acc_in = accuracy_score(y_train, y_pred_in)\n",
        "\n",
        "# OOS model accuracy\n",
        "acc_out = accuracy_score(y_test, y_pred)\n",
        "\n",
        "# Plot the accuracies\n",
        "plt.title('Accuracies comparison')\n",
        "plt.bar(['random walk in', 'random walk oos', 'RNN in', 'RNN oos'],\n",
        "        [acc_ran_in, acc_ran_out, acc_in, acc_out])\n",
        "plt.grid()\n",
        "plt.tight_layout()"
      ]
    },
    {
      "cell_type": "markdown",
      "metadata": {
        "id": "8bncNwh8tKiE"
      },
      "source": [
        "# DONT DO 4.) Plot in and out of sample accuracy"
      ]
    },
    {
      "cell_type": "code",
      "execution_count": 24,
      "metadata": {
        "id": "d698mdExtfHp"
      },
      "outputs": [],
      "source": [
        "# import matplotlib.pyplot as plt\n",
        "\n",
        "# Make predictions on full dataset\n",
        "\n",
        "# test_predict = model.predict(x_test)\n",
        "# test_predictions = (test_predict+1).reshape(1,-1) * np.cumprod(y_test+1)\n",
        "\n",
        "# train_predict = model.predict(x_train)\n",
        "# train_predictions = (train_predict+1).reshape(1,-1) * np.cumprod(y_train+1)\n",
        "\n",
        "\n",
        "\n",
        "# plt.plot(stock_data[:training_data_len- input_size].index, np.cumprod(y_train+1), label=\"Training Data\")\n",
        "# plt.plot(stock_data[:training_data_len- input_size].index, train_predictions[0], label=\"Training Predictions\")\n",
        "# end_val = np.cumprod(y_train+1)[-1]\n",
        "# test_predict = model.predict(x_test)\n",
        "# test_predictions = (test_predict+1).reshape(1,-1) * (np.cumprod((y_test+1))*end_val)\n",
        "# plt.plot(stock_data[training_data_len+1:].index, np.cumprod((y_test+1))*end_val,label=\"Test Data\")\n",
        "# plt.plot(stock_data[training_data_len+1:].index, test_predictions[0], label=\"Test Predictions\")\n",
        "# plt.xlabel(\"Date\")\n",
        "# plt.ylabel(\"Stock Price\")\n",
        "# plt.legend()\n",
        "# plt.show()"
      ]
    },
    {
      "cell_type": "markdown",
      "metadata": {
        "id": "bK_jyyEEtTUB"
      },
      "source": [
        "# 5.) Write an observation/conclusion about the graphs from Q4 and Q3"
      ]
    },
    {
      "cell_type": "markdown",
      "source": [
        "The accuracies of the RNN model are not very good, only narrowly beat the random walk accuracies. This is probably because the stock market in the US is at least semi-form strong, prediction using only historical data could harldly be accurate. "
      ],
      "metadata": {
        "id": "oKZDCQFfuBoC"
      }
    },
    {
      "cell_type": "markdown",
      "metadata": {
        "id": "pFtrp-lmtw6t"
      },
      "source": [
        "# 6.) Create a parameter for number of lags in your input layer. Do a 3-fold CV to test three different time lags. i.e. Tested using 5,10,20 days of previous price data to forecast"
      ]
    },
    {
      "cell_type": "code",
      "source": [
        "from sklearn.model_selection import GridSearchCV\n",
        "from keras.wrappers.scikit_learn import KerasClassifier\n",
        "from keras.wrappers.scikit_learn import KerasRegressor"
      ],
      "metadata": {
        "id": "UCitM6tXuQoL"
      },
      "execution_count": 25,
      "outputs": []
    },
    {
      "cell_type": "code",
      "execution_count": 26,
      "metadata": {
        "id": "kEOQ6TO0-Fnw"
      },
      "outputs": [],
      "source": [
        "# Define the Keras model\n",
        "def create_model(input_size):\n",
        "    # # Gloablally change the inputs\n",
        "    # x_train = []\n",
        "    # y_train = []\n",
        "\n",
        "    # for i in range(input_size, len(train_data)):\n",
        "    #     x_train.append(train_data[i-input_size:i, 0])\n",
        "    #     y_train.append(train_data[i, 0])\n",
        "\n",
        "    # x_train, y_train = np.array(x_train), np.array(y_train)\n",
        "    # y_train = np.where(y_train > 0, 1, 0)\n",
        "\n",
        "    # Model constructed in Q2\n",
        "    model_cv = Sequential()\n",
        "\n",
        "    model_cv.add(LSTM(x_train.shape[1], return_sequences=True, input_shape=(x_train.shape[1], 1)))\n",
        "\n",
        "    model_cv.add(LSTM(20, return_sequences=True))\n",
        "    model_cv.add(Dropout(0.2)) # Add a dropout layer with a dropout rate of 0.2\n",
        "\n",
        "    model_cv.add(LSTM(10, return_sequences=False))\n",
        "    model_cv.add(Dropout(0.1))\n",
        "\n",
        "    model_cv.add(Dense(25))\n",
        "    model_cv.add(Dense(5))\n",
        "    model_cv.add(Dense(1, activation='sigmoid'))\n",
        "\n",
        "    model_cv.compile(optimizer='adam', loss='mean_squared_error', metrics=['accuracy'])\n",
        "\n",
        "    return model_cv"
      ]
    },
    {
      "cell_type": "code",
      "source": [
        "def get_modified_data(param_dict):\n",
        "    # modify x_train and y_train based on the hyperparameters in param_dict\n",
        "    input_size = param_dict['input_size']\n",
        "    \n",
        "    new_x_train = []\n",
        "    new_y_train = []\n",
        "\n",
        "    for i in range(input_size, len(train_data)):\n",
        "        new_x_train.append(train_data[i-input_size:i, 0])\n",
        "        new_y_train.append(train_data[i, 0])\n",
        "\n",
        "    new_x_train, new_y_train = np.array(new_x_train), np.array(new_y_train)\n",
        "    new_y_train = np.where(new_y_train > 0, 1, 0)\n",
        "\n",
        "    return new_x_train, new_y_train\n",
        "\n",
        "# define the Keras model\n",
        "model_keras = KerasRegressor(build_fn=create_model, verbose=0)\n",
        "\n",
        "# define the parameter grid\n",
        "param_grid = {\n",
        "    'epochs': [1],\n",
        "    'input_size': [5, 10, 20]\n",
        "    }\n",
        "\n",
        "# define the GridSearchCV object\n",
        "grid = GridSearchCV(estimator=model_keras, param_grid=param_grid, cv=3, pre_dispatch=get_modified_data)\n",
        "\n",
        "# fit the GridSearchCV object\n",
        "grid_result = grid.fit(x_train, y_train)\n",
        "\n",
        "print(\"Best: %f using %s\" % (grid_result.best_score_, grid_result.best_params_))"
      ],
      "metadata": {
        "colab": {
          "base_uri": "https://localhost:8080/"
        },
        "id": "H8qKFZd4CZtu",
        "outputId": "ae14ecf7-60db-4950-9a27-587eaef7c5ac"
      },
      "execution_count": 29,
      "outputs": [
        {
          "output_type": "stream",
          "name": "stderr",
          "text": [
            "<ipython-input-29-761b50912e18>:18: DeprecationWarning: KerasRegressor is deprecated, use Sci-Keras (https://github.com/adriangb/scikeras) instead. See https://www.adriangb.com/scikeras/stable/migration.html for help migrating.\n",
            "  model_keras = KerasRegressor(build_fn=create_model, verbose=0)\n"
          ]
        },
        {
          "output_type": "stream",
          "name": "stdout",
          "text": [
            "Best: -0.249376 using {'epochs': 1, 'input_size': 20}\n"
          ]
        }
      ]
    }
  ],
  "metadata": {
    "colab": {
      "provenance": [],
      "include_colab_link": true
    },
    "kernelspec": {
      "display_name": "Python 3 (ipykernel)",
      "language": "python",
      "name": "python3"
    },
    "language_info": {
      "codemirror_mode": {
        "name": "ipython",
        "version": 3
      },
      "file_extension": ".py",
      "mimetype": "text/x-python",
      "name": "python",
      "nbconvert_exporter": "python",
      "pygments_lexer": "ipython3",
      "version": "3.9.12"
    },
    "toc": {
      "base_numbering": 1,
      "nav_menu": {},
      "number_sections": false,
      "sideBar": true,
      "skip_h1_title": false,
      "title_cell": "Table of Contents",
      "title_sidebar": "Contents",
      "toc_cell": false,
      "toc_position": {},
      "toc_section_display": true,
      "toc_window_display": false
    }
  },
  "nbformat": 4,
  "nbformat_minor": 0
}