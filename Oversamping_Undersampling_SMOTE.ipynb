{
  "nbformat": 4,
  "nbformat_minor": 0,
  "metadata": {
    "colab": {
      "provenance": [],
      "include_colab_link": true
    },
    "kernelspec": {
      "name": "python3",
      "display_name": "Python 3"
    },
    "language_info": {
      "name": "python"
    }
  },
  "cells": [
    {
      "cell_type": "markdown",
      "metadata": {
        "id": "view-in-github",
        "colab_type": "text"
      },
      "source": [
        "<a href=\"https://colab.research.google.com/github/Hanyan-Wu/MachineLearningLab/blob/main/Oversamping_Undersampling_SMOTE.ipynb\" target=\"_parent\"><img src=\"https://colab.research.google.com/assets/colab-badge.svg\" alt=\"Open In Colab\"/></a>"
      ]
    },
    {
      "cell_type": "markdown",
      "source": [
        "# 0.) Import the Credit Card Fraud Data From CCLE"
      ],
      "metadata": {
        "id": "7ywSRtNI4s5h"
      }
    },
    {
      "cell_type": "code",
      "execution_count": 1,
      "metadata": {
        "id": "nsG1QV154GYZ"
      },
      "outputs": [],
      "source": [
        "import pandas as pd\n",
        "from google.colab import drive\n",
        "import matplotlib.pyplot as plt\n",
        "import numpy as np"
      ]
    },
    {
      "cell_type": "code",
      "source": [
        "drive.mount('/content/gdrive/', force_remount = True)"
      ],
      "metadata": {
        "colab": {
          "base_uri": "https://localhost:8080/"
        },
        "id": "Iku0T8Ou4Lcu",
        "outputId": "095c4fff-49eb-43cd-9ddb-08cd20140ba7"
      },
      "execution_count": 2,
      "outputs": [
        {
          "output_type": "stream",
          "name": "stdout",
          "text": [
            "Mounted at /content/gdrive/\n"
          ]
        }
      ]
    },
    {
      "cell_type": "code",
      "source": [
        "df = pd.read_csv(\"/content/gdrive/MyDrive/ColabNotebooks/fraudTest.csv\")"
      ],
      "metadata": {
        "id": "KJQfo8mz43Kz"
      },
      "execution_count": 3,
      "outputs": []
    },
    {
      "cell_type": "code",
      "source": [
        "df.head()"
      ],
      "metadata": {
        "colab": {
          "base_uri": "https://localhost:8080/",
          "height": 525
        },
        "id": "mKWSRv-q98wE",
        "outputId": "da54022d-b316-49ec-ea84-e68315f6114c"
      },
      "execution_count": 4,
      "outputs": [
        {
          "output_type": "execute_result",
          "data": {
            "text/plain": [
              "   Unnamed: 0 trans_date_trans_time            cc_num  \\\n",
              "0           0   2020-06-21 12:14:25  2291163933867244   \n",
              "1           1   2020-06-21 12:14:33  3573030041201292   \n",
              "2           2   2020-06-21 12:14:53  3598215285024754   \n",
              "3           3   2020-06-21 12:15:15  3591919803438423   \n",
              "4           4   2020-06-21 12:15:17  3526826139003047   \n",
              "\n",
              "                               merchant        category    amt   first  \\\n",
              "0                 fraud_Kirlin and Sons   personal_care   2.86    Jeff   \n",
              "1                  fraud_Sporer-Keebler   personal_care  29.84  Joanne   \n",
              "2  fraud_Swaniawski, Nitzsche and Welch  health_fitness  41.28  Ashley   \n",
              "3                     fraud_Haley Group        misc_pos  60.05   Brian   \n",
              "4                 fraud_Johnston-Casper          travel   3.19  Nathan   \n",
              "\n",
              "       last gender                       street  ...      lat      long  \\\n",
              "0   Elliott      M            351 Darlene Green  ...  33.9659  -80.9355   \n",
              "1  Williams      F             3638 Marsh Union  ...  40.3207 -110.4360   \n",
              "2     Lopez      F         9333 Valentine Point  ...  40.6729  -73.5365   \n",
              "3  Williams      M  32941 Krystal Mill Apt. 552  ...  28.5697  -80.8191   \n",
              "4    Massey      M     5783 Evan Roads Apt. 465  ...  44.2529  -85.0170   \n",
              "\n",
              "   city_pop                     job         dob  \\\n",
              "0    333497     Mechanical engineer  1968-03-19   \n",
              "1       302  Sales professional, IT  1990-01-17   \n",
              "2     34496       Librarian, public  1970-10-21   \n",
              "3     54767            Set designer  1987-07-25   \n",
              "4      1126      Furniture designer  1955-07-06   \n",
              "\n",
              "                          trans_num   unix_time  merch_lat  merch_long  \\\n",
              "0  2da90c7d74bd46a0caf3777415b3ebd3  1371816865  33.986391  -81.200714   \n",
              "1  324cc204407e99f51b0d6ca0055005e7  1371816873  39.450498 -109.960431   \n",
              "2  c81755dbbbea9d5c77f094348a7579be  1371816893  40.495810  -74.196111   \n",
              "3  2159175b9efe66dc301f149d3d5abf8c  1371816915  28.812398  -80.883061   \n",
              "4  57ff021bd3f328f8738bb535c302a31b  1371816917  44.959148  -85.884734   \n",
              "\n",
              "   is_fraud  \n",
              "0         0  \n",
              "1         0  \n",
              "2         0  \n",
              "3         0  \n",
              "4         0  \n",
              "\n",
              "[5 rows x 23 columns]"
            ],
            "text/html": [
              "\n",
              "  <div id=\"df-6de1af93-49bd-4898-b105-94c178bf4357\">\n",
              "    <div class=\"colab-df-container\">\n",
              "      <div>\n",
              "<style scoped>\n",
              "    .dataframe tbody tr th:only-of-type {\n",
              "        vertical-align: middle;\n",
              "    }\n",
              "\n",
              "    .dataframe tbody tr th {\n",
              "        vertical-align: top;\n",
              "    }\n",
              "\n",
              "    .dataframe thead th {\n",
              "        text-align: right;\n",
              "    }\n",
              "</style>\n",
              "<table border=\"1\" class=\"dataframe\">\n",
              "  <thead>\n",
              "    <tr style=\"text-align: right;\">\n",
              "      <th></th>\n",
              "      <th>Unnamed: 0</th>\n",
              "      <th>trans_date_trans_time</th>\n",
              "      <th>cc_num</th>\n",
              "      <th>merchant</th>\n",
              "      <th>category</th>\n",
              "      <th>amt</th>\n",
              "      <th>first</th>\n",
              "      <th>last</th>\n",
              "      <th>gender</th>\n",
              "      <th>street</th>\n",
              "      <th>...</th>\n",
              "      <th>lat</th>\n",
              "      <th>long</th>\n",
              "      <th>city_pop</th>\n",
              "      <th>job</th>\n",
              "      <th>dob</th>\n",
              "      <th>trans_num</th>\n",
              "      <th>unix_time</th>\n",
              "      <th>merch_lat</th>\n",
              "      <th>merch_long</th>\n",
              "      <th>is_fraud</th>\n",
              "    </tr>\n",
              "  </thead>\n",
              "  <tbody>\n",
              "    <tr>\n",
              "      <th>0</th>\n",
              "      <td>0</td>\n",
              "      <td>2020-06-21 12:14:25</td>\n",
              "      <td>2291163933867244</td>\n",
              "      <td>fraud_Kirlin and Sons</td>\n",
              "      <td>personal_care</td>\n",
              "      <td>2.86</td>\n",
              "      <td>Jeff</td>\n",
              "      <td>Elliott</td>\n",
              "      <td>M</td>\n",
              "      <td>351 Darlene Green</td>\n",
              "      <td>...</td>\n",
              "      <td>33.9659</td>\n",
              "      <td>-80.9355</td>\n",
              "      <td>333497</td>\n",
              "      <td>Mechanical engineer</td>\n",
              "      <td>1968-03-19</td>\n",
              "      <td>2da90c7d74bd46a0caf3777415b3ebd3</td>\n",
              "      <td>1371816865</td>\n",
              "      <td>33.986391</td>\n",
              "      <td>-81.200714</td>\n",
              "      <td>0</td>\n",
              "    </tr>\n",
              "    <tr>\n",
              "      <th>1</th>\n",
              "      <td>1</td>\n",
              "      <td>2020-06-21 12:14:33</td>\n",
              "      <td>3573030041201292</td>\n",
              "      <td>fraud_Sporer-Keebler</td>\n",
              "      <td>personal_care</td>\n",
              "      <td>29.84</td>\n",
              "      <td>Joanne</td>\n",
              "      <td>Williams</td>\n",
              "      <td>F</td>\n",
              "      <td>3638 Marsh Union</td>\n",
              "      <td>...</td>\n",
              "      <td>40.3207</td>\n",
              "      <td>-110.4360</td>\n",
              "      <td>302</td>\n",
              "      <td>Sales professional, IT</td>\n",
              "      <td>1990-01-17</td>\n",
              "      <td>324cc204407e99f51b0d6ca0055005e7</td>\n",
              "      <td>1371816873</td>\n",
              "      <td>39.450498</td>\n",
              "      <td>-109.960431</td>\n",
              "      <td>0</td>\n",
              "    </tr>\n",
              "    <tr>\n",
              "      <th>2</th>\n",
              "      <td>2</td>\n",
              "      <td>2020-06-21 12:14:53</td>\n",
              "      <td>3598215285024754</td>\n",
              "      <td>fraud_Swaniawski, Nitzsche and Welch</td>\n",
              "      <td>health_fitness</td>\n",
              "      <td>41.28</td>\n",
              "      <td>Ashley</td>\n",
              "      <td>Lopez</td>\n",
              "      <td>F</td>\n",
              "      <td>9333 Valentine Point</td>\n",
              "      <td>...</td>\n",
              "      <td>40.6729</td>\n",
              "      <td>-73.5365</td>\n",
              "      <td>34496</td>\n",
              "      <td>Librarian, public</td>\n",
              "      <td>1970-10-21</td>\n",
              "      <td>c81755dbbbea9d5c77f094348a7579be</td>\n",
              "      <td>1371816893</td>\n",
              "      <td>40.495810</td>\n",
              "      <td>-74.196111</td>\n",
              "      <td>0</td>\n",
              "    </tr>\n",
              "    <tr>\n",
              "      <th>3</th>\n",
              "      <td>3</td>\n",
              "      <td>2020-06-21 12:15:15</td>\n",
              "      <td>3591919803438423</td>\n",
              "      <td>fraud_Haley Group</td>\n",
              "      <td>misc_pos</td>\n",
              "      <td>60.05</td>\n",
              "      <td>Brian</td>\n",
              "      <td>Williams</td>\n",
              "      <td>M</td>\n",
              "      <td>32941 Krystal Mill Apt. 552</td>\n",
              "      <td>...</td>\n",
              "      <td>28.5697</td>\n",
              "      <td>-80.8191</td>\n",
              "      <td>54767</td>\n",
              "      <td>Set designer</td>\n",
              "      <td>1987-07-25</td>\n",
              "      <td>2159175b9efe66dc301f149d3d5abf8c</td>\n",
              "      <td>1371816915</td>\n",
              "      <td>28.812398</td>\n",
              "      <td>-80.883061</td>\n",
              "      <td>0</td>\n",
              "    </tr>\n",
              "    <tr>\n",
              "      <th>4</th>\n",
              "      <td>4</td>\n",
              "      <td>2020-06-21 12:15:17</td>\n",
              "      <td>3526826139003047</td>\n",
              "      <td>fraud_Johnston-Casper</td>\n",
              "      <td>travel</td>\n",
              "      <td>3.19</td>\n",
              "      <td>Nathan</td>\n",
              "      <td>Massey</td>\n",
              "      <td>M</td>\n",
              "      <td>5783 Evan Roads Apt. 465</td>\n",
              "      <td>...</td>\n",
              "      <td>44.2529</td>\n",
              "      <td>-85.0170</td>\n",
              "      <td>1126</td>\n",
              "      <td>Furniture designer</td>\n",
              "      <td>1955-07-06</td>\n",
              "      <td>57ff021bd3f328f8738bb535c302a31b</td>\n",
              "      <td>1371816917</td>\n",
              "      <td>44.959148</td>\n",
              "      <td>-85.884734</td>\n",
              "      <td>0</td>\n",
              "    </tr>\n",
              "  </tbody>\n",
              "</table>\n",
              "<p>5 rows × 23 columns</p>\n",
              "</div>\n",
              "      <button class=\"colab-df-convert\" onclick=\"convertToInteractive('df-6de1af93-49bd-4898-b105-94c178bf4357')\"\n",
              "              title=\"Convert this dataframe to an interactive table.\"\n",
              "              style=\"display:none;\">\n",
              "        \n",
              "  <svg xmlns=\"http://www.w3.org/2000/svg\" height=\"24px\"viewBox=\"0 0 24 24\"\n",
              "       width=\"24px\">\n",
              "    <path d=\"M0 0h24v24H0V0z\" fill=\"none\"/>\n",
              "    <path d=\"M18.56 5.44l.94 2.06.94-2.06 2.06-.94-2.06-.94-.94-2.06-.94 2.06-2.06.94zm-11 1L8.5 8.5l.94-2.06 2.06-.94-2.06-.94L8.5 2.5l-.94 2.06-2.06.94zm10 10l.94 2.06.94-2.06 2.06-.94-2.06-.94-.94-2.06-.94 2.06-2.06.94z\"/><path d=\"M17.41 7.96l-1.37-1.37c-.4-.4-.92-.59-1.43-.59-.52 0-1.04.2-1.43.59L10.3 9.45l-7.72 7.72c-.78.78-.78 2.05 0 2.83L4 21.41c.39.39.9.59 1.41.59.51 0 1.02-.2 1.41-.59l7.78-7.78 2.81-2.81c.8-.78.8-2.07 0-2.86zM5.41 20L4 18.59l7.72-7.72 1.47 1.35L5.41 20z\"/>\n",
              "  </svg>\n",
              "      </button>\n",
              "      \n",
              "  <style>\n",
              "    .colab-df-container {\n",
              "      display:flex;\n",
              "      flex-wrap:wrap;\n",
              "      gap: 12px;\n",
              "    }\n",
              "\n",
              "    .colab-df-convert {\n",
              "      background-color: #E8F0FE;\n",
              "      border: none;\n",
              "      border-radius: 50%;\n",
              "      cursor: pointer;\n",
              "      display: none;\n",
              "      fill: #1967D2;\n",
              "      height: 32px;\n",
              "      padding: 0 0 0 0;\n",
              "      width: 32px;\n",
              "    }\n",
              "\n",
              "    .colab-df-convert:hover {\n",
              "      background-color: #E2EBFA;\n",
              "      box-shadow: 0px 1px 2px rgba(60, 64, 67, 0.3), 0px 1px 3px 1px rgba(60, 64, 67, 0.15);\n",
              "      fill: #174EA6;\n",
              "    }\n",
              "\n",
              "    [theme=dark] .colab-df-convert {\n",
              "      background-color: #3B4455;\n",
              "      fill: #D2E3FC;\n",
              "    }\n",
              "\n",
              "    [theme=dark] .colab-df-convert:hover {\n",
              "      background-color: #434B5C;\n",
              "      box-shadow: 0px 1px 3px 1px rgba(0, 0, 0, 0.15);\n",
              "      filter: drop-shadow(0px 1px 2px rgba(0, 0, 0, 0.3));\n",
              "      fill: #FFFFFF;\n",
              "    }\n",
              "  </style>\n",
              "\n",
              "      <script>\n",
              "        const buttonEl =\n",
              "          document.querySelector('#df-6de1af93-49bd-4898-b105-94c178bf4357 button.colab-df-convert');\n",
              "        buttonEl.style.display =\n",
              "          google.colab.kernel.accessAllowed ? 'block' : 'none';\n",
              "\n",
              "        async function convertToInteractive(key) {\n",
              "          const element = document.querySelector('#df-6de1af93-49bd-4898-b105-94c178bf4357');\n",
              "          const dataTable =\n",
              "            await google.colab.kernel.invokeFunction('convertToInteractive',\n",
              "                                                     [key], {});\n",
              "          if (!dataTable) return;\n",
              "\n",
              "          const docLinkHtml = 'Like what you see? Visit the ' +\n",
              "            '<a target=\"_blank\" href=https://colab.research.google.com/notebooks/data_table.ipynb>data table notebook</a>'\n",
              "            + ' to learn more about interactive tables.';\n",
              "          element.innerHTML = '';\n",
              "          dataTable['output_type'] = 'display_data';\n",
              "          await google.colab.output.renderOutput(dataTable, element);\n",
              "          const docLink = document.createElement('div');\n",
              "          docLink.innerHTML = docLinkHtml;\n",
              "          element.appendChild(docLink);\n",
              "        }\n",
              "      </script>\n",
              "    </div>\n",
              "  </div>\n",
              "  "
            ]
          },
          "metadata": {},
          "execution_count": 4
        }
      ]
    },
    {
      "cell_type": "markdown",
      "source": [
        "# 1.) Use scikit learn preprocessing to split the data into 70/30 in out of sample"
      ],
      "metadata": {
        "id": "8VsnpGe9-B3p"
      }
    },
    {
      "cell_type": "code",
      "source": [
        "from sklearn.model_selection import train_test_split"
      ],
      "metadata": {
        "id": "1tpCDMW198ym"
      },
      "execution_count": 5,
      "outputs": []
    },
    {
      "cell_type": "code",
      "source": [
        "df_select = df[['trans_date_trans_time', 'category', 'amt', 'city_pop']]\n",
        "df_select['trans_date_trans_time'] = pd.to_datetime(df_select['trans_date_trans_time'])\n",
        "\n",
        "# frauds usually happen between 1 a.m. and 6 a.m.\n",
        "df_select['time_var'] = [i.hour for i in df_select['trans_date_trans_time']]\n",
        "df_select['time_var'] = [1 if 7 > i > 0 else 0 for i in df_select['time_var']]\n",
        "df_select['time_var'].describe()\n",
        "\n",
        "X = pd.get_dummies(df_select, ['category'], drop_first= True).drop(['trans_date_trans_time'], axis= 1)\n",
        "y = df['is_fraud']\n",
        "X.head()"
      ],
      "metadata": {
        "colab": {
          "base_uri": "https://localhost:8080/",
          "height": 601
        },
        "id": "Wx9jLrHGpi0v",
        "outputId": "29fc6793-41a3-4561-d647-69b7548b85ee"
      },
      "execution_count": 6,
      "outputs": [
        {
          "output_type": "stream",
          "name": "stderr",
          "text": [
            "<ipython-input-6-bc35c36f761c>:2: SettingWithCopyWarning: \n",
            "A value is trying to be set on a copy of a slice from a DataFrame.\n",
            "Try using .loc[row_indexer,col_indexer] = value instead\n",
            "\n",
            "See the caveats in the documentation: https://pandas.pydata.org/pandas-docs/stable/user_guide/indexing.html#returning-a-view-versus-a-copy\n",
            "  df_select['trans_date_trans_time'] = pd.to_datetime(df_select['trans_date_trans_time'])\n",
            "<ipython-input-6-bc35c36f761c>:5: SettingWithCopyWarning: \n",
            "A value is trying to be set on a copy of a slice from a DataFrame.\n",
            "Try using .loc[row_indexer,col_indexer] = value instead\n",
            "\n",
            "See the caveats in the documentation: https://pandas.pydata.org/pandas-docs/stable/user_guide/indexing.html#returning-a-view-versus-a-copy\n",
            "  df_select['time_var'] = [i.hour for i in df_select['trans_date_trans_time']]\n",
            "<ipython-input-6-bc35c36f761c>:6: SettingWithCopyWarning: \n",
            "A value is trying to be set on a copy of a slice from a DataFrame.\n",
            "Try using .loc[row_indexer,col_indexer] = value instead\n",
            "\n",
            "See the caveats in the documentation: https://pandas.pydata.org/pandas-docs/stable/user_guide/indexing.html#returning-a-view-versus-a-copy\n",
            "  df_select['time_var'] = [1 if 7 > i > 0 else 0 for i in df_select['time_var']]\n"
          ]
        },
        {
          "output_type": "execute_result",
          "data": {
            "text/plain": [
              "     amt  city_pop  time_var  category_food_dining  category_gas_transport  \\\n",
              "0   2.86    333497         0                     0                       0   \n",
              "1  29.84       302         0                     0                       0   \n",
              "2  41.28     34496         0                     0                       0   \n",
              "3  60.05     54767         0                     0                       0   \n",
              "4   3.19      1126         0                     0                       0   \n",
              "\n",
              "   category_grocery_net  category_grocery_pos  category_health_fitness  \\\n",
              "0                     0                     0                        0   \n",
              "1                     0                     0                        0   \n",
              "2                     0                     0                        1   \n",
              "3                     0                     0                        0   \n",
              "4                     0                     0                        0   \n",
              "\n",
              "   category_home  category_kids_pets  category_misc_net  category_misc_pos  \\\n",
              "0              0                   0                  0                  0   \n",
              "1              0                   0                  0                  0   \n",
              "2              0                   0                  0                  0   \n",
              "3              0                   0                  0                  1   \n",
              "4              0                   0                  0                  0   \n",
              "\n",
              "   category_personal_care  category_shopping_net  category_shopping_pos  \\\n",
              "0                       1                      0                      0   \n",
              "1                       1                      0                      0   \n",
              "2                       0                      0                      0   \n",
              "3                       0                      0                      0   \n",
              "4                       0                      0                      0   \n",
              "\n",
              "   category_travel  \n",
              "0                0  \n",
              "1                0  \n",
              "2                0  \n",
              "3                0  \n",
              "4                1  "
            ],
            "text/html": [
              "\n",
              "  <div id=\"df-c60b71a4-18b8-448f-a2b8-2889c6a50e9a\">\n",
              "    <div class=\"colab-df-container\">\n",
              "      <div>\n",
              "<style scoped>\n",
              "    .dataframe tbody tr th:only-of-type {\n",
              "        vertical-align: middle;\n",
              "    }\n",
              "\n",
              "    .dataframe tbody tr th {\n",
              "        vertical-align: top;\n",
              "    }\n",
              "\n",
              "    .dataframe thead th {\n",
              "        text-align: right;\n",
              "    }\n",
              "</style>\n",
              "<table border=\"1\" class=\"dataframe\">\n",
              "  <thead>\n",
              "    <tr style=\"text-align: right;\">\n",
              "      <th></th>\n",
              "      <th>amt</th>\n",
              "      <th>city_pop</th>\n",
              "      <th>time_var</th>\n",
              "      <th>category_food_dining</th>\n",
              "      <th>category_gas_transport</th>\n",
              "      <th>category_grocery_net</th>\n",
              "      <th>category_grocery_pos</th>\n",
              "      <th>category_health_fitness</th>\n",
              "      <th>category_home</th>\n",
              "      <th>category_kids_pets</th>\n",
              "      <th>category_misc_net</th>\n",
              "      <th>category_misc_pos</th>\n",
              "      <th>category_personal_care</th>\n",
              "      <th>category_shopping_net</th>\n",
              "      <th>category_shopping_pos</th>\n",
              "      <th>category_travel</th>\n",
              "    </tr>\n",
              "  </thead>\n",
              "  <tbody>\n",
              "    <tr>\n",
              "      <th>0</th>\n",
              "      <td>2.86</td>\n",
              "      <td>333497</td>\n",
              "      <td>0</td>\n",
              "      <td>0</td>\n",
              "      <td>0</td>\n",
              "      <td>0</td>\n",
              "      <td>0</td>\n",
              "      <td>0</td>\n",
              "      <td>0</td>\n",
              "      <td>0</td>\n",
              "      <td>0</td>\n",
              "      <td>0</td>\n",
              "      <td>1</td>\n",
              "      <td>0</td>\n",
              "      <td>0</td>\n",
              "      <td>0</td>\n",
              "    </tr>\n",
              "    <tr>\n",
              "      <th>1</th>\n",
              "      <td>29.84</td>\n",
              "      <td>302</td>\n",
              "      <td>0</td>\n",
              "      <td>0</td>\n",
              "      <td>0</td>\n",
              "      <td>0</td>\n",
              "      <td>0</td>\n",
              "      <td>0</td>\n",
              "      <td>0</td>\n",
              "      <td>0</td>\n",
              "      <td>0</td>\n",
              "      <td>0</td>\n",
              "      <td>1</td>\n",
              "      <td>0</td>\n",
              "      <td>0</td>\n",
              "      <td>0</td>\n",
              "    </tr>\n",
              "    <tr>\n",
              "      <th>2</th>\n",
              "      <td>41.28</td>\n",
              "      <td>34496</td>\n",
              "      <td>0</td>\n",
              "      <td>0</td>\n",
              "      <td>0</td>\n",
              "      <td>0</td>\n",
              "      <td>0</td>\n",
              "      <td>1</td>\n",
              "      <td>0</td>\n",
              "      <td>0</td>\n",
              "      <td>0</td>\n",
              "      <td>0</td>\n",
              "      <td>0</td>\n",
              "      <td>0</td>\n",
              "      <td>0</td>\n",
              "      <td>0</td>\n",
              "    </tr>\n",
              "    <tr>\n",
              "      <th>3</th>\n",
              "      <td>60.05</td>\n",
              "      <td>54767</td>\n",
              "      <td>0</td>\n",
              "      <td>0</td>\n",
              "      <td>0</td>\n",
              "      <td>0</td>\n",
              "      <td>0</td>\n",
              "      <td>0</td>\n",
              "      <td>0</td>\n",
              "      <td>0</td>\n",
              "      <td>0</td>\n",
              "      <td>1</td>\n",
              "      <td>0</td>\n",
              "      <td>0</td>\n",
              "      <td>0</td>\n",
              "      <td>0</td>\n",
              "    </tr>\n",
              "    <tr>\n",
              "      <th>4</th>\n",
              "      <td>3.19</td>\n",
              "      <td>1126</td>\n",
              "      <td>0</td>\n",
              "      <td>0</td>\n",
              "      <td>0</td>\n",
              "      <td>0</td>\n",
              "      <td>0</td>\n",
              "      <td>0</td>\n",
              "      <td>0</td>\n",
              "      <td>0</td>\n",
              "      <td>0</td>\n",
              "      <td>0</td>\n",
              "      <td>0</td>\n",
              "      <td>0</td>\n",
              "      <td>0</td>\n",
              "      <td>1</td>\n",
              "    </tr>\n",
              "  </tbody>\n",
              "</table>\n",
              "</div>\n",
              "      <button class=\"colab-df-convert\" onclick=\"convertToInteractive('df-c60b71a4-18b8-448f-a2b8-2889c6a50e9a')\"\n",
              "              title=\"Convert this dataframe to an interactive table.\"\n",
              "              style=\"display:none;\">\n",
              "        \n",
              "  <svg xmlns=\"http://www.w3.org/2000/svg\" height=\"24px\"viewBox=\"0 0 24 24\"\n",
              "       width=\"24px\">\n",
              "    <path d=\"M0 0h24v24H0V0z\" fill=\"none\"/>\n",
              "    <path d=\"M18.56 5.44l.94 2.06.94-2.06 2.06-.94-2.06-.94-.94-2.06-.94 2.06-2.06.94zm-11 1L8.5 8.5l.94-2.06 2.06-.94-2.06-.94L8.5 2.5l-.94 2.06-2.06.94zm10 10l.94 2.06.94-2.06 2.06-.94-2.06-.94-.94-2.06-.94 2.06-2.06.94z\"/><path d=\"M17.41 7.96l-1.37-1.37c-.4-.4-.92-.59-1.43-.59-.52 0-1.04.2-1.43.59L10.3 9.45l-7.72 7.72c-.78.78-.78 2.05 0 2.83L4 21.41c.39.39.9.59 1.41.59.51 0 1.02-.2 1.41-.59l7.78-7.78 2.81-2.81c.8-.78.8-2.07 0-2.86zM5.41 20L4 18.59l7.72-7.72 1.47 1.35L5.41 20z\"/>\n",
              "  </svg>\n",
              "      </button>\n",
              "      \n",
              "  <style>\n",
              "    .colab-df-container {\n",
              "      display:flex;\n",
              "      flex-wrap:wrap;\n",
              "      gap: 12px;\n",
              "    }\n",
              "\n",
              "    .colab-df-convert {\n",
              "      background-color: #E8F0FE;\n",
              "      border: none;\n",
              "      border-radius: 50%;\n",
              "      cursor: pointer;\n",
              "      display: none;\n",
              "      fill: #1967D2;\n",
              "      height: 32px;\n",
              "      padding: 0 0 0 0;\n",
              "      width: 32px;\n",
              "    }\n",
              "\n",
              "    .colab-df-convert:hover {\n",
              "      background-color: #E2EBFA;\n",
              "      box-shadow: 0px 1px 2px rgba(60, 64, 67, 0.3), 0px 1px 3px 1px rgba(60, 64, 67, 0.15);\n",
              "      fill: #174EA6;\n",
              "    }\n",
              "\n",
              "    [theme=dark] .colab-df-convert {\n",
              "      background-color: #3B4455;\n",
              "      fill: #D2E3FC;\n",
              "    }\n",
              "\n",
              "    [theme=dark] .colab-df-convert:hover {\n",
              "      background-color: #434B5C;\n",
              "      box-shadow: 0px 1px 3px 1px rgba(0, 0, 0, 0.15);\n",
              "      filter: drop-shadow(0px 1px 2px rgba(0, 0, 0, 0.3));\n",
              "      fill: #FFFFFF;\n",
              "    }\n",
              "  </style>\n",
              "\n",
              "      <script>\n",
              "        const buttonEl =\n",
              "          document.querySelector('#df-c60b71a4-18b8-448f-a2b8-2889c6a50e9a button.colab-df-convert');\n",
              "        buttonEl.style.display =\n",
              "          google.colab.kernel.accessAllowed ? 'block' : 'none';\n",
              "\n",
              "        async function convertToInteractive(key) {\n",
              "          const element = document.querySelector('#df-c60b71a4-18b8-448f-a2b8-2889c6a50e9a');\n",
              "          const dataTable =\n",
              "            await google.colab.kernel.invokeFunction('convertToInteractive',\n",
              "                                                     [key], {});\n",
              "          if (!dataTable) return;\n",
              "\n",
              "          const docLinkHtml = 'Like what you see? Visit the ' +\n",
              "            '<a target=\"_blank\" href=https://colab.research.google.com/notebooks/data_table.ipynb>data table notebook</a>'\n",
              "            + ' to learn more about interactive tables.';\n",
              "          element.innerHTML = '';\n",
              "          dataTable['output_type'] = 'display_data';\n",
              "          await google.colab.output.renderOutput(dataTable, element);\n",
              "          const docLink = document.createElement('div');\n",
              "          docLink.innerHTML = docLinkHtml;\n",
              "          element.appendChild(docLink);\n",
              "        }\n",
              "      </script>\n",
              "    </div>\n",
              "  </div>\n",
              "  "
            ]
          },
          "metadata": {},
          "execution_count": 6
        }
      ]
    },
    {
      "cell_type": "code",
      "source": [
        "X_train, X_test, y_train, y_test = train_test_split(X, y, test_size = 0.3)"
      ],
      "metadata": {
        "id": "FZvnpERK981d"
      },
      "execution_count": 7,
      "outputs": []
    },
    {
      "cell_type": "code",
      "source": [
        "X_train"
      ],
      "metadata": {
        "id": "JvCzIdgO983i",
        "colab": {
          "base_uri": "https://localhost:8080/",
          "height": 488
        },
        "outputId": "255e7c21-eb50-4b22-9eaf-4ee7f0fce8ed"
      },
      "execution_count": 8,
      "outputs": [
        {
          "output_type": "execute_result",
          "data": {
            "text/plain": [
              "           amt  city_pop  time_var  category_food_dining  \\\n",
              "349587   38.16      1517         1                     0   \n",
              "139045    3.77      4172         0                     0   \n",
              "192422    4.66      2401         0                     0   \n",
              "230353   86.71      1504         0                     0   \n",
              "506193   67.29       477         1                     0   \n",
              "...        ...       ...       ...                   ...   \n",
              "331303  122.52       568         0                     0   \n",
              "363966    5.49      2607         0                     0   \n",
              "308155   51.88       328         1                     0   \n",
              "544661    3.87      2208         0                     0   \n",
              "29031    90.70      4090         0                     0   \n",
              "\n",
              "        category_gas_transport  category_grocery_net  category_grocery_pos  \\\n",
              "349587                       0                     0                     0   \n",
              "139045                       0                     0                     0   \n",
              "192422                       0                     0                     0   \n",
              "230353                       0                     0                     1   \n",
              "506193                       1                     0                     0   \n",
              "...                        ...                   ...                   ...   \n",
              "331303                       0                     0                     1   \n",
              "363966                       0                     0                     0   \n",
              "308155                       1                     0                     0   \n",
              "544661                       0                     0                     0   \n",
              "29031                        0                     0                     0   \n",
              "\n",
              "        category_health_fitness  category_home  category_kids_pets  \\\n",
              "349587                        0              0                   0   \n",
              "139045                        0              0                   0   \n",
              "192422                        0              0                   0   \n",
              "230353                        0              0                   0   \n",
              "506193                        0              0                   0   \n",
              "...                         ...            ...                 ...   \n",
              "331303                        0              0                   0   \n",
              "363966                        0              0                   0   \n",
              "308155                        0              0                   0   \n",
              "544661                        0              0                   0   \n",
              "29031                         0              0                   1   \n",
              "\n",
              "        category_misc_net  category_misc_pos  category_personal_care  \\\n",
              "349587                  0                  1                       0   \n",
              "139045                  0                  0                       0   \n",
              "192422                  0                  1                       0   \n",
              "230353                  0                  0                       0   \n",
              "506193                  0                  0                       0   \n",
              "...                   ...                ...                     ...   \n",
              "331303                  0                  0                       0   \n",
              "363966                  0                  0                       0   \n",
              "308155                  0                  0                       0   \n",
              "544661                  0                  1                       0   \n",
              "29031                   0                  0                       0   \n",
              "\n",
              "        category_shopping_net  category_shopping_pos  category_travel  \n",
              "349587                      0                      0                0  \n",
              "139045                      1                      0                0  \n",
              "192422                      0                      0                0  \n",
              "230353                      0                      0                0  \n",
              "506193                      0                      0                0  \n",
              "...                       ...                    ...              ...  \n",
              "331303                      0                      0                0  \n",
              "363966                      0                      0                1  \n",
              "308155                      0                      0                0  \n",
              "544661                      0                      0                0  \n",
              "29031                       0                      0                0  \n",
              "\n",
              "[389003 rows x 16 columns]"
            ],
            "text/html": [
              "\n",
              "  <div id=\"df-37f02e32-bc22-4a30-acb5-3ef1e624df51\">\n",
              "    <div class=\"colab-df-container\">\n",
              "      <div>\n",
              "<style scoped>\n",
              "    .dataframe tbody tr th:only-of-type {\n",
              "        vertical-align: middle;\n",
              "    }\n",
              "\n",
              "    .dataframe tbody tr th {\n",
              "        vertical-align: top;\n",
              "    }\n",
              "\n",
              "    .dataframe thead th {\n",
              "        text-align: right;\n",
              "    }\n",
              "</style>\n",
              "<table border=\"1\" class=\"dataframe\">\n",
              "  <thead>\n",
              "    <tr style=\"text-align: right;\">\n",
              "      <th></th>\n",
              "      <th>amt</th>\n",
              "      <th>city_pop</th>\n",
              "      <th>time_var</th>\n",
              "      <th>category_food_dining</th>\n",
              "      <th>category_gas_transport</th>\n",
              "      <th>category_grocery_net</th>\n",
              "      <th>category_grocery_pos</th>\n",
              "      <th>category_health_fitness</th>\n",
              "      <th>category_home</th>\n",
              "      <th>category_kids_pets</th>\n",
              "      <th>category_misc_net</th>\n",
              "      <th>category_misc_pos</th>\n",
              "      <th>category_personal_care</th>\n",
              "      <th>category_shopping_net</th>\n",
              "      <th>category_shopping_pos</th>\n",
              "      <th>category_travel</th>\n",
              "    </tr>\n",
              "  </thead>\n",
              "  <tbody>\n",
              "    <tr>\n",
              "      <th>349587</th>\n",
              "      <td>38.16</td>\n",
              "      <td>1517</td>\n",
              "      <td>1</td>\n",
              "      <td>0</td>\n",
              "      <td>0</td>\n",
              "      <td>0</td>\n",
              "      <td>0</td>\n",
              "      <td>0</td>\n",
              "      <td>0</td>\n",
              "      <td>0</td>\n",
              "      <td>0</td>\n",
              "      <td>1</td>\n",
              "      <td>0</td>\n",
              "      <td>0</td>\n",
              "      <td>0</td>\n",
              "      <td>0</td>\n",
              "    </tr>\n",
              "    <tr>\n",
              "      <th>139045</th>\n",
              "      <td>3.77</td>\n",
              "      <td>4172</td>\n",
              "      <td>0</td>\n",
              "      <td>0</td>\n",
              "      <td>0</td>\n",
              "      <td>0</td>\n",
              "      <td>0</td>\n",
              "      <td>0</td>\n",
              "      <td>0</td>\n",
              "      <td>0</td>\n",
              "      <td>0</td>\n",
              "      <td>0</td>\n",
              "      <td>0</td>\n",
              "      <td>1</td>\n",
              "      <td>0</td>\n",
              "      <td>0</td>\n",
              "    </tr>\n",
              "    <tr>\n",
              "      <th>192422</th>\n",
              "      <td>4.66</td>\n",
              "      <td>2401</td>\n",
              "      <td>0</td>\n",
              "      <td>0</td>\n",
              "      <td>0</td>\n",
              "      <td>0</td>\n",
              "      <td>0</td>\n",
              "      <td>0</td>\n",
              "      <td>0</td>\n",
              "      <td>0</td>\n",
              "      <td>0</td>\n",
              "      <td>1</td>\n",
              "      <td>0</td>\n",
              "      <td>0</td>\n",
              "      <td>0</td>\n",
              "      <td>0</td>\n",
              "    </tr>\n",
              "    <tr>\n",
              "      <th>230353</th>\n",
              "      <td>86.71</td>\n",
              "      <td>1504</td>\n",
              "      <td>0</td>\n",
              "      <td>0</td>\n",
              "      <td>0</td>\n",
              "      <td>0</td>\n",
              "      <td>1</td>\n",
              "      <td>0</td>\n",
              "      <td>0</td>\n",
              "      <td>0</td>\n",
              "      <td>0</td>\n",
              "      <td>0</td>\n",
              "      <td>0</td>\n",
              "      <td>0</td>\n",
              "      <td>0</td>\n",
              "      <td>0</td>\n",
              "    </tr>\n",
              "    <tr>\n",
              "      <th>506193</th>\n",
              "      <td>67.29</td>\n",
              "      <td>477</td>\n",
              "      <td>1</td>\n",
              "      <td>0</td>\n",
              "      <td>1</td>\n",
              "      <td>0</td>\n",
              "      <td>0</td>\n",
              "      <td>0</td>\n",
              "      <td>0</td>\n",
              "      <td>0</td>\n",
              "      <td>0</td>\n",
              "      <td>0</td>\n",
              "      <td>0</td>\n",
              "      <td>0</td>\n",
              "      <td>0</td>\n",
              "      <td>0</td>\n",
              "    </tr>\n",
              "    <tr>\n",
              "      <th>...</th>\n",
              "      <td>...</td>\n",
              "      <td>...</td>\n",
              "      <td>...</td>\n",
              "      <td>...</td>\n",
              "      <td>...</td>\n",
              "      <td>...</td>\n",
              "      <td>...</td>\n",
              "      <td>...</td>\n",
              "      <td>...</td>\n",
              "      <td>...</td>\n",
              "      <td>...</td>\n",
              "      <td>...</td>\n",
              "      <td>...</td>\n",
              "      <td>...</td>\n",
              "      <td>...</td>\n",
              "      <td>...</td>\n",
              "    </tr>\n",
              "    <tr>\n",
              "      <th>331303</th>\n",
              "      <td>122.52</td>\n",
              "      <td>568</td>\n",
              "      <td>0</td>\n",
              "      <td>0</td>\n",
              "      <td>0</td>\n",
              "      <td>0</td>\n",
              "      <td>1</td>\n",
              "      <td>0</td>\n",
              "      <td>0</td>\n",
              "      <td>0</td>\n",
              "      <td>0</td>\n",
              "      <td>0</td>\n",
              "      <td>0</td>\n",
              "      <td>0</td>\n",
              "      <td>0</td>\n",
              "      <td>0</td>\n",
              "    </tr>\n",
              "    <tr>\n",
              "      <th>363966</th>\n",
              "      <td>5.49</td>\n",
              "      <td>2607</td>\n",
              "      <td>0</td>\n",
              "      <td>0</td>\n",
              "      <td>0</td>\n",
              "      <td>0</td>\n",
              "      <td>0</td>\n",
              "      <td>0</td>\n",
              "      <td>0</td>\n",
              "      <td>0</td>\n",
              "      <td>0</td>\n",
              "      <td>0</td>\n",
              "      <td>0</td>\n",
              "      <td>0</td>\n",
              "      <td>0</td>\n",
              "      <td>1</td>\n",
              "    </tr>\n",
              "    <tr>\n",
              "      <th>308155</th>\n",
              "      <td>51.88</td>\n",
              "      <td>328</td>\n",
              "      <td>1</td>\n",
              "      <td>0</td>\n",
              "      <td>1</td>\n",
              "      <td>0</td>\n",
              "      <td>0</td>\n",
              "      <td>0</td>\n",
              "      <td>0</td>\n",
              "      <td>0</td>\n",
              "      <td>0</td>\n",
              "      <td>0</td>\n",
              "      <td>0</td>\n",
              "      <td>0</td>\n",
              "      <td>0</td>\n",
              "      <td>0</td>\n",
              "    </tr>\n",
              "    <tr>\n",
              "      <th>544661</th>\n",
              "      <td>3.87</td>\n",
              "      <td>2208</td>\n",
              "      <td>0</td>\n",
              "      <td>0</td>\n",
              "      <td>0</td>\n",
              "      <td>0</td>\n",
              "      <td>0</td>\n",
              "      <td>0</td>\n",
              "      <td>0</td>\n",
              "      <td>0</td>\n",
              "      <td>0</td>\n",
              "      <td>1</td>\n",
              "      <td>0</td>\n",
              "      <td>0</td>\n",
              "      <td>0</td>\n",
              "      <td>0</td>\n",
              "    </tr>\n",
              "    <tr>\n",
              "      <th>29031</th>\n",
              "      <td>90.70</td>\n",
              "      <td>4090</td>\n",
              "      <td>0</td>\n",
              "      <td>0</td>\n",
              "      <td>0</td>\n",
              "      <td>0</td>\n",
              "      <td>0</td>\n",
              "      <td>0</td>\n",
              "      <td>0</td>\n",
              "      <td>1</td>\n",
              "      <td>0</td>\n",
              "      <td>0</td>\n",
              "      <td>0</td>\n",
              "      <td>0</td>\n",
              "      <td>0</td>\n",
              "      <td>0</td>\n",
              "    </tr>\n",
              "  </tbody>\n",
              "</table>\n",
              "<p>389003 rows × 16 columns</p>\n",
              "</div>\n",
              "      <button class=\"colab-df-convert\" onclick=\"convertToInteractive('df-37f02e32-bc22-4a30-acb5-3ef1e624df51')\"\n",
              "              title=\"Convert this dataframe to an interactive table.\"\n",
              "              style=\"display:none;\">\n",
              "        \n",
              "  <svg xmlns=\"http://www.w3.org/2000/svg\" height=\"24px\"viewBox=\"0 0 24 24\"\n",
              "       width=\"24px\">\n",
              "    <path d=\"M0 0h24v24H0V0z\" fill=\"none\"/>\n",
              "    <path d=\"M18.56 5.44l.94 2.06.94-2.06 2.06-.94-2.06-.94-.94-2.06-.94 2.06-2.06.94zm-11 1L8.5 8.5l.94-2.06 2.06-.94-2.06-.94L8.5 2.5l-.94 2.06-2.06.94zm10 10l.94 2.06.94-2.06 2.06-.94-2.06-.94-.94-2.06-.94 2.06-2.06.94z\"/><path d=\"M17.41 7.96l-1.37-1.37c-.4-.4-.92-.59-1.43-.59-.52 0-1.04.2-1.43.59L10.3 9.45l-7.72 7.72c-.78.78-.78 2.05 0 2.83L4 21.41c.39.39.9.59 1.41.59.51 0 1.02-.2 1.41-.59l7.78-7.78 2.81-2.81c.8-.78.8-2.07 0-2.86zM5.41 20L4 18.59l7.72-7.72 1.47 1.35L5.41 20z\"/>\n",
              "  </svg>\n",
              "      </button>\n",
              "      \n",
              "  <style>\n",
              "    .colab-df-container {\n",
              "      display:flex;\n",
              "      flex-wrap:wrap;\n",
              "      gap: 12px;\n",
              "    }\n",
              "\n",
              "    .colab-df-convert {\n",
              "      background-color: #E8F0FE;\n",
              "      border: none;\n",
              "      border-radius: 50%;\n",
              "      cursor: pointer;\n",
              "      display: none;\n",
              "      fill: #1967D2;\n",
              "      height: 32px;\n",
              "      padding: 0 0 0 0;\n",
              "      width: 32px;\n",
              "    }\n",
              "\n",
              "    .colab-df-convert:hover {\n",
              "      background-color: #E2EBFA;\n",
              "      box-shadow: 0px 1px 2px rgba(60, 64, 67, 0.3), 0px 1px 3px 1px rgba(60, 64, 67, 0.15);\n",
              "      fill: #174EA6;\n",
              "    }\n",
              "\n",
              "    [theme=dark] .colab-df-convert {\n",
              "      background-color: #3B4455;\n",
              "      fill: #D2E3FC;\n",
              "    }\n",
              "\n",
              "    [theme=dark] .colab-df-convert:hover {\n",
              "      background-color: #434B5C;\n",
              "      box-shadow: 0px 1px 3px 1px rgba(0, 0, 0, 0.15);\n",
              "      filter: drop-shadow(0px 1px 2px rgba(0, 0, 0, 0.3));\n",
              "      fill: #FFFFFF;\n",
              "    }\n",
              "  </style>\n",
              "\n",
              "      <script>\n",
              "        const buttonEl =\n",
              "          document.querySelector('#df-37f02e32-bc22-4a30-acb5-3ef1e624df51 button.colab-df-convert');\n",
              "        buttonEl.style.display =\n",
              "          google.colab.kernel.accessAllowed ? 'block' : 'none';\n",
              "\n",
              "        async function convertToInteractive(key) {\n",
              "          const element = document.querySelector('#df-37f02e32-bc22-4a30-acb5-3ef1e624df51');\n",
              "          const dataTable =\n",
              "            await google.colab.kernel.invokeFunction('convertToInteractive',\n",
              "                                                     [key], {});\n",
              "          if (!dataTable) return;\n",
              "\n",
              "          const docLinkHtml = 'Like what you see? Visit the ' +\n",
              "            '<a target=\"_blank\" href=https://colab.research.google.com/notebooks/data_table.ipynb>data table notebook</a>'\n",
              "            + ' to learn more about interactive tables.';\n",
              "          element.innerHTML = '';\n",
              "          dataTable['output_type'] = 'display_data';\n",
              "          await google.colab.output.renderOutput(dataTable, element);\n",
              "          const docLink = document.createElement('div');\n",
              "          docLink.innerHTML = docLinkHtml;\n",
              "          element.appendChild(docLink);\n",
              "        }\n",
              "      </script>\n",
              "    </div>\n",
              "  </div>\n",
              "  "
            ]
          },
          "metadata": {},
          "execution_count": 8
        }
      ]
    },
    {
      "cell_type": "code",
      "source": [
        "X_test"
      ],
      "metadata": {
        "id": "f7APv9N3986a",
        "colab": {
          "base_uri": "https://localhost:8080/",
          "height": 488
        },
        "outputId": "78497616-51ea-4b31-89a9-452ccccb1b5f"
      },
      "execution_count": 9,
      "outputs": [
        {
          "output_type": "execute_result",
          "data": {
            "text/plain": [
              "           amt  city_pop  time_var  category_food_dining  \\\n",
              "50864   104.32     15623         0                     0   \n",
              "220830   48.92      3833         0                     0   \n",
              "120762   21.24    134056         0                     0   \n",
              "72977     8.40      7163         0                     0   \n",
              "220005   33.50      1126         0                     1   \n",
              "...        ...       ...       ...                   ...   \n",
              "921      13.43    601723         0                     0   \n",
              "314532  145.63       129         1                     0   \n",
              "327467    5.96      1758         0                     0   \n",
              "195254   47.56     19408         1                     0   \n",
              "212218   45.05      5666         0                     0   \n",
              "\n",
              "        category_gas_transport  category_grocery_net  category_grocery_pos  \\\n",
              "50864                        0                     0                     0   \n",
              "220830                       0                     0                     0   \n",
              "120762                       0                     0                     0   \n",
              "72977                        0                     0                     0   \n",
              "220005                       0                     0                     0   \n",
              "...                        ...                   ...                   ...   \n",
              "921                          0                     0                     0   \n",
              "314532                       0                     0                     1   \n",
              "327467                       0                     0                     0   \n",
              "195254                       0                     1                     0   \n",
              "212218                       1                     0                     0   \n",
              "\n",
              "        category_health_fitness  category_home  category_kids_pets  \\\n",
              "50864                         0              0                   0   \n",
              "220830                        0              0                   0   \n",
              "120762                        0              1                   0   \n",
              "72977                         0              0                   0   \n",
              "220005                        0              0                   0   \n",
              "...                         ...            ...                 ...   \n",
              "921                           0              0                   0   \n",
              "314532                        0              0                   0   \n",
              "327467                        0              0                   0   \n",
              "195254                        0              0                   0   \n",
              "212218                        0              0                   0   \n",
              "\n",
              "        category_misc_net  category_misc_pos  category_personal_care  \\\n",
              "50864                   0                  0                       1   \n",
              "220830                  0                  0                       0   \n",
              "120762                  0                  0                       0   \n",
              "72977                   0                  0                       0   \n",
              "220005                  0                  0                       0   \n",
              "...                   ...                ...                     ...   \n",
              "921                     0                  0                       0   \n",
              "314532                  0                  0                       0   \n",
              "327467                  0                  0                       0   \n",
              "195254                  0                  0                       0   \n",
              "212218                  0                  0                       0   \n",
              "\n",
              "        category_shopping_net  category_shopping_pos  category_travel  \n",
              "50864                       0                      0                0  \n",
              "220830                      0                      0                0  \n",
              "120762                      0                      0                0  \n",
              "72977                       1                      0                0  \n",
              "220005                      0                      0                0  \n",
              "...                       ...                    ...              ...  \n",
              "921                         0                      0                0  \n",
              "314532                      0                      0                0  \n",
              "327467                      0                      0                1  \n",
              "195254                      0                      0                0  \n",
              "212218                      0                      0                0  \n",
              "\n",
              "[166716 rows x 16 columns]"
            ],
            "text/html": [
              "\n",
              "  <div id=\"df-c5e176e5-5820-4e45-954d-e2342ae404ef\">\n",
              "    <div class=\"colab-df-container\">\n",
              "      <div>\n",
              "<style scoped>\n",
              "    .dataframe tbody tr th:only-of-type {\n",
              "        vertical-align: middle;\n",
              "    }\n",
              "\n",
              "    .dataframe tbody tr th {\n",
              "        vertical-align: top;\n",
              "    }\n",
              "\n",
              "    .dataframe thead th {\n",
              "        text-align: right;\n",
              "    }\n",
              "</style>\n",
              "<table border=\"1\" class=\"dataframe\">\n",
              "  <thead>\n",
              "    <tr style=\"text-align: right;\">\n",
              "      <th></th>\n",
              "      <th>amt</th>\n",
              "      <th>city_pop</th>\n",
              "      <th>time_var</th>\n",
              "      <th>category_food_dining</th>\n",
              "      <th>category_gas_transport</th>\n",
              "      <th>category_grocery_net</th>\n",
              "      <th>category_grocery_pos</th>\n",
              "      <th>category_health_fitness</th>\n",
              "      <th>category_home</th>\n",
              "      <th>category_kids_pets</th>\n",
              "      <th>category_misc_net</th>\n",
              "      <th>category_misc_pos</th>\n",
              "      <th>category_personal_care</th>\n",
              "      <th>category_shopping_net</th>\n",
              "      <th>category_shopping_pos</th>\n",
              "      <th>category_travel</th>\n",
              "    </tr>\n",
              "  </thead>\n",
              "  <tbody>\n",
              "    <tr>\n",
              "      <th>50864</th>\n",
              "      <td>104.32</td>\n",
              "      <td>15623</td>\n",
              "      <td>0</td>\n",
              "      <td>0</td>\n",
              "      <td>0</td>\n",
              "      <td>0</td>\n",
              "      <td>0</td>\n",
              "      <td>0</td>\n",
              "      <td>0</td>\n",
              "      <td>0</td>\n",
              "      <td>0</td>\n",
              "      <td>0</td>\n",
              "      <td>1</td>\n",
              "      <td>0</td>\n",
              "      <td>0</td>\n",
              "      <td>0</td>\n",
              "    </tr>\n",
              "    <tr>\n",
              "      <th>220830</th>\n",
              "      <td>48.92</td>\n",
              "      <td>3833</td>\n",
              "      <td>0</td>\n",
              "      <td>0</td>\n",
              "      <td>0</td>\n",
              "      <td>0</td>\n",
              "      <td>0</td>\n",
              "      <td>0</td>\n",
              "      <td>0</td>\n",
              "      <td>0</td>\n",
              "      <td>0</td>\n",
              "      <td>0</td>\n",
              "      <td>0</td>\n",
              "      <td>0</td>\n",
              "      <td>0</td>\n",
              "      <td>0</td>\n",
              "    </tr>\n",
              "    <tr>\n",
              "      <th>120762</th>\n",
              "      <td>21.24</td>\n",
              "      <td>134056</td>\n",
              "      <td>0</td>\n",
              "      <td>0</td>\n",
              "      <td>0</td>\n",
              "      <td>0</td>\n",
              "      <td>0</td>\n",
              "      <td>0</td>\n",
              "      <td>1</td>\n",
              "      <td>0</td>\n",
              "      <td>0</td>\n",
              "      <td>0</td>\n",
              "      <td>0</td>\n",
              "      <td>0</td>\n",
              "      <td>0</td>\n",
              "      <td>0</td>\n",
              "    </tr>\n",
              "    <tr>\n",
              "      <th>72977</th>\n",
              "      <td>8.40</td>\n",
              "      <td>7163</td>\n",
              "      <td>0</td>\n",
              "      <td>0</td>\n",
              "      <td>0</td>\n",
              "      <td>0</td>\n",
              "      <td>0</td>\n",
              "      <td>0</td>\n",
              "      <td>0</td>\n",
              "      <td>0</td>\n",
              "      <td>0</td>\n",
              "      <td>0</td>\n",
              "      <td>0</td>\n",
              "      <td>1</td>\n",
              "      <td>0</td>\n",
              "      <td>0</td>\n",
              "    </tr>\n",
              "    <tr>\n",
              "      <th>220005</th>\n",
              "      <td>33.50</td>\n",
              "      <td>1126</td>\n",
              "      <td>0</td>\n",
              "      <td>1</td>\n",
              "      <td>0</td>\n",
              "      <td>0</td>\n",
              "      <td>0</td>\n",
              "      <td>0</td>\n",
              "      <td>0</td>\n",
              "      <td>0</td>\n",
              "      <td>0</td>\n",
              "      <td>0</td>\n",
              "      <td>0</td>\n",
              "      <td>0</td>\n",
              "      <td>0</td>\n",
              "      <td>0</td>\n",
              "    </tr>\n",
              "    <tr>\n",
              "      <th>...</th>\n",
              "      <td>...</td>\n",
              "      <td>...</td>\n",
              "      <td>...</td>\n",
              "      <td>...</td>\n",
              "      <td>...</td>\n",
              "      <td>...</td>\n",
              "      <td>...</td>\n",
              "      <td>...</td>\n",
              "      <td>...</td>\n",
              "      <td>...</td>\n",
              "      <td>...</td>\n",
              "      <td>...</td>\n",
              "      <td>...</td>\n",
              "      <td>...</td>\n",
              "      <td>...</td>\n",
              "      <td>...</td>\n",
              "    </tr>\n",
              "    <tr>\n",
              "      <th>921</th>\n",
              "      <td>13.43</td>\n",
              "      <td>601723</td>\n",
              "      <td>0</td>\n",
              "      <td>0</td>\n",
              "      <td>0</td>\n",
              "      <td>0</td>\n",
              "      <td>0</td>\n",
              "      <td>0</td>\n",
              "      <td>0</td>\n",
              "      <td>0</td>\n",
              "      <td>0</td>\n",
              "      <td>0</td>\n",
              "      <td>0</td>\n",
              "      <td>0</td>\n",
              "      <td>0</td>\n",
              "      <td>0</td>\n",
              "    </tr>\n",
              "    <tr>\n",
              "      <th>314532</th>\n",
              "      <td>145.63</td>\n",
              "      <td>129</td>\n",
              "      <td>1</td>\n",
              "      <td>0</td>\n",
              "      <td>0</td>\n",
              "      <td>0</td>\n",
              "      <td>1</td>\n",
              "      <td>0</td>\n",
              "      <td>0</td>\n",
              "      <td>0</td>\n",
              "      <td>0</td>\n",
              "      <td>0</td>\n",
              "      <td>0</td>\n",
              "      <td>0</td>\n",
              "      <td>0</td>\n",
              "      <td>0</td>\n",
              "    </tr>\n",
              "    <tr>\n",
              "      <th>327467</th>\n",
              "      <td>5.96</td>\n",
              "      <td>1758</td>\n",
              "      <td>0</td>\n",
              "      <td>0</td>\n",
              "      <td>0</td>\n",
              "      <td>0</td>\n",
              "      <td>0</td>\n",
              "      <td>0</td>\n",
              "      <td>0</td>\n",
              "      <td>0</td>\n",
              "      <td>0</td>\n",
              "      <td>0</td>\n",
              "      <td>0</td>\n",
              "      <td>0</td>\n",
              "      <td>0</td>\n",
              "      <td>1</td>\n",
              "    </tr>\n",
              "    <tr>\n",
              "      <th>195254</th>\n",
              "      <td>47.56</td>\n",
              "      <td>19408</td>\n",
              "      <td>1</td>\n",
              "      <td>0</td>\n",
              "      <td>0</td>\n",
              "      <td>1</td>\n",
              "      <td>0</td>\n",
              "      <td>0</td>\n",
              "      <td>0</td>\n",
              "      <td>0</td>\n",
              "      <td>0</td>\n",
              "      <td>0</td>\n",
              "      <td>0</td>\n",
              "      <td>0</td>\n",
              "      <td>0</td>\n",
              "      <td>0</td>\n",
              "    </tr>\n",
              "    <tr>\n",
              "      <th>212218</th>\n",
              "      <td>45.05</td>\n",
              "      <td>5666</td>\n",
              "      <td>0</td>\n",
              "      <td>0</td>\n",
              "      <td>1</td>\n",
              "      <td>0</td>\n",
              "      <td>0</td>\n",
              "      <td>0</td>\n",
              "      <td>0</td>\n",
              "      <td>0</td>\n",
              "      <td>0</td>\n",
              "      <td>0</td>\n",
              "      <td>0</td>\n",
              "      <td>0</td>\n",
              "      <td>0</td>\n",
              "      <td>0</td>\n",
              "    </tr>\n",
              "  </tbody>\n",
              "</table>\n",
              "<p>166716 rows × 16 columns</p>\n",
              "</div>\n",
              "      <button class=\"colab-df-convert\" onclick=\"convertToInteractive('df-c5e176e5-5820-4e45-954d-e2342ae404ef')\"\n",
              "              title=\"Convert this dataframe to an interactive table.\"\n",
              "              style=\"display:none;\">\n",
              "        \n",
              "  <svg xmlns=\"http://www.w3.org/2000/svg\" height=\"24px\"viewBox=\"0 0 24 24\"\n",
              "       width=\"24px\">\n",
              "    <path d=\"M0 0h24v24H0V0z\" fill=\"none\"/>\n",
              "    <path d=\"M18.56 5.44l.94 2.06.94-2.06 2.06-.94-2.06-.94-.94-2.06-.94 2.06-2.06.94zm-11 1L8.5 8.5l.94-2.06 2.06-.94-2.06-.94L8.5 2.5l-.94 2.06-2.06.94zm10 10l.94 2.06.94-2.06 2.06-.94-2.06-.94-.94-2.06-.94 2.06-2.06.94z\"/><path d=\"M17.41 7.96l-1.37-1.37c-.4-.4-.92-.59-1.43-.59-.52 0-1.04.2-1.43.59L10.3 9.45l-7.72 7.72c-.78.78-.78 2.05 0 2.83L4 21.41c.39.39.9.59 1.41.59.51 0 1.02-.2 1.41-.59l7.78-7.78 2.81-2.81c.8-.78.8-2.07 0-2.86zM5.41 20L4 18.59l7.72-7.72 1.47 1.35L5.41 20z\"/>\n",
              "  </svg>\n",
              "      </button>\n",
              "      \n",
              "  <style>\n",
              "    .colab-df-container {\n",
              "      display:flex;\n",
              "      flex-wrap:wrap;\n",
              "      gap: 12px;\n",
              "    }\n",
              "\n",
              "    .colab-df-convert {\n",
              "      background-color: #E8F0FE;\n",
              "      border: none;\n",
              "      border-radius: 50%;\n",
              "      cursor: pointer;\n",
              "      display: none;\n",
              "      fill: #1967D2;\n",
              "      height: 32px;\n",
              "      padding: 0 0 0 0;\n",
              "      width: 32px;\n",
              "    }\n",
              "\n",
              "    .colab-df-convert:hover {\n",
              "      background-color: #E2EBFA;\n",
              "      box-shadow: 0px 1px 2px rgba(60, 64, 67, 0.3), 0px 1px 3px 1px rgba(60, 64, 67, 0.15);\n",
              "      fill: #174EA6;\n",
              "    }\n",
              "\n",
              "    [theme=dark] .colab-df-convert {\n",
              "      background-color: #3B4455;\n",
              "      fill: #D2E3FC;\n",
              "    }\n",
              "\n",
              "    [theme=dark] .colab-df-convert:hover {\n",
              "      background-color: #434B5C;\n",
              "      box-shadow: 0px 1px 3px 1px rgba(0, 0, 0, 0.15);\n",
              "      filter: drop-shadow(0px 1px 2px rgba(0, 0, 0, 0.3));\n",
              "      fill: #FFFFFF;\n",
              "    }\n",
              "  </style>\n",
              "\n",
              "      <script>\n",
              "        const buttonEl =\n",
              "          document.querySelector('#df-c5e176e5-5820-4e45-954d-e2342ae404ef button.colab-df-convert');\n",
              "        buttonEl.style.display =\n",
              "          google.colab.kernel.accessAllowed ? 'block' : 'none';\n",
              "\n",
              "        async function convertToInteractive(key) {\n",
              "          const element = document.querySelector('#df-c5e176e5-5820-4e45-954d-e2342ae404ef');\n",
              "          const dataTable =\n",
              "            await google.colab.kernel.invokeFunction('convertToInteractive',\n",
              "                                                     [key], {});\n",
              "          if (!dataTable) return;\n",
              "\n",
              "          const docLinkHtml = 'Like what you see? Visit the ' +\n",
              "            '<a target=\"_blank\" href=https://colab.research.google.com/notebooks/data_table.ipynb>data table notebook</a>'\n",
              "            + ' to learn more about interactive tables.';\n",
              "          element.innerHTML = '';\n",
              "          dataTable['output_type'] = 'display_data';\n",
              "          await google.colab.output.renderOutput(dataTable, element);\n",
              "          const docLink = document.createElement('div');\n",
              "          docLink.innerHTML = docLinkHtml;\n",
              "          element.appendChild(docLink);\n",
              "        }\n",
              "      </script>\n",
              "    </div>\n",
              "  </div>\n",
              "  "
            ]
          },
          "metadata": {},
          "execution_count": 9
        }
      ]
    },
    {
      "cell_type": "markdown",
      "source": [
        "# 2.) Make three sets of training data (Oversample, Undersample and SMOTE)"
      ],
      "metadata": {
        "id": "lbkpNPyN-Gnk"
      }
    },
    {
      "cell_type": "code",
      "source": [
        "from imblearn.over_sampling import RandomOverSampler\n",
        "from imblearn.under_sampling import RandomUnderSampler\n",
        "from imblearn.over_sampling import SMOTE\n",
        "from collections import Counter"
      ],
      "metadata": {
        "id": "gG88uxbiV4lZ"
      },
      "execution_count": 10,
      "outputs": []
    },
    {
      "cell_type": "code",
      "source": [
        "# Oversample\n",
        "ros = RandomOverSampler(random_state=0)\n",
        "X_train_over, y_train_over = ros.fit_resample(X_train, y_train)"
      ],
      "metadata": {
        "id": "cNu6ysyV988v"
      },
      "execution_count": 11,
      "outputs": []
    },
    {
      "cell_type": "code",
      "source": [
        "# Look at the number of records after oversampling \n",
        "sorted(Counter(y_train_over).items())"
      ],
      "metadata": {
        "colab": {
          "base_uri": "https://localhost:8080/"
        },
        "id": "iaU1M7g-m1od",
        "outputId": "4b0f457d-9278-46a1-d403-b97578738957"
      },
      "execution_count": 12,
      "outputs": [
        {
          "output_type": "execute_result",
          "data": {
            "text/plain": [
              "[(0, 387480), (1, 387480)]"
            ]
          },
          "metadata": {},
          "execution_count": 12
        }
      ]
    },
    {
      "cell_type": "code",
      "source": [
        "# Undersample\n",
        "rus = RandomUnderSampler(random_state=0)\n",
        "X_train_under, y_train_under = rus.fit_resample(X_train, y_train)"
      ],
      "metadata": {
        "id": "ifsNzHvOlpdf"
      },
      "execution_count": 13,
      "outputs": []
    },
    {
      "cell_type": "code",
      "source": [
        "# Look at the number of records after undersampling \n",
        "sorted(Counter(y_train_under).items())"
      ],
      "metadata": {
        "colab": {
          "base_uri": "https://localhost:8080/"
        },
        "id": "eNMbORfBnGOb",
        "outputId": "a6f3d11b-c742-422f-a6c9-4bf7ec0f511d"
      },
      "execution_count": 14,
      "outputs": [
        {
          "output_type": "execute_result",
          "data": {
            "text/plain": [
              "[(0, 1523), (1, 1523)]"
            ]
          },
          "metadata": {},
          "execution_count": 14
        }
      ]
    },
    {
      "cell_type": "code",
      "source": [
        "# SMOTE\n",
        "oversample = SMOTE()\n",
        "X_train_SMOTE, y_train_SMOTE = oversample.fit_resample(X_train, y_train)"
      ],
      "metadata": {
        "id": "xQE60rwv98_F"
      },
      "execution_count": 15,
      "outputs": []
    },
    {
      "cell_type": "code",
      "source": [
        "# Look at the number of records after oversampling using SMOTE\n",
        "sorted(Counter(y_train_SMOTE).items())"
      ],
      "metadata": {
        "colab": {
          "base_uri": "https://localhost:8080/"
        },
        "id": "1Gy2VeDWnI9n",
        "outputId": "de70b175-d8f7-4e41-e864-718bec32c837"
      },
      "execution_count": 16,
      "outputs": [
        {
          "output_type": "execute_result",
          "data": {
            "text/plain": [
              "[(0, 387480), (1, 387480)]"
            ]
          },
          "metadata": {},
          "execution_count": 16
        }
      ]
    },
    {
      "cell_type": "markdown",
      "source": [
        "# 3.) Train three logistic regression models "
      ],
      "metadata": {
        "id": "bIJx2jvD-KEI"
      }
    },
    {
      "cell_type": "code",
      "source": [
        "from sklearn.linear_model import LogisticRegression"
      ],
      "metadata": {
        "id": "QhVMq92zvz4s"
      },
      "execution_count": 17,
      "outputs": []
    },
    {
      "cell_type": "code",
      "source": [
        "log_over = LogisticRegression().fit(X_train_over, y_train_over)"
      ],
      "metadata": {
        "id": "NvwomEoaGAgN"
      },
      "execution_count": 18,
      "outputs": []
    },
    {
      "cell_type": "code",
      "source": [
        "log_under = LogisticRegression().fit(X_train_under, y_train_under)"
      ],
      "metadata": {
        "id": "AwXa-bvX99Id"
      },
      "execution_count": 19,
      "outputs": []
    },
    {
      "cell_type": "code",
      "source": [
        "log_SMOTE = LogisticRegression().fit(X_train_SMOTE, y_train_SMOTE)"
      ],
      "metadata": {
        "id": "VG0_5eniGH9P"
      },
      "execution_count": 20,
      "outputs": []
    },
    {
      "cell_type": "markdown",
      "source": [
        "# 4.) Test the three models"
      ],
      "metadata": {
        "id": "PeurmqI4-OoC"
      }
    },
    {
      "cell_type": "code",
      "source": [
        "# The accuracy of the oversampling model\n",
        "print(f'The accuracy of logistic regression using oversampled data is {log_over.score(X_test, y_test)}.')"
      ],
      "metadata": {
        "id": "8tpSsOC0xsKs",
        "colab": {
          "base_uri": "https://localhost:8080/"
        },
        "outputId": "fc698cb6-98ff-46fe-cada-06a3b71706a0"
      },
      "execution_count": 21,
      "outputs": [
        {
          "output_type": "stream",
          "name": "stdout",
          "text": [
            "The accuracy of logistic regression using oversampled data is 0.17680966433935555.\n"
          ]
        }
      ]
    },
    {
      "cell_type": "code",
      "source": [
        "# The accuracy of the undersampling model\n",
        "print(f'The accuracy of logistic regression using undersampled data is {log_under.score(X_test, y_test)}.')"
      ],
      "metadata": {
        "id": "zwq8KTmsXhFY",
        "colab": {
          "base_uri": "https://localhost:8080/"
        },
        "outputId": "ec8379c4-76cd-4d35-b746-25cba57ef3f1"
      },
      "execution_count": 22,
      "outputs": [
        {
          "output_type": "stream",
          "name": "stdout",
          "text": [
            "The accuracy of logistic regression using undersampled data is 0.17684565368650879.\n"
          ]
        }
      ]
    },
    {
      "cell_type": "code",
      "source": [
        "# The accuracy of the SMOTE model\n",
        "print(f'The accuracy of logistic regression using SMOTE data is {log_SMOTE.score(X_test, y_test)}.')"
      ],
      "metadata": {
        "id": "DjgQ8BQM99WR",
        "colab": {
          "base_uri": "https://localhost:8080/"
        },
        "outputId": "7f84edce-d604-4c30-bce3-14a6e7766928"
      },
      "execution_count": 23,
      "outputs": [
        {
          "output_type": "stream",
          "name": "stdout",
          "text": [
            "The accuracy of logistic regression using SMOTE data is 0.1784051920631493.\n"
          ]
        }
      ]
    },
    {
      "cell_type": "markdown",
      "source": [
        "# 5.) Which performed best in Out of Sample metrics?"
      ],
      "metadata": {
        "id": "6isBwtmL-R4p"
      }
    },
    {
      "cell_type": "code",
      "source": [
        "import matplotlib.pyplot as plt\n",
        "from sklearn.metrics import roc_curve, auc"
      ],
      "metadata": {
        "id": "9fwAhujT-RN4"
      },
      "execution_count": 24,
      "outputs": []
    },
    {
      "cell_type": "code",
      "source": [
        "# Oversampling\n",
        "# make predictions on the test data using predict_proba\n",
        "y_pred_over = log_over.predict_proba(X_test)[:, 1]\n",
        "\n",
        "# calculate the false positive rate, true positive rate and thresholds\n",
        "fpr_over, tpr_over, thresholds_over = roc_curve(y_test, y_pred_over)\n",
        "\n",
        "# calculate the AUC score\n",
        "roc_auc_over = auc(fpr_over, tpr_over)\n",
        "\n",
        "# plot the ROC curve\n",
        "plt.title('ROC curve of logistic regression using oversampling data')\n",
        "plt.plot(fpr_over, tpr_over, 'b', label = 'AUC = %0.5f' % roc_auc_over)\n",
        "plt.legend(loc = 'lower right')\n",
        "plt.plot([0, 1], [0, 1],'r--')\n",
        "plt.xlim([0, 1])\n",
        "plt.ylim([0, 1])\n",
        "plt.ylabel('True Positive Rate')\n",
        "plt.xlabel('False Positive Rate')\n",
        "plt.show()"
      ],
      "metadata": {
        "id": "POIuy3rH-RQv",
        "colab": {
          "base_uri": "https://localhost:8080/",
          "height": 295
        },
        "outputId": "f4f93181-d164-44f6-bf1b-ee7c74816a00"
      },
      "execution_count": 36,
      "outputs": [
        {
          "output_type": "display_data",
          "data": {
            "text/plain": [
              "<Figure size 432x288 with 1 Axes>"
            ],
            "image/png": "[encoded data removed]"
          },
          "metadata": {
            "needs_background": "light"
          }
        }
      ]
    },
    {
      "cell_type": "code",
      "source": [
        "# Undersampling\n",
        "# make predictions on the test data using predict_proba\n",
        "y_pred_under = log_under.predict_proba(X_test)[:, 1]\n",
        "\n",
        "# calculate the false positive rate, true positive rate and thresholds\n",
        "fpr_under, tpr_under, thresholds_under = roc_curve(y_test, y_pred_under)\n",
        "\n",
        "# calculate the AUC score\n",
        "roc_auc_under = auc(fpr_under, tpr_under)\n",
        "\n",
        "# plot the ROC curve\n",
        "plt.title('ROC curve of logistic regression using undersampling data')\n",
        "plt.plot(fpr_under, tpr_under, 'b', label = 'AUC = %0.5f' % roc_auc_under)\n",
        "plt.legend(loc = 'lower right')\n",
        "plt.plot([0, 1], [0, 1],'r--')\n",
        "plt.xlim([0, 1])\n",
        "plt.ylim([0, 1])\n",
        "plt.ylabel('True Positive Rate')\n",
        "plt.xlabel('False Positive Rate')\n",
        "plt.show()"
      ],
      "metadata": {
        "id": "g14fgEkT-RTV",
        "colab": {
          "base_uri": "https://localhost:8080/",
          "height": 295
        },
        "outputId": "c9ba840f-ad2f-439b-d763-6a4dbf6a9fa1"
      },
      "execution_count": 37,
      "outputs": [
        {
          "output_type": "display_data",
          "data": {
            "text/plain": [
              "<Figure size 432x288 with 1 Axes>"
            ],
            "image/png": "[encoded data removed]"
          },
          "metadata": {
            "needs_background": "light"
          }
        }
      ]
    },
    {
      "cell_type": "code",
      "source": [
        "# SMOTE\n",
        "# make predictions on the test data using predict_proba\n",
        "y_pred_SMOTE = log_SMOTE.predict_proba(X_test)[:, 1]\n",
        "\n",
        "# calculate the false positive rate, true positive rate and thresholds\n",
        "fpr_SMOTE, tpr_SMOTE, thresholds_SMOTE = roc_curve(y_test, y_pred_SMOTE)\n",
        "\n",
        "# calculate the AUC score\n",
        "roc_auc_SMOTE = auc(fpr_SMOTE, tpr_SMOTE)\n",
        "\n",
        "# plot the ROC curve\n",
        "plt.title('ROC curve of logistic regression using SMOTE data')\n",
        "plt.plot(fpr_SMOTE, tpr_SMOTE, 'b', label = 'AUC = %0.5f' % roc_auc_SMOTE)\n",
        "plt.legend(loc = 'lower right')\n",
        "plt.plot([0, 1], [0, 1],'r--')\n",
        "plt.xlim([0, 1])\n",
        "plt.ylim([0, 1])\n",
        "plt.ylabel('True Positive Rate')\n",
        "plt.xlabel('False Positive Rate')\n",
        "plt.show()"
      ],
      "metadata": {
        "id": "5gAU63Wc-RWN",
        "colab": {
          "base_uri": "https://localhost:8080/",
          "height": 295
        },
        "outputId": "62fbaabc-28fc-4762-e13c-61eb855922fd"
      },
      "execution_count": 38,
      "outputs": [
        {
          "output_type": "display_data",
          "data": {
            "text/plain": [
              "<Figure size 432x288 with 1 Axes>"
            ],
            "image/png": "[encoded data removed]"
          },
          "metadata": {
            "needs_background": "light"
          }
        }
      ]
    },
    {
      "cell_type": "markdown",
      "source": [
        "The SMOTE method is the best model in terms of accuracy as shown in the 4th question. However, the oversample method is the best according to AUC scores."
      ],
      "metadata": {
        "id": "aLWy1hOHzPj6"
      }
    },
    {
      "cell_type": "markdown",
      "source": [
        "# 6.) Pick two features and plot the two classes before and after SMOTE."
      ],
      "metadata": {
        "id": "aQa3sanl-XUk"
      }
    },
    {
      "cell_type": "code",
      "source": [
        "raw_temp = pd.concat([X_train, y_train], axis = 1)"
      ],
      "metadata": {
        "id": "vVaHpqf9wHj7"
      },
      "execution_count": 31,
      "outputs": []
    },
    {
      "cell_type": "code",
      "source": [
        "# Before SMOTE\n",
        "plt.title('Before SMOTE')\n",
        "plt.scatter(raw_temp[raw_temp['is_fraud'] == 0]['amt'], raw_temp[raw_temp['is_fraud'] == 0]['city_pop'])\n",
        "plt.scatter(raw_temp[raw_temp['is_fraud'] == 1]['amt'], raw_temp[raw_temp['is_fraud'] == 1]['city_pop'])\n",
        "plt.legend(['Not Fraud', 'Fraud'])\n",
        "plt.xlabel('Amount')\n",
        "plt.ylabel('Population')"
      ],
      "metadata": {
        "id": "YphNDj12aFhP",
        "colab": {
          "base_uri": "https://localhost:8080/",
          "height": 313
        },
        "outputId": "b9af24f1-77ed-45c6-91f6-ba0fb2254518"
      },
      "execution_count": 33,
      "outputs": [
        {
          "output_type": "execute_result",
          "data": {
            "text/plain": [
              "Text(0, 0.5, 'Population')"
            ]
          },
          "metadata": {},
          "execution_count": 33
        },
        {
          "output_type": "display_data",
          "data": {
            "text/plain": [
              "<Figure size 432x288 with 1 Axes>"
            ],
            "image/png": "[encoded data removed]"
          },
          "metadata": {
            "needs_background": "light"
          }
        }
      ]
    },
    {
      "cell_type": "code",
      "source": [
        "raw_SMOTE = pd.concat([X_train_SMOTE, y_train_SMOTE], axis = 1)"
      ],
      "metadata": {
        "id": "M2VIMPoZze2c"
      },
      "execution_count": 34,
      "outputs": []
    },
    {
      "cell_type": "code",
      "source": [
        "# Before SMOTE\n",
        "plt.title('After SMOTE')\n",
        "plt.scatter(raw_SMOTE[raw_SMOTE['is_fraud'] == 0]['amt'], raw_SMOTE[raw_SMOTE['is_fraud'] == 0]['city_pop'])\n",
        "plt.scatter(raw_SMOTE[raw_SMOTE['is_fraud'] == 1]['amt'], raw_SMOTE[raw_SMOTE['is_fraud'] == 1]['city_pop'])\n",
        "plt.legend(['Not Fraud', 'Fraud'])\n",
        "plt.xlabel('Amount')\n",
        "plt.ylabel('Population')"
      ],
      "metadata": {
        "id": "G-MUv66T-RZE",
        "colab": {
          "base_uri": "https://localhost:8080/",
          "height": 313
        },
        "outputId": "32de64f7-d65b-4bf6-cfc1-70edee5be5d3"
      },
      "execution_count": 35,
      "outputs": [
        {
          "output_type": "execute_result",
          "data": {
            "text/plain": [
              "Text(0, 0.5, 'Population')"
            ]
          },
          "metadata": {},
          "execution_count": 35
        },
        {
          "output_type": "display_data",
          "data": {
            "text/plain": [
              "<Figure size 432x288 with 1 Axes>"
            ],
            "image/png": "[encoded data removed]"
          },
          "metadata": {
            "needs_background": "light"
          }
        }
      ]
    }
  ]
}